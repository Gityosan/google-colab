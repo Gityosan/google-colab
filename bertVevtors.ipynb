{
  "nbformat": 4,
  "nbformat_minor": 0,
  "metadata": {
    "colab": {
      "provenance": [],
      "collapsed_sections": [
        "o0CCGDmCd0Ji",
        "kgnOijt3M5A6",
        "ezlvBruHUPFG"
      ],
      "authorship_tag": "ABX9TyM+83ah+7CuK5tCB5RLnfco"
    },
    "kernelspec": {
      "name": "python3",
      "display_name": "Python 3"
    },
    "language_info": {
      "name": "python"
    },
    "gpuClass": "premium",
    "accelerator": "GPU"
  },
  "cells": [
    {
      "cell_type": "markdown",
      "source": [
        "### インストール・初期設定等"
      ],
      "metadata": {
        "id": "o0CCGDmCd0Ji"
      }
    },
    {
      "cell_type": "code",
      "execution_count": 1,
      "metadata": {
        "colab": {
          "base_uri": "https://localhost:8080/"
        },
        "outputId": "a5d77dd6-2983-4fa9-f49e-e459a951699d",
        "id": "yYsqq0Qrd0Jj"
      },
      "outputs": [
        {
          "output_type": "stream",
          "name": "stdout",
          "text": [
            "Python 3.8.10\n",
            "Drive already mounted at /content/drive; to attempt to forcibly remount, call drive.mount(\"/content/drive\", force_remount=True).\n"
          ]
        }
      ],
      "source": [
        "!pip install -q transformers ipadic fugashi\n",
        "!python -V\n",
        "!rm -rf sample_data/\n",
        "from google.colab import drive\n",
        "\n",
        "drive.mount(\"/content/drive\")"
      ]
    },
    {
      "cell_type": "code",
      "execution_count": 2,
      "metadata": {
        "id": "h7pDaCc2d0Jj"
      },
      "outputs": [],
      "source": [
        "# 標準ライブラリ\n",
        "import gc\n",
        "import glob\n",
        "import json\n",
        "import os\n",
        "import pickle\n",
        "import random\n",
        "import re\n",
        "import unicodedata\n",
        "\n",
        "import numpy as np\n",
        "import pandas as pd\n",
        "import torch\n",
        "from tqdm import tqdm\n",
        "from transformers import BertJapaneseTokenizer, BertModel"
      ]
    },
    {
      "cell_type": "code",
      "execution_count": 3,
      "metadata": {
        "id": "Hh5jjwZkrgPJ"
      },
      "outputs": [],
      "source": [
        "# 前処理\n",
        "def preprocessing(text):\n",
        "    text = re.sub(r\"http\\S+\", \"\", text)\n",
        "    text = re.sub(r\"@[w/:%#$&?()~.=+-…]+[:]? \", \"\", text)\n",
        "    text = re.sub(r\"(^RT )\", \"\", text)\n",
        "    text = text.lower()  # 小文字化\n",
        "    text = re.sub(\"\\r\", \"\", text)  # \\r\\nをdelete\n",
        "    text = re.sub(\"\\n\", \"\", text)  # \\r\\nをdelete\n",
        "    text = re.sub(r\"\\d+\", \"\", text)  # 数字列をdelete\n",
        "    ZEN = \"\".join(chr(0xFF01 + i) for i in range(94))  # 全角記号一覧\n",
        "    HAN = \"\".join(chr(0x21 + i) for i in range(94))  # 半角記号一覧\n",
        "    ETC = \"\".join(chr(0x3000 + i) for i in range(30))  # その他主要そうな記号\n",
        "    text = text.translate(str.maketrans(ZEN, HAN))  # 全角記号を半角記号に置換\n",
        "    FIXED_HAN = re.sub(r\"[\\w]+\", \"\", HAN)\n",
        "    return re.sub(\"[\" + \"~\" + \"*\" + \"＊\" + ETC + FIXED_HAN + \"]\", \" \", text)  # 記号を消す\n",
        "\n",
        "\n",
        "# JSONからdf作成\n",
        "def JSONtoDF(path):\n",
        "    with open(path) as f:\n",
        "        j = json.load(f)\n",
        "        return pd.json_normalize(data=j[\"data\"]).drop(\n",
        "            [\"created_at\", \"edit_history_tweet_ids\"], axis=1\n",
        "        )\n",
        "\n",
        "\n",
        "# 上記2関数を組み合わせてcorpusを用意\n",
        "def prepareCorpus(path_list):\n",
        "    res = pd.DataFrame()\n",
        "    for path in path_list:\n",
        "        df = JSONtoDF(path)\n",
        "        df[\"preprocessedText\"] = [preprocessing(text) for text in df[\"text\"]]\n",
        "        res = pd.concat([res, df])\n",
        "    return res.reset_index(drop=True)\n",
        "\n",
        "\n",
        "def prepare_target_data(target_data_path=\"\"):\n",
        "    if not target_data_path or not os.path.exists(\"/content/\" + target_data_path):\n",
        "        print(\"Exit from function because the file doesn't exist\")\n",
        "        return\n",
        "    with open(target_data_path) as f:\n",
        "        target_data = json.load(f)\n",
        "    target_keys = [\"old\", \"new\"]\n",
        "    for key in target_data[\"data\"]:\n",
        "        item = target_data[\"data\"][key]\n",
        "        for target_key in target_keys:\n",
        "            if not len([i[\"sentence\"] for i in item[target_key]]):\n",
        "                continue\n",
        "            input = tokenizer(\n",
        "                [unicodedata.normalize(\"NFC\", i[\"sentence\"]) for i in item[target_key]],\n",
        "                return_tensors=\"pt\",\n",
        "                max_length=128,\n",
        "                truncation=True,\n",
        "                padding=\"max_length\",\n",
        "            )\n",
        "            input = {k: v.to(device) for k, v in input.items()}\n",
        "            outputs = model(**input)\n",
        "            for i, v in zip(item[target_key], outputs.last_hidden_state):\n",
        "                i[\"vector\"] = torch.mean(v, 0).detach().tolist()\n",
        "    with open(target_data_path, \"w\", encoding=\"utf-8\") as f:\n",
        "        json.dump(target_data, f, ensure_ascii=False)\n",
        "\n",
        "\n",
        "def get_vectors(\n",
        "    text_list=[],\n",
        "    target_word=None,\n",
        "    output_path=None,\n",
        "    sequence_length=256,\n",
        "    buffer_size=512,\n",
        "    layer_range=(0, 12),\n",
        "):\n",
        "    print(\"------------------------\")\n",
        "\n",
        "    # check params\n",
        "    if not target_word or not output_path or not len(text_list):\n",
        "        print(\"Exit from function due to improper parameters\")\n",
        "        return\n",
        "\n",
        "    # check outputs\n",
        "    if not os.path.exists(os.path.dirname(output_path)):\n",
        "        os.makedirs(os.path.dirname(output_path), exist_ok=True)\n",
        "    if os.path.exists(\"/content/\" + output_path):\n",
        "        print(\"Exit from function because the file already exists\")\n",
        "        return\n",
        "\n",
        "    print(\"Start process : get_vectors\")\n",
        "\n",
        "    # initialize\n",
        "    vectors = []\n",
        "    start_index = 0\n",
        "    text_list = list(filter(lambda x: target_word in x, text_list))\n",
        "    while start_index < len(text_list):\n",
        "        input = tokenizer(\n",
        "            text_list[start_index : start_index + buffer_size],\n",
        "            return_tensors=\"pt\",\n",
        "            max_length=sequence_length,\n",
        "            truncation=True,\n",
        "            padding=\"max_length\",\n",
        "        )\n",
        "        input = {k: v.to(device) for k, v in input.items()}\n",
        "        with torch.no_grad():\n",
        "            outputs = model(**input, output_hidden_states=True)\n",
        "            outputs_vectors = torch.mean(\n",
        "                torch.stack(outputs.hidden_states[layer_range[0] : layer_range[1]]), 0\n",
        "            )\n",
        "            ids = tokenizer.encode(target_word)\n",
        "            for i, v in tqdm(zip(input[\"input_ids\"], outputs_vectors)):\n",
        "                if ids[1] not in list(i):\n",
        "                    continue\n",
        "                pos = list(i).index(ids[1])\n",
        "                vectors.append(\n",
        "                    {\n",
        "                        \"position\": (pos, pos + len(ids) - 2),\n",
        "                        \"vector\": torch.mean(v, 0).detach().tolist(),\n",
        "                    }\n",
        "                )\n",
        "        start_index += buffer_size\n",
        "\n",
        "    print(\"Finish process : {} / {}\".format(target_word, len(vectors)))\n",
        "    with open(output_path, \"wb\") as f:\n",
        "        pickle.dump(vectors, f)\n",
        "\n",
        "\n",
        "def compare_sentences(\n",
        "    vectors_path=\"\", target_data={}, target_word=\"\", result_data_path=\"\", year=\"\"\n",
        "):\n",
        "    print(\"Start process : compare_sentences\")\n",
        "    with open(vectors_path, \"rb\") as f:\n",
        "        vectors = pickle.load(f)\n",
        "    with open(result_data_path) as f:\n",
        "        result_data = json.load(f)\n",
        "        result_data.setdefault(\"data\",{})\n",
        "        result_data[\"data\"].setdefault(str(target_word),{})\n",
        "        result_data[\"data\"][target_word][str(year)] = {\"total\": 0, \"old\": 0, \"new\": 0}\n",
        "    # 文章単位での判別\n",
        "    item = result_data[\"data\"][target_word][year]\n",
        "    item[\"total\"] = len(vectors)\n",
        "    for v in vectors:\n",
        "        similarity_to_old = torch.mean(\n",
        "            torch.tensor(\n",
        "                [\n",
        "                    torch.cosine_similarity(\n",
        "                        torch.tensor(v[\"vector\"]), torch.tensor(old[\"vector\"]), 0\n",
        "                    )\n",
        "                    for old in target_data[\"data\"][target_word][\"old\"]\n",
        "                ]\n",
        "            ),\n",
        "            0,\n",
        "        )\n",
        "        similarity_to_new = torch.mean(\n",
        "            torch.tensor(\n",
        "                [\n",
        "                    torch.cosine_similarity(\n",
        "                        torch.tensor(v[\"vector\"]), torch.tensor(new[\"vector\"]), 0\n",
        "                    )\n",
        "                    for new in target_data[\"data\"][target_word][\"new\"]\n",
        "                ]\n",
        "            ),\n",
        "            0,\n",
        "        )\n",
        "        if similarity_to_new <= similarity_to_old:\n",
        "            item[\"old\"] += 1\n",
        "        else:\n",
        "            item[\"new\"] += 1\n",
        "    print(\n",
        "        \"Finish process : {:.2%} / {:.2%}\".format(\n",
        "            item[\"old\"] / item[\"total\"], item[\"new\"] / item[\"total\"]\n",
        "        )\n",
        "    )\n",
        "    with open(result_data_path, \"w\", encoding=\"utf-8\") as f:\n",
        "        json.dump(result_data, f, ensure_ascii=False)"
      ]
    },
    {
      "cell_type": "markdown",
      "source": [
        "### 主要処理"
      ],
      "metadata": {
        "id": "2qte-vsL-iYr"
      }
    },
    {
      "cell_type": "code",
      "source": [
        "# @title  { vertical-output: true, form-width: \"35%\", display-mode: \"both\" }\n",
        "\n",
        "# 初期設定群\n",
        "base_dir = \"drive/MyDrive/script/bert/\"  # @param {type:\"string\"}\n",
        "with open(base_dir + \"target_data.json\", \"r\", encoding=\"utf-8\") as f:\n",
        "    target_data = json.load(f)\n",
        "\n",
        "target_words = [unicodedata.normalize(\"NFC\", w) for w in target_data[\"meta\"][\"target_words\"]]\n",
        "\n",
        "path_list = glob.glob(base_dir + \"twitter-corpus/*.json\")\n",
        "path_list.sort()\n",
        "oparation = [\n",
        "    {\n",
        "        \"word\": w,\n",
        "        \"year\": y,\n",
        "        \"path_list\": list(\n",
        "            filter(\n",
        "                lambda x: w in unicodedata.normalize(\"NFC\", x) and str(y) in x,\n",
        "                path_list,\n",
        "            )\n",
        "        ),\n",
        "    }\n",
        "    for w in target_words\n",
        "    for y in range(2007, 2021)\n",
        "]\n",
        "\n",
        "target = \"cl-tohoku/bert-base-japanese-whole-word-masking\"  # @param {type:\"string\"}\n",
        "device = torch.device(\"cuda\" if torch.cuda.is_available() else \"cpu\")\n",
        "tokenizer = BertJapaneseTokenizer.from_pretrained(target, tokenize_chinese_chars=False)\n",
        "model = BertModel.from_pretrained(target).to(device)\n"
      ],
      "metadata": {
        "id": "8BcAgIdz0OaS",
        "colab": {
          "base_uri": "https://localhost:8080/"
        },
        "outputId": "555bc55a-969d-4010-f5fe-010b6055e153"
      },
      "execution_count": 4,
      "outputs": [
        {
          "output_type": "stream",
          "name": "stderr",
          "text": [
            "Some weights of the model checkpoint at cl-tohoku/bert-base-japanese-whole-word-masking were not used when initializing BertModel: ['cls.predictions.transform.LayerNorm.weight', 'cls.seq_relationship.bias', 'cls.predictions.bias', 'cls.predictions.transform.dense.weight', 'cls.predictions.transform.dense.bias', 'cls.predictions.transform.LayerNorm.bias', 'cls.seq_relationship.weight', 'cls.predictions.decoder.weight']\n",
            "- This IS expected if you are initializing BertModel from the checkpoint of a model trained on another task or with another architecture (e.g. initializing a BertForSequenceClassification model from a BertForPreTraining model).\n",
            "- This IS NOT expected if you are initializing BertModel from the checkpoint of a model that you expect to be exactly identical (initializing a BertForSequenceClassification model from a BertForSequenceClassification model).\n"
          ]
        }
      ]
    },
    {
      "cell_type": "code",
      "source": [
        "# target_dataの例文が変わる度にこのセルを実行する\n",
        "prepare_target_data(base_dir + \"target_data.json\")"
      ],
      "metadata": {
        "id": "gvKtf9t85Tuy"
      },
      "execution_count": null,
      "outputs": []
    },
    {
      "cell_type": "code",
      "execution_count": 5,
      "metadata": {
        "id": "w_xsCuP8UdCB",
        "colab": {
          "base_uri": "https://localhost:8080/"
        },
        "outputId": "26cb6bbb-bd55-43a6-cef3-370ee01fdde3"
      },
      "outputs": [
        {
          "output_type": "stream",
          "name": "stdout",
          "text": [
            "------------------------\n",
            "Start process : get_vectors\n"
          ]
        },
        {
          "output_type": "stream",
          "name": "stderr",
          "text": [
            "512it [00:02, 238.76it/s]\n",
            "512it [00:02, 240.51it/s]\n",
            "396it [00:01, 244.08it/s]\n"
          ]
        },
        {
          "output_type": "stream",
          "name": "stdout",
          "text": [
            "Finish process : 失笑 / 1420\n",
            "Start process : compare_sentences\n",
            "Finish process : 61.27% / 38.73%\n",
            "------------------------\n",
            "Start process : get_vectors\n"
          ]
        },
        {
          "output_type": "stream",
          "name": "stderr",
          "text": [
            "512it [00:02, 229.69it/s]\n",
            "512it [00:02, 235.10it/s]\n",
            "512it [00:02, 235.48it/s]\n",
            "512it [00:02, 236.89it/s]\n",
            "512it [00:02, 236.19it/s]\n",
            "27it [00:00, 251.94it/s]\n"
          ]
        },
        {
          "output_type": "stream",
          "name": "stdout",
          "text": [
            "Finish process : 失笑 / 2587\n",
            "Start process : compare_sentences\n",
            "Finish process : 72.94% / 27.06%\n",
            "------------------------\n",
            "Start process : get_vectors\n"
          ]
        },
        {
          "output_type": "stream",
          "name": "stderr",
          "text": [
            "512it [00:02, 222.60it/s]\n",
            "512it [00:02, 227.00it/s]\n",
            "512it [00:02, 227.93it/s]\n",
            "512it [00:02, 228.77it/s]\n",
            "512it [00:02, 224.71it/s]\n",
            "512it [00:02, 224.42it/s]\n",
            "512it [00:02, 230.40it/s]\n",
            "512it [00:02, 229.79it/s]\n",
            "512it [00:02, 228.19it/s]\n",
            "357it [00:01, 231.90it/s]\n"
          ]
        },
        {
          "output_type": "stream",
          "name": "stdout",
          "text": [
            "Finish process : 失笑 / 4965\n",
            "Start process : compare_sentences\n",
            "Finish process : 78.09% / 21.91%\n",
            "------------------------\n",
            "Start process : get_vectors\n"
          ]
        },
        {
          "output_type": "stream",
          "name": "stderr",
          "text": [
            "512it [00:02, 221.34it/s]\n",
            "512it [00:02, 224.83it/s]\n",
            "512it [00:02, 231.18it/s]\n",
            "512it [00:02, 223.27it/s]\n",
            "512it [00:02, 225.48it/s]\n",
            "512it [00:02, 226.03it/s]\n",
            "512it [00:02, 225.57it/s]\n",
            "512it [00:02, 223.91it/s]\n",
            "512it [00:02, 223.61it/s]\n",
            "326it [00:01, 230.35it/s]\n"
          ]
        },
        {
          "output_type": "stream",
          "name": "stdout",
          "text": [
            "Finish process : 失笑 / 4934\n",
            "Start process : compare_sentences\n",
            "Finish process : 75.92% / 24.08%\n",
            "------------------------\n",
            "Start process : get_vectors\n"
          ]
        },
        {
          "output_type": "stream",
          "name": "stderr",
          "text": [
            "512it [00:02, 228.95it/s]\n",
            "512it [00:02, 233.60it/s]\n",
            "512it [00:02, 235.67it/s]\n",
            "512it [00:02, 225.79it/s]\n",
            "512it [00:02, 228.74it/s]\n",
            "512it [00:02, 232.96it/s]\n",
            "512it [00:02, 236.12it/s]\n",
            "512it [00:02, 224.38it/s]\n",
            "512it [00:02, 229.35it/s]\n",
            "316it [00:01, 226.54it/s]\n"
          ]
        },
        {
          "output_type": "stream",
          "name": "stdout",
          "text": [
            "Finish process : 失笑 / 4924\n",
            "Start process : compare_sentences\n",
            "Finish process : 73.05% / 26.95%\n",
            "------------------------\n",
            "Start process : get_vectors\n"
          ]
        },
        {
          "output_type": "stream",
          "name": "stderr",
          "text": [
            "512it [00:02, 230.43it/s]\n",
            "512it [00:02, 233.24it/s]\n",
            "512it [00:02, 235.25it/s]\n",
            "512it [00:02, 239.69it/s]\n",
            "512it [00:02, 239.43it/s]\n",
            "512it [00:02, 247.12it/s]\n",
            "512it [00:02, 240.53it/s]\n",
            "512it [00:02, 231.65it/s]\n",
            "512it [00:02, 229.73it/s]\n",
            "240it [00:01, 235.11it/s]\n"
          ]
        },
        {
          "output_type": "stream",
          "name": "stdout",
          "text": [
            "Finish process : 失笑 / 4848\n",
            "Start process : compare_sentences\n",
            "Finish process : 74.53% / 25.47%\n",
            "------------------------\n",
            "Start process : get_vectors\n"
          ]
        },
        {
          "output_type": "stream",
          "name": "stderr",
          "text": [
            "512it [00:02, 226.58it/s]\n",
            "512it [00:02, 234.44it/s]\n",
            "512it [00:02, 232.46it/s]\n",
            "512it [00:02, 232.46it/s]\n",
            "512it [00:02, 231.64it/s]\n",
            "512it [00:02, 231.67it/s]\n",
            "512it [00:02, 234.09it/s]\n",
            "512it [00:02, 230.20it/s]\n",
            "512it [00:02, 221.16it/s]\n",
            "180it [00:00, 235.84it/s]\n"
          ]
        },
        {
          "output_type": "stream",
          "name": "stdout",
          "text": [
            "Finish process : 失笑 / 4786\n",
            "Start process : compare_sentences\n",
            "Finish process : 63.14% / 36.86%\n",
            "------------------------\n",
            "Start process : get_vectors\n"
          ]
        },
        {
          "output_type": "stream",
          "name": "stderr",
          "text": [
            "512it [00:02, 212.20it/s]\n",
            "512it [00:02, 227.68it/s]\n",
            "512it [00:02, 195.95it/s]\n",
            "512it [00:02, 218.69it/s]\n",
            "512it [00:02, 211.25it/s]\n",
            "512it [00:02, 213.29it/s]\n",
            "512it [00:02, 206.23it/s]\n",
            "512it [00:02, 213.28it/s]\n",
            "512it [00:02, 207.10it/s]\n",
            "287it [00:01, 204.13it/s]\n"
          ]
        },
        {
          "output_type": "stream",
          "name": "stdout",
          "text": [
            "Finish process : 失笑 / 4894\n",
            "Start process : compare_sentences\n",
            "Finish process : 75.23% / 24.77%\n",
            "------------------------\n",
            "Start process : get_vectors\n"
          ]
        },
        {
          "output_type": "stream",
          "name": "stderr",
          "text": [
            "512it [00:02, 221.69it/s]\n",
            "512it [00:02, 231.54it/s]\n",
            "512it [00:02, 228.99it/s]\n",
            "512it [00:02, 224.30it/s]\n",
            "512it [00:02, 225.25it/s]\n",
            "512it [00:02, 228.51it/s]\n",
            "512it [00:02, 217.79it/s]\n",
            "512it [00:02, 222.42it/s]\n",
            "512it [00:02, 224.75it/s]\n",
            "192it [00:00, 228.89it/s]\n"
          ]
        },
        {
          "output_type": "stream",
          "name": "stdout",
          "text": [
            "Finish process : 失笑 / 4800\n",
            "Start process : compare_sentences\n",
            "Finish process : 71.60% / 28.40%\n",
            "------------------------\n",
            "Start process : get_vectors\n"
          ]
        },
        {
          "output_type": "stream",
          "name": "stderr",
          "text": [
            "512it [00:02, 211.61it/s]\n",
            "512it [00:02, 214.89it/s]\n",
            "512it [00:02, 220.68it/s]\n",
            "512it [00:02, 223.88it/s]\n",
            "512it [00:02, 213.13it/s]\n",
            "512it [00:02, 215.58it/s]\n",
            "512it [00:02, 220.16it/s]\n",
            "512it [00:02, 215.14it/s]\n",
            "512it [00:02, 213.92it/s]\n",
            "185it [00:00, 211.67it/s]\n"
          ]
        },
        {
          "output_type": "stream",
          "name": "stdout",
          "text": [
            "Finish process : 失笑 / 4793\n",
            "Start process : compare_sentences\n",
            "Finish process : 77.51% / 22.49%\n",
            "------------------------\n",
            "Start process : get_vectors\n"
          ]
        },
        {
          "output_type": "stream",
          "name": "stderr",
          "text": [
            "512it [00:02, 216.67it/s]\n",
            "512it [00:02, 217.42it/s]\n",
            "512it [00:02, 221.55it/s]\n",
            "512it [00:02, 206.90it/s]\n",
            "512it [00:02, 215.55it/s]\n",
            "512it [00:02, 215.98it/s]\n",
            "512it [00:02, 217.08it/s]\n",
            "512it [00:02, 233.75it/s]\n",
            "512it [00:02, 219.72it/s]\n",
            "4it [00:00, 427.38it/s]\n"
          ]
        },
        {
          "output_type": "stream",
          "name": "stdout",
          "text": [
            "Finish process : 失笑 / 4612\n",
            "Start process : compare_sentences\n",
            "Finish process : 72.18% / 27.82%\n",
            "------------------------\n",
            "Start process : get_vectors\n"
          ]
        },
        {
          "output_type": "stream",
          "name": "stderr",
          "text": [
            "512it [00:02, 215.95it/s]\n",
            "512it [00:02, 215.81it/s]\n",
            "512it [00:02, 215.94it/s]\n",
            "512it [00:02, 217.04it/s]\n",
            "512it [00:02, 214.52it/s]\n",
            "512it [00:02, 205.75it/s]\n",
            "512it [00:02, 209.17it/s]\n",
            "512it [00:02, 217.24it/s]\n",
            "438it [00:01, 221.85it/s]\n"
          ]
        },
        {
          "output_type": "stream",
          "name": "stdout",
          "text": [
            "Finish process : 失笑 / 4534\n",
            "Start process : compare_sentences\n",
            "Finish process : 78.14% / 21.86%\n",
            "------------------------\n",
            "Start process : get_vectors\n"
          ]
        },
        {
          "output_type": "stream",
          "name": "stderr",
          "text": [
            "512it [00:02, 224.74it/s]\n",
            "512it [00:02, 214.38it/s]\n",
            "512it [00:02, 205.14it/s]\n",
            "512it [00:02, 209.39it/s]\n",
            "512it [00:02, 204.98it/s]\n",
            "512it [00:02, 214.33it/s]\n",
            "512it [00:02, 215.60it/s]\n",
            "512it [00:02, 223.13it/s]\n",
            "512it [00:02, 220.31it/s]\n",
            "194it [00:00, 216.92it/s]\n"
          ]
        },
        {
          "output_type": "stream",
          "name": "stdout",
          "text": [
            "Finish process : 失笑 / 4802\n",
            "Start process : compare_sentences\n",
            "Finish process : 75.99% / 24.01%\n",
            "------------------------\n",
            "Start process : get_vectors\n"
          ]
        },
        {
          "output_type": "stream",
          "name": "stderr",
          "text": [
            "512it [00:02, 208.78it/s]\n",
            "512it [00:02, 203.32it/s]\n",
            "512it [00:02, 213.76it/s]\n",
            "512it [00:02, 220.47it/s]\n",
            "512it [00:02, 212.54it/s]\n",
            "512it [00:02, 212.14it/s]\n",
            "512it [00:02, 231.30it/s]\n",
            "512it [00:02, 225.27it/s]\n",
            "210it [00:00, 233.94it/s]\n"
          ]
        },
        {
          "output_type": "stream",
          "name": "stdout",
          "text": [
            "Finish process : 失笑 / 4306\n",
            "Start process : compare_sentences\n",
            "Finish process : 85.07% / 14.93%\n",
            "------------------------\n",
            "Start process : get_vectors\n"
          ]
        },
        {
          "output_type": "stream",
          "name": "stderr",
          "text": [
            "420it [00:01, 248.08it/s]\n"
          ]
        },
        {
          "output_type": "stream",
          "name": "stdout",
          "text": [
            "Finish process : なし崩し / 420\n",
            "Start process : compare_sentences\n",
            "Finish process : 85.71% / 14.29%\n",
            "------------------------\n",
            "Start process : get_vectors\n"
          ]
        },
        {
          "output_type": "stream",
          "name": "stderr",
          "text": [
            "512it [00:02, 242.09it/s]\n",
            "512it [00:02, 240.66it/s]\n",
            "512it [00:02, 241.69it/s]\n",
            "14it [00:00, 284.50it/s]\n"
          ]
        },
        {
          "output_type": "stream",
          "name": "stdout",
          "text": [
            "Finish process : なし崩し / 1550\n",
            "Start process : compare_sentences\n",
            "Finish process : 84.52% / 15.48%\n",
            "------------------------\n",
            "Start process : get_vectors\n"
          ]
        },
        {
          "output_type": "stream",
          "name": "stderr",
          "text": [
            "512it [00:02, 228.80it/s]\n",
            "512it [00:02, 237.68it/s]\n",
            "512it [00:02, 240.22it/s]\n",
            "512it [00:02, 243.39it/s]\n",
            "512it [00:02, 239.90it/s]\n",
            "512it [00:02, 241.75it/s]\n",
            "512it [00:02, 240.95it/s]\n",
            "388it [00:01, 239.52it/s]\n"
          ]
        },
        {
          "output_type": "stream",
          "name": "stdout",
          "text": [
            "Finish process : なし崩し / 3972\n",
            "Start process : compare_sentences\n",
            "Finish process : 78.07% / 21.93%\n",
            "------------------------\n",
            "Start process : get_vectors\n"
          ]
        },
        {
          "output_type": "stream",
          "name": "stderr",
          "text": [
            "512it [00:02, 226.12it/s]\n",
            "512it [00:02, 225.58it/s]\n",
            "512it [00:02, 227.12it/s]\n",
            "512it [00:02, 210.08it/s]\n",
            "512it [00:02, 213.09it/s]\n",
            "512it [00:02, 225.04it/s]\n",
            "512it [00:02, 224.50it/s]\n",
            "512it [00:02, 222.84it/s]\n",
            "512it [00:02, 220.78it/s]\n",
            "301it [00:01, 225.58it/s]\n"
          ]
        },
        {
          "output_type": "stream",
          "name": "stdout",
          "text": [
            "Finish process : なし崩し / 4908\n",
            "Start process : compare_sentences\n",
            "Finish process : 86.72% / 13.28%\n",
            "------------------------\n",
            "Start process : get_vectors\n"
          ]
        },
        {
          "output_type": "stream",
          "name": "stderr",
          "text": [
            "512it [00:02, 219.88it/s]\n",
            "512it [00:02, 220.86it/s]\n",
            "512it [00:02, 224.36it/s]\n",
            "512it [00:02, 224.04it/s]\n",
            "512it [00:02, 218.90it/s]\n",
            "512it [00:02, 221.95it/s]\n",
            "512it [00:02, 217.27it/s]\n",
            "512it [00:02, 203.02it/s]\n",
            "512it [00:02, 217.04it/s]\n",
            "103it [00:00, 227.73it/s]\n"
          ]
        },
        {
          "output_type": "stream",
          "name": "stdout",
          "text": [
            "Finish process : なし崩し / 4711\n",
            "Start process : compare_sentences\n",
            "Finish process : 84.63% / 15.37%\n",
            "------------------------\n",
            "Start process : get_vectors\n"
          ]
        },
        {
          "output_type": "stream",
          "name": "stderr",
          "text": [
            "512it [00:02, 222.65it/s]\n",
            "512it [00:02, 220.00it/s]\n",
            "512it [00:02, 211.59it/s]\n",
            "512it [00:02, 213.35it/s]\n",
            "512it [00:02, 209.80it/s]\n",
            "512it [00:02, 213.16it/s]\n",
            "512it [00:02, 223.41it/s]\n",
            "512it [00:02, 215.48it/s]\n",
            "512it [00:02, 217.71it/s]\n",
            "141it [00:00, 217.24it/s]\n"
          ]
        },
        {
          "output_type": "stream",
          "name": "stdout",
          "text": [
            "Finish process : なし崩し / 4749\n",
            "Start process : compare_sentences\n",
            "Finish process : 85.79% / 14.21%\n",
            "------------------------\n",
            "Start process : get_vectors\n"
          ]
        },
        {
          "output_type": "stream",
          "name": "stderr",
          "text": [
            "512it [00:02, 201.31it/s]\n",
            "512it [00:02, 200.59it/s]\n",
            "512it [00:02, 197.33it/s]\n",
            "512it [00:02, 199.90it/s]\n",
            "512it [00:02, 210.86it/s]\n",
            "512it [00:02, 205.51it/s]\n",
            "512it [00:02, 200.67it/s]\n",
            "512it [00:02, 196.61it/s]\n",
            "486it [00:02, 191.24it/s]\n"
          ]
        },
        {
          "output_type": "stream",
          "name": "stdout",
          "text": [
            "Finish process : なし崩し / 4582\n",
            "Start process : compare_sentences\n",
            "Finish process : 95.98% / 4.02%\n",
            "------------------------\n",
            "Start process : get_vectors\n"
          ]
        },
        {
          "output_type": "stream",
          "name": "stderr",
          "text": [
            "512it [00:02, 219.91it/s]\n",
            "512it [00:02, 235.05it/s]\n",
            "512it [00:02, 225.31it/s]\n",
            "512it [00:02, 224.39it/s]\n",
            "512it [00:02, 212.49it/s]\n",
            "512it [00:02, 205.61it/s]\n",
            "512it [00:02, 230.31it/s]\n",
            "512it [00:02, 221.69it/s]\n",
            "512it [00:02, 227.67it/s]\n",
            "183it [00:00, 229.94it/s]\n"
          ]
        },
        {
          "output_type": "stream",
          "name": "stdout",
          "text": [
            "Finish process : なし崩し / 4791\n",
            "Start process : compare_sentences\n",
            "Finish process : 86.16% / 13.84%\n",
            "------------------------\n",
            "Start process : get_vectors\n"
          ]
        },
        {
          "output_type": "stream",
          "name": "stderr",
          "text": [
            "512it [00:02, 213.51it/s]\n",
            "512it [00:02, 205.16it/s]\n",
            "512it [00:02, 212.79it/s]\n",
            "512it [00:02, 222.95it/s]\n",
            "512it [00:02, 224.86it/s]\n",
            "512it [00:02, 216.79it/s]\n",
            "512it [00:02, 212.86it/s]\n",
            "512it [00:02, 213.79it/s]\n",
            "505it [00:02, 237.35it/s]\n"
          ]
        },
        {
          "output_type": "stream",
          "name": "stdout",
          "text": [
            "Finish process : なし崩し / 4600\n",
            "Start process : compare_sentences\n",
            "Finish process : 84.28% / 15.72%\n",
            "------------------------\n",
            "Start process : get_vectors\n"
          ]
        },
        {
          "output_type": "stream",
          "name": "stderr",
          "text": [
            "512it [00:02, 203.26it/s]\n",
            "512it [00:02, 212.10it/s]\n",
            "512it [00:02, 173.15it/s]\n",
            "512it [00:02, 179.29it/s]\n",
            "512it [00:02, 210.39it/s]\n",
            "512it [00:02, 220.08it/s]\n",
            "512it [00:02, 222.54it/s]\n",
            "512it [00:02, 217.42it/s]\n",
            "512it [00:02, 218.63it/s]\n",
            "147it [00:00, 218.39it/s]\n"
          ]
        },
        {
          "output_type": "stream",
          "name": "stdout",
          "text": [
            "Finish process : なし崩し / 4755\n",
            "Start process : compare_sentences\n",
            "Finish process : 86.50% / 13.50%\n",
            "------------------------\n",
            "Start process : get_vectors\n"
          ]
        },
        {
          "output_type": "stream",
          "name": "stderr",
          "text": [
            "512it [00:02, 214.42it/s]\n",
            "512it [00:02, 213.85it/s]\n",
            "512it [00:02, 224.34it/s]\n",
            "512it [00:02, 214.19it/s]\n",
            "512it [00:02, 190.76it/s]\n",
            "512it [00:02, 175.77it/s]\n",
            "389it [00:01, 217.86it/s]\n"
          ]
        },
        {
          "output_type": "stream",
          "name": "stdout",
          "text": [
            "Finish process : なし崩し / 3461\n",
            "Start process : compare_sentences\n",
            "Finish process : 83.18% / 16.82%\n",
            "------------------------\n",
            "Start process : get_vectors\n"
          ]
        },
        {
          "output_type": "stream",
          "name": "stderr",
          "text": [
            "512it [00:02, 203.00it/s]\n",
            "512it [00:02, 222.13it/s]\n",
            "512it [00:02, 205.64it/s]\n",
            "512it [00:02, 204.17it/s]\n",
            "512it [00:02, 208.76it/s]\n",
            "512it [00:02, 210.32it/s]\n",
            "512it [00:02, 204.28it/s]\n",
            "512it [00:02, 217.31it/s]\n",
            "190it [00:00, 224.49it/s]\n"
          ]
        },
        {
          "output_type": "stream",
          "name": "stdout",
          "text": [
            "Finish process : なし崩し / 4286\n",
            "Start process : compare_sentences\n",
            "Finish process : 89.20% / 10.80%\n",
            "------------------------\n",
            "Start process : get_vectors\n"
          ]
        },
        {
          "output_type": "stream",
          "name": "stderr",
          "text": [
            "512it [00:02, 211.52it/s]\n",
            "512it [00:02, 207.46it/s]\n",
            "512it [00:02, 206.07it/s]\n",
            "512it [00:02, 200.14it/s]\n",
            "512it [00:02, 201.49it/s]\n",
            "512it [00:02, 193.99it/s]\n",
            "512it [00:02, 195.16it/s]\n",
            "512it [00:02, 196.83it/s]\n",
            "512it [00:02, 201.69it/s]\n",
            "294it [00:01, 203.51it/s]\n"
          ]
        },
        {
          "output_type": "stream",
          "name": "stdout",
          "text": [
            "Finish process : なし崩し / 4900\n",
            "Start process : compare_sentences\n",
            "Finish process : 96.51% / 3.49%\n",
            "------------------------\n",
            "Start process : get_vectors\n"
          ]
        },
        {
          "output_type": "stream",
          "name": "stderr",
          "text": [
            "512it [00:02, 201.02it/s]\n",
            "512it [00:02, 212.65it/s]\n",
            "512it [00:02, 209.38it/s]\n",
            "512it [00:02, 192.96it/s]\n",
            "512it [00:02, 194.25it/s]\n",
            "512it [00:02, 192.68it/s]\n",
            "512it [00:02, 211.47it/s]\n",
            "512it [00:02, 213.67it/s]\n",
            "512it [00:02, 201.20it/s]\n",
            "142it [00:00, 214.57it/s]\n"
          ]
        },
        {
          "output_type": "stream",
          "name": "stdout",
          "text": [
            "Finish process : なし崩し / 4750\n",
            "Start process : compare_sentences\n",
            "Finish process : 58.44% / 41.56%\n",
            "------------------------\n",
            "Start process : get_vectors\n"
          ]
        },
        {
          "output_type": "stream",
          "name": "stderr",
          "text": [
            "80it [00:00, 259.78it/s]\n"
          ]
        },
        {
          "output_type": "stream",
          "name": "stdout",
          "text": [
            "Finish process : なしくずし / 80\n",
            "Start process : compare_sentences\n",
            "Finish process : 100.00% / 0.00%\n",
            "------------------------\n",
            "Start process : get_vectors\n"
          ]
        },
        {
          "output_type": "stream",
          "name": "stderr",
          "text": [
            "430it [00:01, 260.21it/s]\n"
          ]
        },
        {
          "output_type": "stream",
          "name": "stdout",
          "text": [
            "Finish process : なしくずし / 430\n",
            "Start process : compare_sentences\n",
            "Finish process : 93.02% / 6.98%\n",
            "------------------------\n",
            "Start process : get_vectors\n"
          ]
        },
        {
          "output_type": "stream",
          "name": "stderr",
          "text": [
            "512it [00:02, 240.21it/s]\n",
            "512it [00:02, 239.84it/s]\n",
            "512it [00:02, 241.20it/s]\n",
            "512it [00:02, 240.62it/s]\n",
            "162it [00:00, 244.21it/s]\n"
          ]
        },
        {
          "output_type": "stream",
          "name": "stdout",
          "text": [
            "Finish process : なしくずし / 2210\n",
            "Start process : compare_sentences\n",
            "Finish process : 96.38% / 3.62%\n",
            "------------------------\n",
            "Start process : get_vectors\n"
          ]
        },
        {
          "output_type": "stream",
          "name": "stderr",
          "text": [
            "512it [00:02, 236.33it/s]\n",
            "512it [00:02, 242.82it/s]\n",
            "512it [00:02, 246.33it/s]\n",
            "512it [00:02, 234.61it/s]\n",
            "196it [00:00, 243.84it/s]\n"
          ]
        },
        {
          "output_type": "stream",
          "name": "stdout",
          "text": [
            "Finish process : なしくずし / 2242\n",
            "Start process : compare_sentences\n",
            "Finish process : 97.41% / 2.59%\n",
            "------------------------\n",
            "Start process : get_vectors\n"
          ]
        },
        {
          "output_type": "stream",
          "name": "stderr",
          "text": [
            "512it [00:02, 230.14it/s]\n",
            "512it [00:02, 230.78it/s]\n",
            "512it [00:02, 236.58it/s]\n",
            "512it [00:02, 227.18it/s]\n",
            "512it [00:02, 233.74it/s]\n",
            "512it [00:02, 235.44it/s]\n",
            "512it [00:02, 192.39it/s]\n",
            "512it [00:02, 233.07it/s]\n",
            "316it [00:01, 226.94it/s]\n"
          ]
        },
        {
          "output_type": "stream",
          "name": "stdout",
          "text": [
            "Finish process : なしくずし / 4411\n",
            "Start process : compare_sentences\n",
            "Finish process : 97.05% / 2.95%\n",
            "------------------------\n",
            "Start process : get_vectors\n"
          ]
        },
        {
          "output_type": "stream",
          "name": "stderr",
          "text": [
            "512it [00:02, 208.04it/s]\n",
            "512it [00:02, 228.52it/s]\n",
            "512it [00:02, 239.96it/s]\n",
            "512it [00:02, 232.44it/s]\n",
            "512it [00:02, 226.26it/s]\n",
            "512it [00:02, 235.96it/s]\n",
            "512it [00:02, 236.36it/s]\n",
            "512it [00:02, 211.11it/s]\n",
            "512it [00:02, 226.13it/s]\n",
            "70it [00:00, 213.14it/s]\n"
          ]
        },
        {
          "output_type": "stream",
          "name": "stdout",
          "text": [
            "Finish process : なしくずし / 4672\n",
            "Start process : compare_sentences\n",
            "Finish process : 97.22% / 2.78%\n",
            "------------------------\n",
            "Start process : get_vectors\n"
          ]
        },
        {
          "output_type": "stream",
          "name": "stderr",
          "text": [
            "512it [00:02, 224.26it/s]\n",
            "512it [00:02, 239.27it/s]\n",
            "512it [00:02, 243.27it/s]\n",
            "512it [00:02, 225.41it/s]\n",
            "512it [00:02, 237.60it/s]\n",
            "512it [00:02, 242.17it/s]\n",
            "512it [00:02, 212.66it/s]\n",
            "512it [00:02, 229.05it/s]\n",
            "512it [00:02, 235.96it/s]\n",
            "175it [00:00, 233.60it/s]\n"
          ]
        },
        {
          "output_type": "stream",
          "name": "stdout",
          "text": [
            "Finish process : なしくずし / 4780\n",
            "Start process : compare_sentences\n",
            "Finish process : 97.09% / 2.91%\n",
            "------------------------\n",
            "Start process : get_vectors\n"
          ]
        },
        {
          "output_type": "stream",
          "name": "stderr",
          "text": [
            "512it [00:02, 237.04it/s]\n",
            "512it [00:02, 243.69it/s]\n",
            "512it [00:02, 232.73it/s]\n",
            "512it [00:02, 239.74it/s]\n",
            "512it [00:02, 238.70it/s]\n",
            "512it [00:02, 228.44it/s]\n",
            "512it [00:02, 215.16it/s]\n",
            "512it [00:02, 233.13it/s]\n",
            "512it [00:02, 230.24it/s]\n",
            "137it [00:00, 240.52it/s]\n"
          ]
        },
        {
          "output_type": "stream",
          "name": "stdout",
          "text": [
            "Finish process : なしくずし / 4745\n",
            "Start process : compare_sentences\n",
            "Finish process : 97.47% / 2.53%\n",
            "------------------------\n",
            "Start process : get_vectors\n"
          ]
        },
        {
          "output_type": "stream",
          "name": "stderr",
          "text": [
            "512it [00:02, 223.10it/s]\n",
            "512it [00:02, 227.51it/s]\n",
            "512it [00:02, 223.82it/s]\n",
            "512it [00:02, 229.72it/s]\n",
            "512it [00:02, 236.98it/s]\n",
            "512it [00:02, 233.62it/s]\n",
            "512it [00:02, 233.75it/s]\n",
            "512it [00:02, 228.71it/s]\n",
            "512it [00:02, 227.67it/s]\n",
            "144it [00:00, 235.91it/s]\n"
          ]
        },
        {
          "output_type": "stream",
          "name": "stdout",
          "text": [
            "Finish process : なしくずし / 4749\n",
            "Start process : compare_sentences\n",
            "Finish process : 93.39% / 6.61%\n",
            "------------------------\n",
            "Start process : get_vectors\n"
          ]
        },
        {
          "output_type": "stream",
          "name": "stderr",
          "text": [
            "512it [00:02, 214.83it/s]\n",
            "512it [00:02, 231.64it/s]\n",
            "512it [00:02, 218.07it/s]\n",
            "512it [00:02, 236.66it/s]\n",
            "512it [00:02, 225.96it/s]\n",
            "512it [00:02, 229.68it/s]\n",
            "512it [00:02, 230.86it/s]\n",
            "512it [00:02, 226.83it/s]\n",
            "512it [00:02, 232.55it/s]\n",
            "211it [00:00, 242.63it/s]\n"
          ]
        },
        {
          "output_type": "stream",
          "name": "stdout",
          "text": [
            "Finish process : なしくずし / 4818\n",
            "Start process : compare_sentences\n",
            "Finish process : 95.25% / 4.75%\n",
            "------------------------\n",
            "Start process : get_vectors\n"
          ]
        },
        {
          "output_type": "stream",
          "name": "stderr",
          "text": [
            "512it [00:02, 210.64it/s]\n",
            "512it [00:02, 222.25it/s]\n",
            "512it [00:02, 216.42it/s]\n",
            "512it [00:02, 230.33it/s]\n",
            "512it [00:02, 216.18it/s]\n",
            "411it [00:01, 216.74it/s]\n"
          ]
        },
        {
          "output_type": "stream",
          "name": "stdout",
          "text": [
            "Finish process : なしくずし / 2971\n",
            "Start process : compare_sentences\n",
            "Finish process : 96.77% / 3.23%\n",
            "------------------------\n",
            "Start process : get_vectors\n"
          ]
        },
        {
          "output_type": "stream",
          "name": "stderr",
          "text": [
            "512it [00:02, 215.47it/s]\n",
            "512it [00:02, 230.39it/s]\n",
            "512it [00:02, 223.23it/s]\n",
            "512it [00:03, 160.70it/s]\n",
            "512it [00:03, 155.49it/s]\n",
            "512it [00:03, 155.33it/s]\n",
            "512it [00:03, 155.14it/s]\n",
            "512it [00:02, 177.20it/s]\n",
            "512it [00:02, 237.07it/s]\n",
            "207it [00:00, 211.12it/s]\n"
          ]
        },
        {
          "output_type": "stream",
          "name": "stdout",
          "text": [
            "Finish process : なしくずし / 4814\n",
            "Start process : compare_sentences\n",
            "Finish process : 98.94% / 1.06%\n",
            "------------------------\n",
            "Start process : get_vectors\n"
          ]
        },
        {
          "output_type": "stream",
          "name": "stderr",
          "text": [
            "512it [00:02, 231.63it/s]\n",
            "512it [00:02, 230.59it/s]\n",
            "512it [00:02, 198.15it/s]\n",
            "512it [00:02, 207.91it/s]\n",
            "512it [00:02, 210.17it/s]\n",
            "512it [00:02, 210.66it/s]\n",
            "512it [00:02, 211.23it/s]\n",
            "512it [00:02, 210.83it/s]\n",
            "512it [00:02, 224.82it/s]\n",
            "107it [00:00, 237.11it/s]\n"
          ]
        },
        {
          "output_type": "stream",
          "name": "stdout",
          "text": [
            "Finish process : なしくずし / 4714\n",
            "Start process : compare_sentences\n",
            "Finish process : 98.88% / 1.12%\n",
            "------------------------\n",
            "Start process : get_vectors\n"
          ]
        },
        {
          "output_type": "stream",
          "name": "stderr",
          "text": [
            "512it [00:02, 224.21it/s]\n",
            "512it [00:02, 229.50it/s]\n",
            "512it [00:02, 218.98it/s]\n",
            "512it [00:02, 249.41it/s]\n",
            "512it [00:02, 228.79it/s]\n",
            "512it [00:02, 227.86it/s]\n",
            "512it [00:02, 229.67it/s]\n",
            "512it [00:02, 221.12it/s]\n",
            "512it [00:02, 218.16it/s]\n",
            "195it [00:00, 231.07it/s]\n"
          ]
        },
        {
          "output_type": "stream",
          "name": "stdout",
          "text": [
            "Finish process : なしくずし / 4802\n",
            "Start process : compare_sentences\n",
            "Finish process : 97.73% / 2.27%\n",
            "------------------------\n",
            "Start process : get_vectors\n"
          ]
        },
        {
          "output_type": "stream",
          "name": "stderr",
          "text": [
            "300it [00:01, 228.47it/s]\n"
          ]
        },
        {
          "output_type": "stream",
          "name": "stdout",
          "text": [
            "Finish process : 御の字 / 300\n",
            "Start process : compare_sentences\n",
            "Finish process : 100.00% / 0.00%\n",
            "------------------------\n",
            "Start process : get_vectors\n"
          ]
        },
        {
          "output_type": "stream",
          "name": "stderr",
          "text": [
            "512it [00:02, 226.43it/s]\n",
            "512it [00:02, 226.09it/s]\n",
            "512it [00:02, 226.67it/s]\n",
            "512it [00:02, 227.36it/s]\n",
            "342it [00:01, 255.61it/s]\n"
          ]
        },
        {
          "output_type": "stream",
          "name": "stdout",
          "text": [
            "Finish process : 御の字 / 2390\n",
            "Start process : compare_sentences\n",
            "Finish process : 100.00% / 0.00%\n",
            "------------------------\n",
            "Start process : get_vectors\n"
          ]
        },
        {
          "output_type": "stream",
          "name": "stderr",
          "text": [
            "512it [00:02, 221.22it/s]\n",
            "512it [00:02, 222.20it/s]\n",
            "512it [00:02, 229.28it/s]\n",
            "512it [00:02, 233.95it/s]\n",
            "512it [00:02, 231.14it/s]\n",
            "512it [00:02, 232.28it/s]\n",
            "149it [00:00, 232.82it/s]\n"
          ]
        },
        {
          "output_type": "stream",
          "name": "stdout",
          "text": [
            "Finish process : 御の字 / 3221\n",
            "Start process : compare_sentences\n",
            "Finish process : 99.69% / 0.31%\n",
            "------------------------\n",
            "Start process : get_vectors\n"
          ]
        },
        {
          "output_type": "stream",
          "name": "stderr",
          "text": [
            "512it [00:02, 218.79it/s]\n",
            "512it [00:02, 220.70it/s]\n",
            "512it [00:02, 225.22it/s]\n",
            "512it [00:02, 220.46it/s]\n",
            "512it [00:02, 221.52it/s]\n",
            "512it [00:02, 220.07it/s]\n",
            "512it [00:02, 221.05it/s]\n",
            "512it [00:02, 220.70it/s]\n",
            "512it [00:02, 221.09it/s]\n",
            "329it [00:01, 206.00it/s]\n"
          ]
        },
        {
          "output_type": "stream",
          "name": "stdout",
          "text": [
            "Finish process : 御の字 / 4937\n",
            "Start process : compare_sentences\n",
            "Finish process : 99.78% / 0.22%\n",
            "------------------------\n",
            "Start process : get_vectors\n"
          ]
        },
        {
          "output_type": "stream",
          "name": "stderr",
          "text": [
            "512it [00:02, 219.93it/s]\n",
            "512it [00:02, 220.88it/s]\n",
            "512it [00:02, 222.09it/s]\n",
            "512it [00:02, 222.87it/s]\n",
            "512it [00:02, 222.54it/s]\n",
            "512it [00:02, 222.20it/s]\n",
            "512it [00:02, 222.15it/s]\n",
            "512it [00:02, 221.94it/s]\n",
            "512it [00:02, 231.56it/s]\n",
            "262it [00:01, 238.42it/s]\n"
          ]
        },
        {
          "output_type": "stream",
          "name": "stdout",
          "text": [
            "Finish process : 御の字 / 4870\n",
            "Start process : compare_sentences\n",
            "Finish process : 99.77% / 0.23%\n",
            "------------------------\n",
            "Start process : get_vectors\n"
          ]
        },
        {
          "output_type": "stream",
          "name": "stderr",
          "text": [
            "512it [00:02, 222.50it/s]\n",
            "512it [00:02, 221.70it/s]\n",
            "512it [00:02, 237.87it/s]\n",
            "512it [00:02, 227.60it/s]\n",
            "512it [00:02, 226.69it/s]\n",
            "512it [00:02, 225.27it/s]\n",
            "512it [00:02, 223.82it/s]\n",
            "512it [00:02, 228.35it/s]\n",
            "512it [00:02, 221.81it/s]\n",
            "339it [00:01, 226.50it/s]\n"
          ]
        },
        {
          "output_type": "stream",
          "name": "stdout",
          "text": [
            "Finish process : 御の字 / 4947\n",
            "Start process : compare_sentences\n",
            "Finish process : 99.49% / 0.51%\n",
            "------------------------\n",
            "Start process : get_vectors\n"
          ]
        },
        {
          "output_type": "stream",
          "name": "stderr",
          "text": [
            "512it [00:02, 218.79it/s]\n",
            "512it [00:02, 227.65it/s]\n",
            "512it [00:02, 229.19it/s]\n",
            "512it [00:02, 226.71it/s]\n",
            "512it [00:02, 230.21it/s]\n",
            "512it [00:02, 224.67it/s]\n",
            "512it [00:02, 219.78it/s]\n",
            "512it [00:02, 218.31it/s]\n",
            "512it [00:02, 226.13it/s]\n",
            "334it [00:01, 223.47it/s]\n"
          ]
        },
        {
          "output_type": "stream",
          "name": "stdout",
          "text": [
            "Finish process : 御の字 / 4942\n",
            "Start process : compare_sentences\n",
            "Finish process : 99.78% / 0.22%\n",
            "------------------------\n",
            "Start process : get_vectors\n"
          ]
        },
        {
          "output_type": "stream",
          "name": "stderr",
          "text": [
            "512it [00:02, 224.46it/s]\n",
            "512it [00:02, 227.08it/s]\n",
            "512it [00:02, 234.71it/s]\n",
            "512it [00:02, 227.48it/s]\n",
            "512it [00:02, 223.55it/s]\n",
            "512it [00:02, 227.71it/s]\n",
            "512it [00:02, 229.78it/s]\n",
            "512it [00:02, 225.53it/s]\n",
            "512it [00:02, 229.16it/s]\n",
            "339it [00:01, 221.83it/s]\n"
          ]
        },
        {
          "output_type": "stream",
          "name": "stdout",
          "text": [
            "Finish process : 御の字 / 4947\n",
            "Start process : compare_sentences\n",
            "Finish process : 99.80% / 0.20%\n",
            "------------------------\n",
            "Start process : get_vectors\n"
          ]
        },
        {
          "output_type": "stream",
          "name": "stderr",
          "text": [
            "512it [00:02, 223.64it/s]\n",
            "512it [00:02, 222.32it/s]\n",
            "512it [00:02, 227.43it/s]\n",
            "512it [00:02, 230.66it/s]\n",
            "512it [00:02, 224.78it/s]\n",
            "512it [00:02, 227.82it/s]\n",
            "512it [00:02, 225.57it/s]\n",
            "512it [00:02, 227.95it/s]\n",
            "512it [00:02, 223.63it/s]\n",
            "330it [00:01, 222.48it/s]\n"
          ]
        },
        {
          "output_type": "stream",
          "name": "stdout",
          "text": [
            "Finish process : 御の字 / 4938\n",
            "Start process : compare_sentences\n",
            "Finish process : 99.74% / 0.26%\n",
            "------------------------\n",
            "Start process : get_vectors\n"
          ]
        },
        {
          "output_type": "stream",
          "name": "stderr",
          "text": [
            "512it [00:02, 221.56it/s]\n",
            "512it [00:02, 225.75it/s]\n",
            "512it [00:02, 219.62it/s]\n",
            "512it [00:02, 224.46it/s]\n",
            "512it [00:02, 224.70it/s]\n",
            "512it [00:02, 225.19it/s]\n",
            "512it [00:02, 223.12it/s]\n",
            "512it [00:02, 226.45it/s]\n",
            "512it [00:02, 220.12it/s]\n",
            "67it [00:00, 226.57it/s]\n"
          ]
        },
        {
          "output_type": "stream",
          "name": "stdout",
          "text": [
            "Finish process : 御の字 / 4675\n",
            "Start process : compare_sentences\n",
            "Finish process : 99.85% / 0.15%\n",
            "------------------------\n",
            "Start process : get_vectors\n"
          ]
        },
        {
          "output_type": "stream",
          "name": "stderr",
          "text": [
            "512it [00:02, 215.09it/s]\n",
            "512it [00:02, 218.80it/s]\n",
            "512it [00:02, 220.31it/s]\n",
            "512it [00:02, 220.72it/s]\n",
            "512it [00:02, 218.40it/s]\n",
            "512it [00:02, 223.33it/s]\n",
            "512it [00:02, 221.04it/s]\n",
            "512it [00:02, 222.44it/s]\n",
            "512it [00:02, 216.83it/s]\n",
            "226it [00:00, 231.39it/s]\n"
          ]
        },
        {
          "output_type": "stream",
          "name": "stdout",
          "text": [
            "Finish process : 御の字 / 4834\n",
            "Start process : compare_sentences\n",
            "Finish process : 99.81% / 0.19%\n",
            "------------------------\n",
            "Start process : get_vectors\n"
          ]
        },
        {
          "output_type": "stream",
          "name": "stderr",
          "text": [
            "512it [00:02, 214.86it/s]\n",
            "512it [00:02, 220.71it/s]\n",
            "512it [00:02, 220.53it/s]\n",
            "512it [00:02, 215.18it/s]\n",
            "512it [00:02, 219.09it/s]\n",
            "512it [00:02, 212.57it/s]\n",
            "512it [00:02, 220.91it/s]\n",
            "512it [00:02, 208.96it/s]\n",
            "512it [00:02, 218.76it/s]\n",
            "129it [00:00, 211.43it/s]\n"
          ]
        },
        {
          "output_type": "stream",
          "name": "stdout",
          "text": [
            "Finish process : 御の字 / 4737\n",
            "Start process : compare_sentences\n",
            "Finish process : 99.66% / 0.34%\n",
            "------------------------\n",
            "Start process : get_vectors\n"
          ]
        },
        {
          "output_type": "stream",
          "name": "stderr",
          "text": [
            "512it [00:02, 216.81it/s]\n",
            "512it [00:02, 216.72it/s]\n",
            "512it [00:02, 222.10it/s]\n",
            "512it [00:02, 223.13it/s]\n",
            "512it [00:02, 217.14it/s]\n",
            "512it [00:02, 219.26it/s]\n",
            "512it [00:02, 221.06it/s]\n",
            "512it [00:02, 214.02it/s]\n",
            "512it [00:02, 214.17it/s]\n",
            "149it [00:00, 218.62it/s]\n"
          ]
        },
        {
          "output_type": "stream",
          "name": "stdout",
          "text": [
            "Finish process : 御の字 / 4757\n",
            "Start process : compare_sentences\n",
            "Finish process : 99.68% / 0.32%\n",
            "------------------------\n",
            "Start process : get_vectors\n"
          ]
        },
        {
          "output_type": "stream",
          "name": "stderr",
          "text": [
            "512it [00:02, 211.43it/s]\n",
            "512it [00:02, 217.02it/s]\n",
            "512it [00:02, 228.62it/s]\n",
            "512it [00:02, 215.74it/s]\n",
            "512it [00:02, 218.04it/s]\n",
            "512it [00:02, 220.00it/s]\n",
            "512it [00:02, 213.39it/s]\n",
            "512it [00:02, 221.60it/s]\n",
            "512it [00:02, 219.07it/s]\n",
            "282it [00:01, 218.93it/s]\n"
          ]
        },
        {
          "output_type": "stream",
          "name": "stdout",
          "text": [
            "Finish process : 御の字 / 4890\n",
            "Start process : compare_sentences\n",
            "Finish process : 99.73% / 0.27%\n",
            "------------------------\n",
            "Start process : get_vectors\n"
          ]
        },
        {
          "output_type": "stream",
          "name": "stderr",
          "text": [
            "512it [00:02, 252.94it/s]\n",
            "88it [00:00, 261.79it/s]\n"
          ]
        },
        {
          "output_type": "stream",
          "name": "stdout",
          "text": [
            "Finish process : すべからく / 600\n",
            "Start process : compare_sentences\n",
            "Finish process : 58.33% / 41.67%\n",
            "------------------------\n",
            "Start process : get_vectors\n"
          ]
        },
        {
          "output_type": "stream",
          "name": "stderr",
          "text": [
            "512it [00:02, 250.74it/s]\n",
            "512it [00:02, 250.82it/s]\n",
            "512it [00:02, 251.33it/s]\n",
            "512it [00:02, 251.80it/s]\n",
            "512it [00:02, 251.92it/s]\n",
            "512it [00:02, 251.42it/s]\n",
            "512it [00:02, 250.85it/s]\n",
            "226it [00:00, 253.46it/s]\n"
          ]
        },
        {
          "output_type": "stream",
          "name": "stdout",
          "text": [
            "Finish process : すべからく / 3810\n",
            "Start process : compare_sentences\n",
            "Finish process : 54.86% / 45.14%\n",
            "------------------------\n",
            "Start process : get_vectors\n"
          ]
        },
        {
          "output_type": "stream",
          "name": "stderr",
          "text": [
            "512it [00:02, 237.58it/s]\n",
            "512it [00:02, 239.83it/s]\n",
            "512it [00:02, 242.47it/s]\n",
            "512it [00:02, 249.91it/s]\n",
            "512it [00:02, 252.36it/s]\n",
            "512it [00:02, 252.36it/s]\n",
            "512it [00:02, 251.83it/s]\n",
            "274it [00:01, 252.66it/s]\n"
          ]
        },
        {
          "output_type": "stream",
          "name": "stdout",
          "text": [
            "Finish process : すべからく / 3858\n",
            "Start process : compare_sentences\n",
            "Finish process : 56.30% / 43.70%\n",
            "------------------------\n",
            "Start process : get_vectors\n"
          ]
        },
        {
          "output_type": "stream",
          "name": "stderr",
          "text": [
            "512it [00:02, 235.85it/s]\n",
            "512it [00:02, 235.31it/s]\n",
            "512it [00:02, 226.98it/s]\n",
            "512it [00:02, 236.67it/s]\n",
            "512it [00:02, 235.10it/s]\n",
            "512it [00:02, 237.70it/s]\n",
            "512it [00:02, 237.71it/s]\n",
            "512it [00:02, 237.02it/s]\n",
            "512it [00:02, 229.73it/s]\n",
            "351it [00:01, 237.79it/s]\n"
          ]
        },
        {
          "output_type": "stream",
          "name": "stdout",
          "text": [
            "Finish process : すべからく / 4957\n",
            "Start process : compare_sentences\n",
            "Finish process : 65.83% / 34.17%\n",
            "------------------------\n",
            "Start process : get_vectors\n"
          ]
        },
        {
          "output_type": "stream",
          "name": "stderr",
          "text": [
            "512it [00:02, 229.59it/s]\n",
            "512it [00:02, 235.15it/s]\n",
            "512it [00:02, 239.83it/s]\n",
            "512it [00:02, 232.62it/s]\n",
            "512it [00:02, 238.12it/s]\n",
            "512it [00:02, 238.30it/s]\n",
            "512it [00:02, 239.58it/s]\n",
            "512it [00:02, 236.13it/s]\n",
            "512it [00:02, 237.93it/s]\n",
            "205it [00:00, 238.60it/s]\n"
          ]
        },
        {
          "output_type": "stream",
          "name": "stdout",
          "text": [
            "Finish process : すべからく / 4812\n",
            "Start process : compare_sentences\n",
            "Finish process : 62.41% / 37.59%\n",
            "------------------------\n",
            "Start process : get_vectors\n"
          ]
        },
        {
          "output_type": "stream",
          "name": "stderr",
          "text": [
            "512it [00:02, 236.45it/s]\n",
            "512it [00:02, 240.54it/s]\n",
            "512it [00:02, 237.21it/s]\n",
            "512it [00:02, 240.39it/s]\n",
            "512it [00:02, 238.94it/s]\n",
            "512it [00:02, 237.98it/s]\n",
            "512it [00:02, 237.92it/s]\n",
            "512it [00:02, 239.18it/s]\n",
            "512it [00:02, 230.99it/s]\n",
            "225it [00:00, 237.95it/s]\n"
          ]
        },
        {
          "output_type": "stream",
          "name": "stdout",
          "text": [
            "Finish process : すべからく / 4833\n",
            "Start process : compare_sentences\n",
            "Finish process : 75.69% / 24.31%\n",
            "------------------------\n",
            "Start process : get_vectors\n"
          ]
        },
        {
          "output_type": "stream",
          "name": "stderr",
          "text": [
            "512it [00:02, 233.90it/s]\n",
            "512it [00:02, 234.21it/s]\n",
            "512it [00:02, 233.89it/s]\n",
            "512it [00:02, 227.17it/s]\n",
            "512it [00:02, 236.89it/s]\n",
            "512it [00:02, 244.77it/s]\n",
            "512it [00:02, 229.80it/s]\n",
            "512it [00:02, 232.06it/s]\n",
            "512it [00:02, 234.07it/s]\n",
            "262it [00:01, 235.41it/s]\n"
          ]
        },
        {
          "output_type": "stream",
          "name": "stdout",
          "text": [
            "Finish process : すべからく / 4869\n",
            "Start process : compare_sentences\n",
            "Finish process : 77.74% / 22.26%\n",
            "------------------------\n",
            "Start process : get_vectors\n"
          ]
        },
        {
          "output_type": "stream",
          "name": "stderr",
          "text": [
            "512it [00:02, 230.91it/s]\n",
            "512it [00:02, 233.73it/s]\n",
            "512it [00:02, 236.87it/s]\n",
            "512it [00:02, 239.22it/s]\n",
            "512it [00:02, 223.62it/s]\n",
            "512it [00:02, 230.94it/s]\n",
            "512it [00:02, 235.10it/s]\n",
            "512it [00:02, 231.71it/s]\n",
            "512it [00:02, 232.20it/s]\n",
            "270it [00:01, 236.88it/s]\n"
          ]
        },
        {
          "output_type": "stream",
          "name": "stdout",
          "text": [
            "Finish process : すべからく / 4878\n",
            "Start process : compare_sentences\n",
            "Finish process : 82.21% / 17.79%\n",
            "------------------------\n",
            "Start process : get_vectors\n"
          ]
        },
        {
          "output_type": "stream",
          "name": "stderr",
          "text": [
            "512it [00:02, 231.22it/s]\n",
            "512it [00:02, 237.45it/s]\n",
            "512it [00:02, 238.30it/s]\n",
            "512it [00:02, 231.60it/s]\n",
            "512it [00:02, 236.06it/s]\n",
            "512it [00:02, 236.12it/s]\n",
            "512it [00:02, 233.10it/s]\n",
            "512it [00:02, 233.89it/s]\n",
            "512it [00:02, 235.38it/s]\n",
            "295it [00:01, 234.72it/s]\n"
          ]
        },
        {
          "output_type": "stream",
          "name": "stdout",
          "text": [
            "Finish process : すべからく / 4902\n",
            "Start process : compare_sentences\n",
            "Finish process : 81.88% / 18.12%\n",
            "------------------------\n",
            "Start process : get_vectors\n"
          ]
        },
        {
          "output_type": "stream",
          "name": "stderr",
          "text": [
            "512it [00:02, 230.02it/s]\n",
            "512it [00:02, 234.43it/s]\n",
            "512it [00:02, 232.74it/s]\n",
            "512it [00:02, 233.98it/s]\n",
            "512it [00:02, 233.66it/s]\n",
            "512it [00:02, 234.35it/s]\n",
            "512it [00:02, 232.83it/s]\n",
            "512it [00:02, 232.66it/s]\n",
            "512it [00:02, 234.28it/s]\n",
            "264it [00:01, 237.77it/s]\n"
          ]
        },
        {
          "output_type": "stream",
          "name": "stdout",
          "text": [
            "Finish process : すべからく / 4871\n",
            "Start process : compare_sentences\n",
            "Finish process : 78.81% / 21.19%\n",
            "------------------------\n",
            "Start process : get_vectors\n"
          ]
        },
        {
          "output_type": "stream",
          "name": "stderr",
          "text": [
            "512it [00:02, 230.18it/s]\n",
            "512it [00:02, 231.18it/s]\n",
            "512it [00:02, 234.17it/s]\n",
            "512it [00:02, 239.45it/s]\n",
            "512it [00:02, 251.51it/s]\n",
            "512it [00:02, 232.18it/s]\n",
            "512it [00:02, 225.27it/s]\n",
            "512it [00:02, 233.49it/s]\n",
            "512it [00:02, 229.30it/s]\n",
            "296it [00:01, 207.50it/s]\n"
          ]
        },
        {
          "output_type": "stream",
          "name": "stdout",
          "text": [
            "Finish process : すべからく / 4904\n",
            "Start process : compare_sentences\n",
            "Finish process : 83.12% / 16.88%\n",
            "------------------------\n",
            "Start process : get_vectors\n"
          ]
        },
        {
          "output_type": "stream",
          "name": "stderr",
          "text": [
            "512it [00:02, 219.47it/s]\n",
            "512it [00:02, 232.26it/s]\n",
            "512it [00:02, 231.83it/s]\n",
            "512it [00:02, 225.63it/s]\n",
            "512it [00:02, 228.44it/s]\n",
            "512it [00:02, 230.92it/s]\n",
            "512it [00:02, 227.29it/s]\n",
            "512it [00:02, 231.53it/s]\n",
            "512it [00:02, 232.24it/s]\n",
            "150it [00:00, 232.02it/s]\n"
          ]
        },
        {
          "output_type": "stream",
          "name": "stdout",
          "text": [
            "Finish process : すべからく / 4758\n",
            "Start process : compare_sentences\n",
            "Finish process : 76.38% / 23.62%\n",
            "------------------------\n",
            "Start process : get_vectors\n"
          ]
        },
        {
          "output_type": "stream",
          "name": "stderr",
          "text": [
            "512it [00:02, 228.89it/s]\n",
            "512it [00:02, 228.46it/s]\n",
            "512it [00:02, 219.16it/s]\n",
            "512it [00:02, 232.00it/s]\n",
            "512it [00:02, 222.22it/s]\n",
            "512it [00:02, 222.94it/s]\n",
            "512it [00:02, 230.30it/s]\n",
            "512it [00:02, 236.12it/s]\n",
            "512it [00:02, 230.74it/s]\n",
            "241it [00:01, 231.54it/s]\n"
          ]
        },
        {
          "output_type": "stream",
          "name": "stdout",
          "text": [
            "Finish process : すべからく / 4848\n",
            "Start process : compare_sentences\n",
            "Finish process : 71.49% / 28.51%\n",
            "------------------------\n",
            "Start process : get_vectors\n"
          ]
        },
        {
          "output_type": "stream",
          "name": "stderr",
          "text": [
            "512it [00:02, 219.00it/s]\n",
            "512it [00:02, 233.39it/s]\n",
            "512it [00:02, 229.31it/s]\n",
            "512it [00:02, 230.66it/s]\n",
            "512it [00:02, 229.37it/s]\n",
            "512it [00:02, 249.46it/s]\n",
            "512it [00:02, 232.98it/s]\n",
            "512it [00:02, 232.01it/s]\n",
            "512it [00:02, 225.90it/s]\n",
            "28it [00:00, 239.39it/s]\n"
          ]
        },
        {
          "output_type": "stream",
          "name": "stdout",
          "text": [
            "Finish process : すべからく / 4636\n",
            "Start process : compare_sentences\n",
            "Finish process : 72.37% / 27.63%\n",
            "------------------------\n",
            "Start process : get_vectors\n"
          ]
        },
        {
          "output_type": "stream",
          "name": "stderr",
          "text": [
            "300it [00:01, 219.13it/s]\n"
          ]
        },
        {
          "output_type": "stream",
          "name": "stdout",
          "text": [
            "Finish process : 割愛 / 300\n",
            "Start process : compare_sentences\n",
            "Finish process : 100.00% / 0.00%\n",
            "------------------------\n",
            "Start process : get_vectors\n"
          ]
        },
        {
          "output_type": "stream",
          "name": "stderr",
          "text": [
            "512it [00:02, 228.46it/s]\n",
            "512it [00:02, 227.27it/s]\n",
            "512it [00:02, 227.85it/s]\n",
            "512it [00:02, 227.12it/s]\n",
            "282it [00:01, 226.98it/s]\n"
          ]
        },
        {
          "output_type": "stream",
          "name": "stdout",
          "text": [
            "Finish process : 割愛 / 2330\n",
            "Start process : compare_sentences\n",
            "Finish process : 100.00% / 0.00%\n",
            "------------------------\n",
            "Start process : get_vectors\n"
          ]
        },
        {
          "output_type": "stream",
          "name": "stderr",
          "text": [
            "512it [00:02, 214.75it/s]\n",
            "512it [00:02, 219.69it/s]\n",
            "512it [00:02, 217.60it/s]\n",
            "512it [00:02, 223.44it/s]\n",
            "512it [00:02, 223.73it/s]\n",
            "512it [00:02, 224.22it/s]\n",
            "512it [00:02, 224.48it/s]\n",
            "512it [00:02, 223.61it/s]\n",
            "512it [00:02, 223.17it/s]\n",
            "214it [00:00, 229.36it/s]\n"
          ]
        },
        {
          "output_type": "stream",
          "name": "stdout",
          "text": [
            "Finish process : 割愛 / 4822\n",
            "Start process : compare_sentences\n",
            "Finish process : 100.00% / 0.00%\n",
            "------------------------\n",
            "Start process : get_vectors\n"
          ]
        },
        {
          "output_type": "stream",
          "name": "stderr",
          "text": [
            "512it [00:02, 212.30it/s]\n",
            "512it [00:02, 212.29it/s]\n",
            "512it [00:02, 240.95it/s]\n",
            "512it [00:02, 213.33it/s]\n",
            "512it [00:02, 215.66it/s]\n",
            "512it [00:02, 221.89it/s]\n",
            "512it [00:02, 218.53it/s]\n",
            "512it [00:02, 212.47it/s]\n",
            "512it [00:02, 215.88it/s]\n",
            "353it [00:01, 219.28it/s]\n"
          ]
        },
        {
          "output_type": "stream",
          "name": "stdout",
          "text": [
            "Finish process : 割愛 / 4961\n",
            "Start process : compare_sentences\n",
            "Finish process : 100.00% / 0.00%\n",
            "------------------------\n",
            "Start process : get_vectors\n"
          ]
        },
        {
          "output_type": "stream",
          "name": "stderr",
          "text": [
            "512it [00:02, 214.17it/s]\n",
            "512it [00:02, 229.46it/s]\n",
            "512it [00:02, 221.96it/s]\n",
            "512it [00:02, 221.57it/s]\n",
            "512it [00:02, 217.46it/s]\n",
            "512it [00:02, 213.11it/s]\n",
            "512it [00:02, 216.98it/s]\n",
            "512it [00:02, 235.53it/s]\n",
            "512it [00:02, 213.48it/s]\n",
            "75it [00:00, 221.81it/s]\n"
          ]
        },
        {
          "output_type": "stream",
          "name": "stdout",
          "text": [
            "Finish process : 割愛 / 4683\n",
            "Start process : compare_sentences\n",
            "Finish process : 100.00% / 0.00%\n",
            "------------------------\n",
            "Start process : get_vectors\n"
          ]
        },
        {
          "output_type": "stream",
          "name": "stderr",
          "text": [
            "512it [00:02, 232.55it/s]\n",
            "512it [00:02, 222.09it/s]\n",
            "512it [00:02, 219.83it/s]\n",
            "512it [00:02, 216.36it/s]\n",
            "512it [00:02, 228.54it/s]\n",
            "512it [00:02, 213.46it/s]\n",
            "512it [00:02, 222.19it/s]\n",
            "512it [00:02, 222.54it/s]\n",
            "512it [00:02, 215.67it/s]\n",
            "131it [00:00, 219.40it/s]\n"
          ]
        },
        {
          "output_type": "stream",
          "name": "stdout",
          "text": [
            "Finish process : 割愛 / 4738\n",
            "Start process : compare_sentences\n",
            "Finish process : 100.00% / 0.00%\n",
            "------------------------\n",
            "Start process : get_vectors\n"
          ]
        },
        {
          "output_type": "stream",
          "name": "stderr",
          "text": [
            "512it [00:02, 219.32it/s]\n",
            "512it [00:02, 218.13it/s]\n",
            "512it [00:02, 220.97it/s]\n",
            "512it [00:02, 221.54it/s]\n",
            "512it [00:02, 217.96it/s]\n",
            "512it [00:02, 220.93it/s]\n",
            "512it [00:02, 220.63it/s]\n",
            "512it [00:02, 229.80it/s]\n",
            "512it [00:02, 226.91it/s]\n",
            "207it [00:00, 225.42it/s]\n"
          ]
        },
        {
          "output_type": "stream",
          "name": "stdout",
          "text": [
            "Finish process : 割愛 / 4815\n",
            "Start process : compare_sentences\n",
            "Finish process : 100.00% / 0.00%\n",
            "------------------------\n",
            "Start process : get_vectors\n"
          ]
        },
        {
          "output_type": "stream",
          "name": "stderr",
          "text": [
            "512it [00:02, 214.29it/s]\n",
            "512it [00:02, 216.73it/s]\n",
            "512it [00:02, 216.70it/s]\n",
            "512it [00:02, 218.54it/s]\n",
            "512it [00:02, 219.28it/s]\n",
            "512it [00:02, 215.50it/s]\n",
            "512it [00:02, 215.11it/s]\n",
            "512it [00:02, 216.25it/s]\n",
            "512it [00:02, 192.26it/s]\n",
            "256it [00:01, 209.92it/s]\n"
          ]
        },
        {
          "output_type": "stream",
          "name": "stdout",
          "text": [
            "Finish process : 割愛 / 4863\n",
            "Start process : compare_sentences\n",
            "Finish process : 100.00% / 0.00%\n",
            "------------------------\n",
            "Start process : get_vectors\n"
          ]
        },
        {
          "output_type": "stream",
          "name": "stderr",
          "text": [
            "512it [00:02, 216.76it/s]\n",
            "512it [00:02, 218.38it/s]\n",
            "512it [00:02, 219.54it/s]\n",
            "512it [00:02, 214.79it/s]\n",
            "512it [00:02, 217.82it/s]\n",
            "512it [00:02, 214.20it/s]\n",
            "512it [00:02, 210.16it/s]\n",
            "512it [00:02, 215.64it/s]\n",
            "512it [00:02, 203.35it/s]\n",
            "236it [00:01, 213.56it/s]\n"
          ]
        },
        {
          "output_type": "stream",
          "name": "stdout",
          "text": [
            "Finish process : 割愛 / 4844\n",
            "Start process : compare_sentences\n",
            "Finish process : 100.00% / 0.00%\n",
            "------------------------\n",
            "Start process : get_vectors\n"
          ]
        },
        {
          "output_type": "stream",
          "name": "stderr",
          "text": [
            "512it [00:02, 205.78it/s]\n",
            "512it [00:02, 206.26it/s]\n",
            "512it [00:02, 191.67it/s]\n",
            "512it [00:02, 214.20it/s]\n",
            "512it [00:02, 208.31it/s]\n",
            "512it [00:02, 187.00it/s]\n",
            "512it [00:02, 202.47it/s]\n",
            "512it [00:02, 206.37it/s]\n",
            "362it [00:01, 210.44it/s]\n"
          ]
        },
        {
          "output_type": "stream",
          "name": "stdout",
          "text": [
            "Finish process : 割愛 / 4456\n",
            "Start process : compare_sentences\n",
            "Finish process : 100.00% / 0.00%\n",
            "------------------------\n",
            "Start process : get_vectors\n"
          ]
        },
        {
          "output_type": "stream",
          "name": "stderr",
          "text": [
            "512it [00:02, 211.00it/s]\n",
            "512it [00:02, 210.60it/s]\n",
            "512it [00:02, 206.88it/s]\n",
            "512it [00:02, 209.70it/s]\n",
            "512it [00:02, 210.24it/s]\n",
            "512it [00:02, 214.85it/s]\n",
            "512it [00:02, 216.40it/s]\n",
            "512it [00:02, 216.99it/s]\n",
            "512it [00:02, 214.08it/s]\n",
            "39it [00:00, 231.53it/s]\n"
          ]
        },
        {
          "output_type": "stream",
          "name": "stdout",
          "text": [
            "Finish process : 割愛 / 4647\n",
            "Start process : compare_sentences\n",
            "Finish process : 100.00% / 0.00%\n",
            "------------------------\n",
            "Start process : get_vectors\n"
          ]
        },
        {
          "output_type": "stream",
          "name": "stderr",
          "text": [
            "512it [00:02, 203.23it/s]\n",
            "512it [00:02, 207.20it/s]\n",
            "512it [00:02, 211.67it/s]\n",
            "512it [00:02, 211.15it/s]\n",
            "512it [00:02, 214.12it/s]\n",
            "512it [00:02, 210.41it/s]\n",
            "512it [00:02, 214.04it/s]\n",
            "512it [00:02, 217.33it/s]\n",
            "512it [00:02, 210.70it/s]\n",
            "83it [00:00, 214.42it/s]\n"
          ]
        },
        {
          "output_type": "stream",
          "name": "stdout",
          "text": [
            "Finish process : 割愛 / 4690\n",
            "Start process : compare_sentences\n",
            "Finish process : 100.00% / 0.00%\n",
            "------------------------\n",
            "Start process : get_vectors\n"
          ]
        },
        {
          "output_type": "stream",
          "name": "stderr",
          "text": [
            "512it [00:02, 205.36it/s]\n",
            "512it [00:02, 212.01it/s]\n",
            "512it [00:02, 209.97it/s]\n",
            "512it [00:02, 208.31it/s]\n",
            "512it [00:02, 208.69it/s]\n",
            "512it [00:02, 206.32it/s]\n",
            "512it [00:02, 208.51it/s]\n",
            "512it [00:02, 210.14it/s]\n",
            "438it [00:02, 205.74it/s]\n"
          ]
        },
        {
          "output_type": "stream",
          "name": "stdout",
          "text": [
            "Finish process : 割愛 / 4534\n",
            "Start process : compare_sentences\n",
            "Finish process : 100.00% / 0.00%\n",
            "------------------------\n",
            "Start process : get_vectors\n"
          ]
        },
        {
          "output_type": "stream",
          "name": "stderr",
          "text": [
            "512it [00:02, 205.73it/s]\n",
            "512it [00:02, 212.65it/s]\n",
            "512it [00:02, 214.29it/s]\n",
            "512it [00:02, 208.55it/s]\n",
            "512it [00:02, 204.16it/s]\n",
            "512it [00:02, 194.88it/s]\n",
            "512it [00:02, 204.64it/s]\n",
            "512it [00:02, 212.94it/s]\n",
            "468it [00:02, 211.30it/s]\n"
          ]
        },
        {
          "output_type": "stream",
          "name": "stdout",
          "text": [
            "Finish process : 割愛 / 4563\n",
            "Start process : compare_sentences\n",
            "Finish process : 100.00% / 0.00%\n",
            "------------------------\n",
            "Start process : get_vectors\n"
          ]
        },
        {
          "output_type": "stream",
          "name": "stderr",
          "text": [
            "350it [00:01, 244.21it/s]\n"
          ]
        },
        {
          "output_type": "stream",
          "name": "stdout",
          "text": [
            "Finish process : 破天荒 / 350\n",
            "Start process : compare_sentences\n",
            "Finish process : 17.14% / 82.86%\n",
            "------------------------\n",
            "Start process : get_vectors\n"
          ]
        },
        {
          "output_type": "stream",
          "name": "stderr",
          "text": [
            "512it [00:01, 261.11it/s]\n",
            "68it [00:00, 271.76it/s]\n"
          ]
        },
        {
          "output_type": "stream",
          "name": "stdout",
          "text": [
            "Finish process : 破天荒 / 580\n",
            "Start process : compare_sentences\n",
            "Finish process : 19.14% / 80.86%\n",
            "------------------------\n",
            "Start process : get_vectors\n"
          ]
        },
        {
          "output_type": "stream",
          "name": "stderr",
          "text": [
            "512it [00:02, 238.08it/s]\n",
            "512it [00:02, 250.77it/s]\n",
            "512it [00:02, 241.45it/s]\n",
            "512it [00:02, 243.63it/s]\n",
            "94it [00:00, 248.34it/s]\n"
          ]
        },
        {
          "output_type": "stream",
          "name": "stdout",
          "text": [
            "Finish process : 破天荒 / 2142\n",
            "Start process : compare_sentences\n",
            "Finish process : 6.91% / 93.09%\n",
            "------------------------\n",
            "Start process : get_vectors\n"
          ]
        },
        {
          "output_type": "stream",
          "name": "stderr",
          "text": [
            "512it [00:02, 240.61it/s]\n",
            "512it [00:02, 243.75it/s]\n",
            "512it [00:02, 240.62it/s]\n",
            "512it [00:02, 233.56it/s]\n",
            "512it [00:02, 237.06it/s]\n",
            "512it [00:02, 244.15it/s]\n",
            "512it [00:02, 242.64it/s]\n",
            "512it [00:02, 240.63it/s]\n",
            "512it [00:02, 239.63it/s]\n",
            "361it [00:01, 239.65it/s]\n"
          ]
        },
        {
          "output_type": "stream",
          "name": "stdout",
          "text": [
            "Finish process : 破天荒 / 4969\n",
            "Start process : compare_sentences\n",
            "Finish process : 3.38% / 96.62%\n",
            "------------------------\n",
            "Start process : get_vectors\n"
          ]
        },
        {
          "output_type": "stream",
          "name": "stderr",
          "text": [
            "512it [00:02, 236.36it/s]\n",
            "512it [00:02, 242.95it/s]\n",
            "512it [00:02, 245.72it/s]\n",
            "512it [00:02, 241.74it/s]\n",
            "512it [00:02, 242.18it/s]\n",
            "512it [00:02, 249.08it/s]\n",
            "512it [00:02, 245.47it/s]\n",
            "512it [00:02, 247.06it/s]\n",
            "512it [00:02, 238.98it/s]\n",
            "337it [00:01, 279.21it/s]\n"
          ]
        },
        {
          "output_type": "stream",
          "name": "stdout",
          "text": [
            "Finish process : 破天荒 / 4945\n",
            "Start process : compare_sentences\n",
            "Finish process : 4.93% / 95.07%\n",
            "------------------------\n",
            "Start process : get_vectors\n"
          ]
        },
        {
          "output_type": "stream",
          "name": "stderr",
          "text": [
            "512it [00:02, 237.73it/s]\n",
            "512it [00:02, 250.17it/s]\n",
            "512it [00:01, 282.89it/s]\n",
            "512it [00:02, 243.00it/s]\n",
            "512it [00:02, 240.11it/s]\n",
            "512it [00:02, 248.36it/s]\n",
            "512it [00:02, 245.94it/s]\n",
            "512it [00:02, 243.30it/s]\n",
            "512it [00:02, 252.28it/s]\n",
            "170it [00:00, 244.80it/s]\n"
          ]
        },
        {
          "output_type": "stream",
          "name": "stdout",
          "text": [
            "Finish process : 破天荒 / 4778\n",
            "Start process : compare_sentences\n",
            "Finish process : 8.16% / 91.84%\n",
            "------------------------\n",
            "Start process : get_vectors\n"
          ]
        },
        {
          "output_type": "stream",
          "name": "stderr",
          "text": [
            "512it [00:02, 230.66it/s]\n",
            "512it [00:02, 207.51it/s]\n",
            "512it [00:02, 190.88it/s]\n",
            "512it [00:02, 247.69it/s]\n",
            "512it [00:02, 245.94it/s]\n",
            "512it [00:02, 246.77it/s]\n",
            "512it [00:02, 245.24it/s]\n",
            "512it [00:02, 237.28it/s]\n",
            "512it [00:02, 250.26it/s]\n",
            "264it [00:01, 248.35it/s]\n"
          ]
        },
        {
          "output_type": "stream",
          "name": "stdout",
          "text": [
            "Finish process : 破天荒 / 4872\n",
            "Start process : compare_sentences\n",
            "Finish process : 4.58% / 95.42%\n",
            "------------------------\n",
            "Start process : get_vectors\n"
          ]
        },
        {
          "output_type": "stream",
          "name": "stderr",
          "text": [
            "512it [00:02, 241.85it/s]\n",
            "512it [00:02, 254.99it/s]\n",
            "512it [00:02, 241.23it/s]\n",
            "512it [00:02, 244.32it/s]\n",
            "512it [00:02, 245.49it/s]\n",
            "512it [00:02, 251.28it/s]\n",
            "512it [00:02, 246.50it/s]\n",
            "512it [00:02, 237.71it/s]\n",
            "512it [00:02, 242.72it/s]\n",
            "58it [00:00, 250.62it/s]\n"
          ]
        },
        {
          "output_type": "stream",
          "name": "stdout",
          "text": [
            "Finish process : 破天荒 / 4666\n",
            "Start process : compare_sentences\n",
            "Finish process : 5.57% / 94.43%\n",
            "------------------------\n",
            "Start process : get_vectors\n"
          ]
        },
        {
          "output_type": "stream",
          "name": "stderr",
          "text": [
            "512it [00:02, 234.84it/s]\n",
            "512it [00:02, 235.90it/s]\n",
            "512it [00:02, 236.02it/s]\n",
            "512it [00:02, 231.26it/s]\n",
            "512it [00:02, 231.06it/s]\n",
            "512it [00:01, 267.02it/s]\n",
            "512it [00:02, 251.91it/s]\n",
            "512it [00:02, 250.26it/s]\n",
            "509it [00:01, 262.37it/s]\n"
          ]
        },
        {
          "output_type": "stream",
          "name": "stdout",
          "text": [
            "Finish process : 破天荒 / 4605\n",
            "Start process : compare_sentences\n",
            "Finish process : 1.56% / 98.44%\n",
            "------------------------\n",
            "Start process : get_vectors\n"
          ]
        },
        {
          "output_type": "stream",
          "name": "stderr",
          "text": [
            "512it [00:02, 227.89it/s]\n",
            "512it [00:02, 238.53it/s]\n",
            "512it [00:02, 248.28it/s]\n",
            "512it [00:02, 241.52it/s]\n",
            "512it [00:02, 242.18it/s]\n",
            "512it [00:02, 238.26it/s]\n",
            "512it [00:02, 236.32it/s]\n",
            "512it [00:02, 240.74it/s]\n",
            "512it [00:02, 234.64it/s]\n",
            "271it [00:01, 216.35it/s]\n"
          ]
        },
        {
          "output_type": "stream",
          "name": "stdout",
          "text": [
            "Finish process : 破天荒 / 4879\n",
            "Start process : compare_sentences\n",
            "Finish process : 2.85% / 97.15%\n",
            "------------------------\n",
            "Start process : get_vectors\n"
          ]
        },
        {
          "output_type": "stream",
          "name": "stderr",
          "text": [
            "512it [00:02, 231.86it/s]\n",
            "512it [00:02, 240.67it/s]\n",
            "512it [00:02, 251.47it/s]\n",
            "512it [00:01, 264.93it/s]\n",
            "512it [00:01, 268.49it/s]\n",
            "512it [00:01, 279.30it/s]\n",
            "512it [00:01, 271.88it/s]\n",
            "512it [00:02, 248.78it/s]\n",
            "512it [00:02, 250.35it/s]\n",
            "311it [00:01, 218.41it/s]\n"
          ]
        },
        {
          "output_type": "stream",
          "name": "stdout",
          "text": [
            "Finish process : 破天荒 / 4919\n",
            "Start process : compare_sentences\n",
            "Finish process : 4.61% / 95.39%\n",
            "------------------------\n",
            "Start process : get_vectors\n"
          ]
        },
        {
          "output_type": "stream",
          "name": "stderr",
          "text": [
            "512it [00:02, 229.99it/s]\n",
            "512it [00:02, 238.19it/s]\n",
            "512it [00:02, 241.43it/s]\n",
            "512it [00:02, 253.54it/s]\n",
            "512it [00:02, 240.68it/s]\n",
            "512it [00:02, 240.45it/s]\n",
            "512it [00:02, 224.75it/s]\n",
            "512it [00:02, 210.37it/s]\n",
            "512it [00:02, 237.61it/s]\n",
            "248it [00:00, 249.59it/s]\n"
          ]
        },
        {
          "output_type": "stream",
          "name": "stdout",
          "text": [
            "Finish process : 破天荒 / 4855\n",
            "Start process : compare_sentences\n",
            "Finish process : 2.37% / 97.63%\n",
            "------------------------\n",
            "Start process : get_vectors\n"
          ]
        },
        {
          "output_type": "stream",
          "name": "stderr",
          "text": [
            "512it [00:02, 227.06it/s]\n",
            "512it [00:02, 232.85it/s]\n",
            "512it [00:02, 223.28it/s]\n",
            "512it [00:02, 231.92it/s]\n",
            "512it [00:02, 229.63it/s]\n",
            "512it [00:02, 230.99it/s]\n",
            "512it [00:02, 237.50it/s]\n",
            "512it [00:02, 217.37it/s]\n",
            "512it [00:02, 196.00it/s]\n",
            "285it [00:01, 193.98it/s]\n"
          ]
        },
        {
          "output_type": "stream",
          "name": "stdout",
          "text": [
            "Finish process : 破天荒 / 4893\n",
            "Start process : compare_sentences\n",
            "Finish process : 5.50% / 94.50%\n",
            "------------------------\n",
            "Start process : get_vectors\n"
          ]
        },
        {
          "output_type": "stream",
          "name": "stderr",
          "text": [
            "512it [00:02, 230.10it/s]\n",
            "512it [00:02, 214.25it/s]\n",
            "512it [00:02, 235.00it/s]\n",
            "512it [00:02, 231.59it/s]\n",
            "512it [00:02, 239.04it/s]\n",
            "512it [00:02, 223.28it/s]\n",
            "512it [00:02, 235.84it/s]\n",
            "512it [00:02, 240.24it/s]\n",
            "512it [00:02, 219.02it/s]\n",
            "157it [00:00, 176.72it/s]\n"
          ]
        },
        {
          "output_type": "stream",
          "name": "stdout",
          "text": [
            "Finish process : 破天荒 / 4765\n",
            "Start process : compare_sentences\n",
            "Finish process : 2.16% / 97.84%\n",
            "------------------------\n",
            "Start process : get_vectors\n"
          ]
        },
        {
          "output_type": "stream",
          "name": "stderr",
          "text": [
            "200it [00:00, 231.34it/s]\n"
          ]
        },
        {
          "output_type": "stream",
          "name": "stdout",
          "text": [
            "Finish process : 役不足 / 200\n",
            "Start process : compare_sentences\n",
            "Finish process : 100.00% / 0.00%\n",
            "------------------------\n",
            "Start process : get_vectors\n"
          ]
        },
        {
          "output_type": "stream",
          "name": "stderr",
          "text": [
            "512it [00:01, 260.57it/s]\n",
            "512it [00:01, 260.38it/s]\n",
            "512it [00:01, 260.29it/s]\n",
            "512it [00:01, 262.64it/s]\n",
            "272it [00:01, 263.46it/s]\n"
          ]
        },
        {
          "output_type": "stream",
          "name": "stdout",
          "text": [
            "Finish process : 役不足 / 2320\n",
            "Start process : compare_sentences\n",
            "Finish process : 100.00% / 0.00%\n",
            "------------------------\n",
            "Start process : get_vectors\n"
          ]
        },
        {
          "output_type": "stream",
          "name": "stderr",
          "text": [
            "512it [00:02, 235.57it/s]\n",
            "512it [00:02, 243.50it/s]\n",
            "483it [00:01, 253.97it/s]\n"
          ]
        },
        {
          "output_type": "stream",
          "name": "stdout",
          "text": [
            "Finish process : 役不足 / 1507\n",
            "Start process : compare_sentences\n",
            "Finish process : 100.00% / 0.00%\n",
            "------------------------\n",
            "Start process : get_vectors\n"
          ]
        },
        {
          "output_type": "stream",
          "name": "stderr",
          "text": [
            "512it [00:02, 231.30it/s]\n",
            "512it [00:02, 237.47it/s]\n",
            "512it [00:02, 238.50it/s]\n",
            "512it [00:02, 234.31it/s]\n",
            "512it [00:02, 234.41it/s]\n",
            "512it [00:02, 239.42it/s]\n",
            "512it [00:02, 238.17it/s]\n",
            "512it [00:02, 248.75it/s]\n",
            "512it [00:02, 236.59it/s]\n",
            "336it [00:01, 235.36it/s]\n"
          ]
        },
        {
          "output_type": "stream",
          "name": "stdout",
          "text": [
            "Finish process : 役不足 / 4944\n",
            "Start process : compare_sentences\n",
            "Finish process : 100.00% / 0.00%\n",
            "------------------------\n",
            "Start process : get_vectors\n"
          ]
        },
        {
          "output_type": "stream",
          "name": "stderr",
          "text": [
            "512it [00:02, 241.34it/s]\n",
            "512it [00:02, 242.07it/s]\n",
            "512it [00:02, 242.16it/s]\n",
            "512it [00:02, 244.22it/s]\n",
            "512it [00:02, 243.53it/s]\n",
            "512it [00:02, 241.29it/s]\n",
            "512it [00:02, 239.25it/s]\n",
            "512it [00:02, 241.89it/s]\n",
            "512it [00:02, 240.69it/s]\n",
            "324it [00:01, 239.05it/s]\n"
          ]
        },
        {
          "output_type": "stream",
          "name": "stdout",
          "text": [
            "Finish process : 役不足 / 4932\n",
            "Start process : compare_sentences\n",
            "Finish process : 100.00% / 0.00%\n",
            "------------------------\n",
            "Start process : get_vectors\n"
          ]
        },
        {
          "output_type": "stream",
          "name": "stderr",
          "text": [
            "512it [00:02, 238.53it/s]\n",
            "512it [00:02, 244.94it/s]\n",
            "512it [00:02, 244.69it/s]\n",
            "512it [00:02, 245.88it/s]\n",
            "512it [00:02, 249.12it/s]\n",
            "512it [00:02, 236.97it/s]\n",
            "512it [00:02, 245.52it/s]\n",
            "512it [00:02, 246.04it/s]\n",
            "512it [00:02, 240.04it/s]\n",
            "321it [00:01, 241.77it/s]\n"
          ]
        },
        {
          "output_type": "stream",
          "name": "stdout",
          "text": [
            "Finish process : 役不足 / 4929\n",
            "Start process : compare_sentences\n",
            "Finish process : 100.00% / 0.00%\n",
            "------------------------\n",
            "Start process : get_vectors\n"
          ]
        },
        {
          "output_type": "stream",
          "name": "stderr",
          "text": [
            "512it [00:02, 240.03it/s]\n",
            "512it [00:02, 232.64it/s]\n",
            "512it [00:02, 244.25it/s]\n",
            "512it [00:02, 240.98it/s]\n",
            "512it [00:02, 235.69it/s]\n",
            "512it [00:02, 240.89it/s]\n",
            "512it [00:02, 241.42it/s]\n",
            "512it [00:02, 241.79it/s]\n",
            "512it [00:02, 237.85it/s]\n",
            "313it [00:01, 239.28it/s]\n"
          ]
        },
        {
          "output_type": "stream",
          "name": "stdout",
          "text": [
            "Finish process : 役不足 / 4921\n",
            "Start process : compare_sentences\n",
            "Finish process : 99.98% / 0.02%\n",
            "------------------------\n",
            "Start process : get_vectors\n"
          ]
        },
        {
          "output_type": "stream",
          "name": "stderr",
          "text": [
            "512it [00:02, 242.06it/s]\n",
            "512it [00:02, 244.80it/s]\n",
            "512it [00:02, 242.57it/s]\n",
            "512it [00:02, 243.29it/s]\n",
            "512it [00:02, 245.42it/s]\n",
            "512it [00:02, 229.52it/s]\n",
            "512it [00:02, 243.01it/s]\n",
            "512it [00:02, 245.07it/s]\n",
            "512it [00:02, 228.40it/s]\n",
            "325it [00:01, 185.58it/s]\n"
          ]
        },
        {
          "output_type": "stream",
          "name": "stdout",
          "text": [
            "Finish process : 役不足 / 4933\n",
            "Start process : compare_sentences\n",
            "Finish process : 100.00% / 0.00%\n",
            "------------------------\n",
            "Start process : get_vectors\n"
          ]
        },
        {
          "output_type": "stream",
          "name": "stderr",
          "text": [
            "512it [00:02, 237.55it/s]\n",
            "512it [00:02, 221.99it/s]\n",
            "512it [00:02, 247.85it/s]\n",
            "512it [00:02, 241.57it/s]\n",
            "512it [00:02, 241.63it/s]\n",
            "512it [00:02, 240.90it/s]\n",
            "512it [00:02, 244.48it/s]\n",
            "512it [00:02, 243.54it/s]\n",
            "512it [00:02, 240.96it/s]\n",
            "352it [00:01, 241.40it/s]\n"
          ]
        },
        {
          "output_type": "stream",
          "name": "stdout",
          "text": [
            "Finish process : 役不足 / 4960\n",
            "Start process : compare_sentences\n",
            "Finish process : 100.00% / 0.00%\n",
            "------------------------\n",
            "Start process : get_vectors\n"
          ]
        },
        {
          "output_type": "stream",
          "name": "stderr",
          "text": [
            "512it [00:02, 233.64it/s]\n",
            "512it [00:02, 235.98it/s]\n",
            "512it [00:02, 236.58it/s]\n",
            "512it [00:02, 237.62it/s]\n",
            "512it [00:02, 184.96it/s]\n",
            "512it [00:02, 175.21it/s]\n",
            "512it [00:02, 238.89it/s]\n",
            "512it [00:02, 207.10it/s]\n",
            "512it [00:02, 206.64it/s]\n",
            "358it [00:01, 203.67it/s]\n"
          ]
        },
        {
          "output_type": "stream",
          "name": "stdout",
          "text": [
            "Finish process : 役不足 / 4966\n",
            "Start process : compare_sentences\n",
            "Finish process : 100.00% / 0.00%\n",
            "------------------------\n",
            "Start process : get_vectors\n"
          ]
        },
        {
          "output_type": "stream",
          "name": "stderr",
          "text": [
            "512it [00:02, 232.90it/s]\n",
            "512it [00:02, 237.33it/s]\n",
            "512it [00:02, 239.90it/s]\n",
            "512it [00:02, 236.16it/s]\n",
            "512it [00:02, 236.54it/s]\n",
            "512it [00:02, 236.55it/s]\n",
            "512it [00:02, 238.66it/s]\n",
            "512it [00:02, 243.85it/s]\n",
            "512it [00:02, 235.93it/s]\n",
            "278it [00:01, 238.25it/s]\n"
          ]
        },
        {
          "output_type": "stream",
          "name": "stdout",
          "text": [
            "Finish process : 役不足 / 4886\n",
            "Start process : compare_sentences\n",
            "Finish process : 100.00% / 0.00%\n",
            "------------------------\n",
            "Start process : get_vectors\n"
          ]
        },
        {
          "output_type": "stream",
          "name": "stderr",
          "text": [
            "512it [00:02, 235.68it/s]\n",
            "512it [00:02, 231.34it/s]\n",
            "512it [00:02, 210.31it/s]\n",
            "512it [00:02, 232.57it/s]\n",
            "512it [00:02, 232.78it/s]\n",
            "512it [00:02, 239.75it/s]\n",
            "512it [00:02, 225.30it/s]\n",
            "512it [00:02, 232.94it/s]\n",
            "512it [00:02, 224.68it/s]\n",
            "319it [00:01, 196.06it/s]\n"
          ]
        },
        {
          "output_type": "stream",
          "name": "stdout",
          "text": [
            "Finish process : 役不足 / 4926\n",
            "Start process : compare_sentences\n",
            "Finish process : 100.00% / 0.00%\n",
            "------------------------\n",
            "Start process : get_vectors\n"
          ]
        },
        {
          "output_type": "stream",
          "name": "stderr",
          "text": [
            "512it [00:02, 213.65it/s]\n",
            "512it [00:02, 213.40it/s]\n",
            "512it [00:02, 226.50it/s]\n",
            "512it [00:02, 225.63it/s]\n",
            "512it [00:02, 233.37it/s]\n",
            "512it [00:02, 230.64it/s]\n",
            "512it [00:02, 230.28it/s]\n",
            "512it [00:02, 232.82it/s]\n",
            "512it [00:02, 233.41it/s]\n",
            "218it [00:00, 220.32it/s]\n"
          ]
        },
        {
          "output_type": "stream",
          "name": "stdout",
          "text": [
            "Finish process : 役不足 / 4826\n",
            "Start process : compare_sentences\n",
            "Finish process : 100.00% / 0.00%\n",
            "------------------------\n",
            "Start process : get_vectors\n"
          ]
        },
        {
          "output_type": "stream",
          "name": "stderr",
          "text": [
            "512it [00:02, 232.67it/s]\n",
            "512it [00:02, 227.11it/s]\n",
            "512it [00:02, 233.03it/s]\n",
            "512it [00:02, 229.83it/s]\n",
            "512it [00:02, 221.28it/s]\n",
            "512it [00:02, 226.14it/s]\n",
            "512it [00:02, 230.79it/s]\n",
            "512it [00:02, 231.31it/s]\n",
            "512it [00:02, 232.55it/s]\n",
            "247it [00:01, 233.36it/s]\n"
          ]
        },
        {
          "output_type": "stream",
          "name": "stdout",
          "text": [
            "Finish process : 役不足 / 4855\n",
            "Start process : compare_sentences\n",
            "Finish process : 100.00% / 0.00%\n",
            "------------------------\n",
            "Start process : get_vectors\n"
          ]
        },
        {
          "output_type": "stream",
          "name": "stderr",
          "text": [
            "512it [00:02, 252.65it/s]\n",
            "512it [00:01, 256.58it/s]\n",
            "496it [00:01, 256.81it/s]\n"
          ]
        },
        {
          "output_type": "stream",
          "name": "stdout",
          "text": [
            "Finish process : 確信犯 / 1520\n",
            "Start process : compare_sentences\n",
            "Finish process : 73.03% / 26.97%\n",
            "------------------------\n",
            "Start process : get_vectors\n"
          ]
        },
        {
          "output_type": "stream",
          "name": "stderr",
          "text": [
            "512it [00:02, 242.47it/s]\n",
            "512it [00:02, 248.85it/s]\n",
            "512it [00:02, 248.76it/s]\n",
            "512it [00:02, 248.98it/s]\n",
            "25it [00:00, 273.92it/s]\n"
          ]
        },
        {
          "output_type": "stream",
          "name": "stdout",
          "text": [
            "Finish process : 確信犯 / 2073\n",
            "Start process : compare_sentences\n",
            "Finish process : 81.14% / 18.86%\n",
            "------------------------\n",
            "Start process : get_vectors\n"
          ]
        },
        {
          "output_type": "stream",
          "name": "stderr",
          "text": [
            "512it [00:02, 229.40it/s]\n",
            "512it [00:02, 237.87it/s]\n",
            "512it [00:02, 236.56it/s]\n",
            "512it [00:02, 242.69it/s]\n",
            "512it [00:02, 242.14it/s]\n",
            "512it [00:02, 241.28it/s]\n",
            "512it [00:02, 242.97it/s]\n",
            "512it [00:02, 240.53it/s]\n",
            "512it [00:02, 244.27it/s]\n",
            "363it [00:01, 246.03it/s]\n"
          ]
        },
        {
          "output_type": "stream",
          "name": "stdout",
          "text": [
            "Finish process : 確信犯 / 4971\n",
            "Start process : compare_sentences\n",
            "Finish process : 73.71% / 26.29%\n",
            "------------------------\n",
            "Start process : get_vectors\n"
          ]
        },
        {
          "output_type": "stream",
          "name": "stderr",
          "text": [
            "512it [00:02, 231.09it/s]\n",
            "512it [00:02, 244.48it/s]\n",
            "512it [00:02, 245.23it/s]\n",
            "512it [00:02, 239.24it/s]\n",
            "512it [00:02, 239.44it/s]\n",
            "512it [00:02, 238.74it/s]\n",
            "512it [00:02, 242.95it/s]\n",
            "512it [00:02, 240.56it/s]\n",
            "512it [00:02, 244.44it/s]\n",
            "339it [00:01, 238.06it/s]\n"
          ]
        },
        {
          "output_type": "stream",
          "name": "stdout",
          "text": [
            "Finish process : 確信犯 / 4947\n",
            "Start process : compare_sentences\n",
            "Finish process : 69.80% / 30.20%\n",
            "------------------------\n",
            "Start process : get_vectors\n"
          ]
        },
        {
          "output_type": "stream",
          "name": "stderr",
          "text": [
            "512it [00:02, 230.13it/s]\n",
            "512it [00:02, 238.20it/s]\n",
            "512it [00:02, 239.62it/s]\n",
            "512it [00:02, 241.79it/s]\n",
            "512it [00:02, 220.37it/s]\n",
            "512it [00:02, 239.44it/s]\n",
            "512it [00:02, 245.68it/s]\n",
            "512it [00:02, 242.61it/s]\n",
            "512it [00:02, 245.35it/s]\n",
            "271it [00:01, 242.43it/s]\n"
          ]
        },
        {
          "output_type": "stream",
          "name": "stdout",
          "text": [
            "Finish process : 確信犯 / 4879\n",
            "Start process : compare_sentences\n",
            "Finish process : 69.93% / 30.07%\n",
            "------------------------\n",
            "Start process : get_vectors\n"
          ]
        },
        {
          "output_type": "stream",
          "name": "stderr",
          "text": [
            "512it [00:02, 238.09it/s]\n",
            "512it [00:02, 242.53it/s]\n",
            "512it [00:02, 238.83it/s]\n",
            "512it [00:02, 229.31it/s]\n",
            "512it [00:02, 242.38it/s]\n",
            "512it [00:02, 242.68it/s]\n",
            "512it [00:02, 230.37it/s]\n",
            "512it [00:02, 245.50it/s]\n",
            "512it [00:02, 244.18it/s]\n",
            "196it [00:00, 242.67it/s]\n"
          ]
        },
        {
          "output_type": "stream",
          "name": "stdout",
          "text": [
            "Finish process : 確信犯 / 4804\n",
            "Start process : compare_sentences\n",
            "Finish process : 72.38% / 27.62%\n",
            "------------------------\n",
            "Start process : get_vectors\n"
          ]
        },
        {
          "output_type": "stream",
          "name": "stderr",
          "text": [
            "512it [00:02, 239.94it/s]\n",
            "512it [00:02, 245.35it/s]\n",
            "512it [00:02, 248.46it/s]\n",
            "512it [00:02, 240.38it/s]\n",
            "512it [00:02, 243.62it/s]\n",
            "512it [00:02, 241.70it/s]\n",
            "512it [00:02, 242.32it/s]\n",
            "512it [00:02, 239.36it/s]\n",
            "512it [00:02, 237.15it/s]\n",
            "213it [00:00, 228.41it/s]\n"
          ]
        },
        {
          "output_type": "stream",
          "name": "stdout",
          "text": [
            "Finish process : 確信犯 / 4821\n",
            "Start process : compare_sentences\n",
            "Finish process : 75.03% / 24.97%\n",
            "------------------------\n",
            "Start process : get_vectors\n"
          ]
        },
        {
          "output_type": "stream",
          "name": "stderr",
          "text": [
            "512it [00:02, 240.38it/s]\n",
            "512it [00:02, 242.43it/s]\n",
            "512it [00:02, 234.71it/s]\n",
            "512it [00:02, 243.92it/s]\n",
            "512it [00:02, 240.84it/s]\n",
            "512it [00:02, 250.19it/s]\n",
            "512it [00:01, 267.92it/s]\n",
            "512it [00:02, 233.21it/s]\n",
            "512it [00:02, 243.86it/s]\n",
            "65it [00:00, 248.57it/s]\n"
          ]
        },
        {
          "output_type": "stream",
          "name": "stdout",
          "text": [
            "Finish process : 確信犯 / 4673\n",
            "Start process : compare_sentences\n",
            "Finish process : 72.63% / 27.37%\n",
            "------------------------\n",
            "Start process : get_vectors\n"
          ]
        },
        {
          "output_type": "stream",
          "name": "stderr",
          "text": [
            "512it [00:02, 236.37it/s]\n",
            "512it [00:02, 237.05it/s]\n",
            "512it [00:02, 245.22it/s]\n",
            "512it [00:02, 234.04it/s]\n",
            "512it [00:02, 236.67it/s]\n",
            "512it [00:02, 236.57it/s]\n",
            "512it [00:02, 221.42it/s]\n",
            "512it [00:02, 230.93it/s]\n",
            "512it [00:02, 241.55it/s]\n",
            "117it [00:00, 241.10it/s]\n"
          ]
        },
        {
          "output_type": "stream",
          "name": "stdout",
          "text": [
            "Finish process : 確信犯 / 4725\n",
            "Start process : compare_sentences\n",
            "Finish process : 67.89% / 32.11%\n",
            "------------------------\n",
            "Start process : get_vectors\n"
          ]
        },
        {
          "output_type": "stream",
          "name": "stderr",
          "text": [
            "512it [00:02, 235.13it/s]\n",
            "512it [00:02, 229.25it/s]\n",
            "512it [00:02, 240.81it/s]\n",
            "512it [00:02, 232.73it/s]\n",
            "512it [00:02, 236.60it/s]\n",
            "512it [00:02, 217.74it/s]\n",
            "512it [00:02, 236.89it/s]\n",
            "512it [00:02, 244.33it/s]\n",
            "512it [00:02, 235.42it/s]\n",
            "157it [00:00, 235.77it/s]\n"
          ]
        },
        {
          "output_type": "stream",
          "name": "stdout",
          "text": [
            "Finish process : 確信犯 / 4765\n",
            "Start process : compare_sentences\n",
            "Finish process : 75.66% / 24.34%\n",
            "------------------------\n",
            "Start process : get_vectors\n"
          ]
        },
        {
          "output_type": "stream",
          "name": "stderr",
          "text": [
            "512it [00:02, 225.90it/s]\n",
            "512it [00:02, 233.72it/s]\n",
            "512it [00:02, 232.76it/s]\n",
            "512it [00:02, 221.98it/s]\n",
            "512it [00:02, 206.43it/s]\n",
            "512it [00:02, 223.69it/s]\n",
            "512it [00:02, 220.55it/s]\n",
            "512it [00:02, 218.10it/s]\n",
            "512it [00:02, 214.39it/s]\n",
            "296it [00:01, 214.68it/s]\n"
          ]
        },
        {
          "output_type": "stream",
          "name": "stdout",
          "text": [
            "Finish process : 確信犯 / 4904\n",
            "Start process : compare_sentences\n",
            "Finish process : 83.01% / 16.99%\n",
            "------------------------\n",
            "Start process : get_vectors\n"
          ]
        },
        {
          "output_type": "stream",
          "name": "stderr",
          "text": [
            "512it [00:02, 225.42it/s]\n",
            "512it [00:02, 232.53it/s]\n",
            "512it [00:02, 227.23it/s]\n",
            "512it [00:02, 237.10it/s]\n",
            "512it [00:02, 238.60it/s]\n",
            "512it [00:02, 236.22it/s]\n",
            "512it [00:02, 236.63it/s]\n",
            "512it [00:02, 237.72it/s]\n",
            "512it [00:02, 236.73it/s]\n",
            "309it [00:01, 237.18it/s]\n"
          ]
        },
        {
          "output_type": "stream",
          "name": "stdout",
          "text": [
            "Finish process : 確信犯 / 4917\n",
            "Start process : compare_sentences\n",
            "Finish process : 18.16% / 81.84%\n",
            "------------------------\n",
            "Start process : get_vectors\n"
          ]
        },
        {
          "output_type": "stream",
          "name": "stderr",
          "text": [
            "512it [00:02, 222.18it/s]\n",
            "512it [00:02, 227.10it/s]\n",
            "512it [00:02, 227.04it/s]\n",
            "512it [00:02, 228.82it/s]\n",
            "512it [00:02, 225.60it/s]\n",
            "512it [00:02, 224.92it/s]\n",
            "512it [00:02, 229.64it/s]\n",
            "512it [00:02, 233.36it/s]\n",
            "512it [00:02, 231.12it/s]\n",
            "44it [00:00, 243.19it/s]\n"
          ]
        },
        {
          "output_type": "stream",
          "name": "stdout",
          "text": [
            "Finish process : 確信犯 / 4652\n",
            "Start process : compare_sentences\n",
            "Finish process : 81.00% / 19.00%\n",
            "------------------------\n",
            "Start process : get_vectors\n"
          ]
        },
        {
          "output_type": "stream",
          "name": "stderr",
          "text": [
            "512it [00:02, 224.71it/s]\n",
            "512it [00:02, 221.14it/s]\n",
            "512it [00:02, 213.67it/s]\n",
            "512it [00:02, 234.22it/s]\n",
            "512it [00:02, 233.90it/s]\n",
            "512it [00:02, 231.79it/s]\n",
            "512it [00:02, 237.22it/s]\n",
            "512it [00:02, 243.32it/s]\n",
            "445it [00:01, 243.02it/s]\n"
          ]
        },
        {
          "output_type": "stream",
          "name": "stdout",
          "text": [
            "Finish process : 確信犯 / 4541\n",
            "Start process : compare_sentences\n",
            "Finish process : 77.63% / 22.37%\n",
            "------------------------\n",
            "Start process : get_vectors\n"
          ]
        },
        {
          "output_type": "stream",
          "name": "stderr",
          "text": [
            "512it [00:02, 246.16it/s]\n",
            "512it [00:02, 252.93it/s]\n",
            "512it [00:02, 252.08it/s]\n",
            "512it [00:02, 252.94it/s]\n",
            "512it [00:02, 252.21it/s]\n",
            "512it [00:02, 252.78it/s]\n",
            "512it [00:02, 252.18it/s]\n",
            "512it [00:02, 252.75it/s]\n",
            "512it [00:02, 252.52it/s]\n",
            "512it [00:02, 252.60it/s]\n",
            "512it [00:02, 250.78it/s]\n",
            "512it [00:02, 251.79it/s]\n",
            "512it [00:02, 250.18it/s]\n",
            "482it [00:01, 250.00it/s]\n"
          ]
        },
        {
          "output_type": "stream",
          "name": "stdout",
          "text": [
            "Finish process : 炎上 / 6996\n",
            "Start process : compare_sentences\n",
            "Finish process : 0.01% / 99.99%\n",
            "------------------------\n",
            "Start process : get_vectors\n"
          ]
        },
        {
          "output_type": "stream",
          "name": "stderr",
          "text": [
            "512it [00:02, 242.82it/s]\n",
            "512it [00:02, 250.67it/s]\n",
            "512it [00:02, 252.13it/s]\n",
            "512it [00:02, 245.73it/s]\n",
            "512it [00:02, 249.72it/s]\n",
            "512it [00:02, 249.67it/s]\n",
            "512it [00:02, 248.71it/s]\n",
            "512it [00:02, 247.36it/s]\n",
            "512it [00:03, 161.99it/s]\n",
            "512it [00:02, 171.01it/s]\n",
            "512it [00:02, 185.95it/s]\n",
            "512it [00:02, 185.24it/s]\n",
            "512it [00:02, 170.88it/s]\n",
            "512it [00:03, 161.17it/s]\n",
            "512it [00:02, 179.97it/s]\n",
            "512it [00:02, 185.36it/s]\n",
            "512it [00:02, 182.79it/s]\n",
            "325it [00:01, 164.13it/s]\n"
          ]
        },
        {
          "output_type": "stream",
          "name": "stdout",
          "text": [
            "Finish process : 炎上 / 7360\n",
            "Start process : compare_sentences\n",
            "Finish process : 0.42% / 99.58%\n",
            "------------------------\n",
            "Start process : get_vectors\n"
          ]
        },
        {
          "output_type": "stream",
          "name": "stderr",
          "text": [
            "512it [00:02, 232.04it/s]\n",
            "512it [00:02, 244.75it/s]\n",
            "512it [00:02, 235.21it/s]\n",
            "512it [00:02, 234.06it/s]\n",
            "512it [00:02, 238.81it/s]\n",
            "512it [00:02, 239.34it/s]\n",
            "512it [00:02, 236.39it/s]\n",
            "512it [00:02, 245.29it/s]\n",
            "512it [00:02, 245.16it/s]\n",
            "512it [00:02, 245.87it/s]\n",
            "512it [00:02, 240.12it/s]\n",
            "512it [00:02, 243.85it/s]\n",
            "512it [00:02, 236.89it/s]\n",
            "512it [00:02, 241.62it/s]\n",
            "512it [00:02, 242.39it/s]\n",
            "512it [00:02, 243.09it/s]\n",
            "512it [00:02, 239.51it/s]\n",
            "512it [00:02, 239.54it/s]\n",
            "512it [00:02, 243.00it/s]\n",
            "208it [00:00, 255.25it/s]\n"
          ]
        },
        {
          "output_type": "stream",
          "name": "stdout",
          "text": [
            "Finish process : 炎上 / 9814\n",
            "Start process : compare_sentences\n",
            "Finish process : 1.12% / 98.88%\n",
            "------------------------\n",
            "Start process : get_vectors\n"
          ]
        },
        {
          "output_type": "stream",
          "name": "stderr",
          "text": [
            "512it [00:02, 234.08it/s]\n",
            "512it [00:02, 238.45it/s]\n",
            "512it [00:02, 219.38it/s]\n",
            "512it [00:02, 236.82it/s]\n",
            "512it [00:02, 241.40it/s]\n",
            "512it [00:02, 244.73it/s]\n",
            "512it [00:02, 244.86it/s]\n",
            "512it [00:02, 239.07it/s]\n",
            "512it [00:02, 227.79it/s]\n",
            "512it [00:02, 230.06it/s]\n",
            "512it [00:02, 232.05it/s]\n",
            "512it [00:02, 221.89it/s]\n",
            "512it [00:02, 239.25it/s]\n",
            "512it [00:02, 239.44it/s]\n",
            "512it [00:02, 240.58it/s]\n",
            "512it [00:02, 239.38it/s]\n",
            "512it [00:02, 239.73it/s]\n",
            "512it [00:02, 233.50it/s]\n",
            "512it [00:02, 236.32it/s]\n",
            "128it [00:00, 248.80it/s]\n"
          ]
        },
        {
          "output_type": "stream",
          "name": "stdout",
          "text": [
            "Finish process : 炎上 / 9746\n",
            "Start process : compare_sentences\n",
            "Finish process : 0.52% / 99.48%\n",
            "------------------------\n",
            "Start process : get_vectors\n"
          ]
        },
        {
          "output_type": "stream",
          "name": "stderr",
          "text": [
            "512it [00:02, 240.79it/s]\n",
            "512it [00:02, 238.04it/s]\n",
            "512it [00:02, 246.87it/s]\n",
            "512it [00:02, 248.72it/s]\n",
            "512it [00:02, 245.46it/s]\n",
            "512it [00:02, 253.66it/s]\n",
            "512it [00:02, 240.66it/s]\n",
            "512it [00:02, 247.10it/s]\n",
            "512it [00:02, 253.71it/s]\n",
            "512it [00:02, 239.44it/s]\n",
            "512it [00:02, 234.16it/s]\n",
            "512it [00:02, 235.60it/s]\n",
            "512it [00:02, 217.11it/s]\n",
            "512it [00:02, 227.15it/s]\n",
            "512it [00:02, 242.26it/s]\n",
            "512it [00:02, 238.91it/s]\n",
            "512it [00:02, 249.73it/s]\n",
            "512it [00:02, 246.79it/s]\n",
            "435it [00:01, 244.88it/s]\n"
          ]
        },
        {
          "output_type": "stream",
          "name": "stdout",
          "text": [
            "Finish process : 炎上 / 9440\n",
            "Start process : compare_sentences\n",
            "Finish process : 0.44% / 99.56%\n",
            "------------------------\n",
            "Start process : get_vectors\n"
          ]
        },
        {
          "output_type": "stream",
          "name": "stderr",
          "text": [
            "512it [00:02, 229.40it/s]\n",
            "512it [00:02, 230.30it/s]\n",
            "512it [00:02, 247.54it/s]\n",
            "512it [00:02, 240.18it/s]\n",
            "512it [00:02, 234.34it/s]\n",
            "512it [00:02, 238.26it/s]\n",
            "512it [00:02, 238.13it/s]\n",
            "512it [00:02, 229.32it/s]\n",
            "512it [00:02, 226.40it/s]\n",
            "512it [00:02, 234.86it/s]\n",
            "512it [00:02, 246.04it/s]\n",
            "512it [00:02, 235.90it/s]\n",
            "512it [00:02, 237.83it/s]\n",
            "512it [00:02, 235.14it/s]\n",
            "512it [00:02, 236.27it/s]\n",
            "512it [00:02, 225.90it/s]\n",
            "512it [00:02, 224.72it/s]\n",
            "512it [00:02, 230.39it/s]\n",
            "393it [00:01, 228.96it/s]\n"
          ]
        },
        {
          "output_type": "stream",
          "name": "stdout",
          "text": [
            "Finish process : 炎上 / 9405\n",
            "Start process : compare_sentences\n",
            "Finish process : 0.43% / 99.57%\n",
            "------------------------\n",
            "Start process : get_vectors\n"
          ]
        },
        {
          "output_type": "stream",
          "name": "stderr",
          "text": [
            "512it [00:02, 226.17it/s]\n",
            "512it [00:02, 240.16it/s]\n",
            "512it [00:02, 237.23it/s]\n",
            "512it [00:02, 238.63it/s]\n",
            "512it [00:02, 230.95it/s]\n",
            "512it [00:02, 226.24it/s]\n",
            "512it [00:02, 226.49it/s]\n",
            "512it [00:02, 228.94it/s]\n",
            "512it [00:02, 222.65it/s]\n",
            "512it [00:02, 226.47it/s]\n",
            "512it [00:02, 228.09it/s]\n",
            "512it [00:02, 241.86it/s]\n",
            "512it [00:02, 243.06it/s]\n",
            "512it [00:02, 244.74it/s]\n",
            "512it [00:02, 248.13it/s]\n",
            "512it [00:02, 228.05it/s]\n",
            "512it [00:02, 230.76it/s]\n",
            "512it [00:02, 233.41it/s]\n",
            "254it [00:01, 232.54it/s]\n"
          ]
        },
        {
          "output_type": "stream",
          "name": "stdout",
          "text": [
            "Finish process : 炎上 / 9234\n",
            "Start process : compare_sentences\n",
            "Finish process : 1.08% / 98.92%\n",
            "------------------------\n",
            "Start process : get_vectors\n"
          ]
        },
        {
          "output_type": "stream",
          "name": "stderr",
          "text": [
            "512it [00:02, 224.92it/s]\n",
            "512it [00:02, 230.15it/s]\n",
            "512it [00:02, 243.89it/s]\n",
            "512it [00:02, 241.14it/s]\n",
            "512it [00:02, 253.57it/s]\n",
            "512it [00:02, 247.09it/s]\n",
            "512it [00:02, 241.69it/s]\n",
            "512it [00:02, 245.93it/s]\n",
            "512it [00:02, 242.36it/s]\n",
            "512it [00:02, 245.65it/s]\n",
            "512it [00:02, 219.55it/s]\n",
            "512it [00:02, 240.73it/s]\n",
            "512it [00:02, 234.40it/s]\n",
            "512it [00:02, 242.64it/s]\n",
            "512it [00:02, 248.43it/s]\n",
            "512it [00:02, 246.27it/s]\n",
            "512it [00:02, 238.13it/s]\n",
            "512it [00:02, 233.38it/s]\n",
            "512it [00:02, 245.75it/s]\n",
            "4it [00:00, 444.42it/s]\n"
          ]
        },
        {
          "output_type": "stream",
          "name": "stdout",
          "text": [
            "Finish process : 炎上 / 9655\n",
            "Start process : compare_sentences\n",
            "Finish process : 3.89% / 96.11%\n",
            "------------------------\n",
            "Start process : get_vectors\n"
          ]
        },
        {
          "output_type": "stream",
          "name": "stderr",
          "text": [
            "512it [00:02, 227.86it/s]\n",
            "512it [00:02, 229.21it/s]\n",
            "512it [00:02, 229.46it/s]\n",
            "512it [00:02, 228.25it/s]\n",
            "512it [00:02, 227.63it/s]\n",
            "512it [00:02, 222.10it/s]\n",
            "512it [00:02, 220.83it/s]\n",
            "512it [00:02, 220.99it/s]\n",
            "512it [00:02, 215.65it/s]\n",
            "512it [00:02, 199.70it/s]\n",
            "512it [00:02, 202.84it/s]\n",
            "512it [00:02, 207.96it/s]\n",
            "512it [00:02, 201.24it/s]\n",
            "512it [00:02, 212.54it/s]\n",
            "512it [00:02, 213.09it/s]\n",
            "512it [00:02, 223.57it/s]\n",
            "512it [00:02, 231.56it/s]\n",
            "512it [00:02, 225.97it/s]\n",
            "389it [00:01, 237.41it/s]\n"
          ]
        },
        {
          "output_type": "stream",
          "name": "stdout",
          "text": [
            "Finish process : 炎上 / 9453\n",
            "Start process : compare_sentences\n",
            "Finish process : 0.34% / 99.66%\n",
            "------------------------\n",
            "Start process : get_vectors\n"
          ]
        },
        {
          "output_type": "stream",
          "name": "stderr",
          "text": [
            "512it [00:02, 234.18it/s]\n",
            "512it [00:02, 237.02it/s]\n",
            "512it [00:02, 243.26it/s]\n",
            "512it [00:02, 242.59it/s]\n",
            "512it [00:02, 245.74it/s]\n",
            "512it [00:02, 243.93it/s]\n",
            "512it [00:02, 245.88it/s]\n",
            "512it [00:02, 234.04it/s]\n",
            "512it [00:02, 235.98it/s]\n",
            "512it [00:02, 229.52it/s]\n",
            "512it [00:02, 230.53it/s]\n",
            "512it [00:02, 208.97it/s]\n",
            "512it [00:02, 187.53it/s]\n",
            "512it [00:02, 210.98it/s]\n",
            "512it [00:02, 214.84it/s]\n",
            "512it [00:02, 207.42it/s]\n",
            "512it [00:02, 238.32it/s]\n",
            "512it [00:02, 219.52it/s]\n",
            "401it [00:01, 252.96it/s]\n"
          ]
        },
        {
          "output_type": "stream",
          "name": "stdout",
          "text": [
            "Finish process : 炎上 / 9571\n",
            "Start process : compare_sentences\n",
            "Finish process : 0.23% / 99.77%\n",
            "------------------------\n",
            "Start process : get_vectors\n"
          ]
        },
        {
          "output_type": "stream",
          "name": "stderr",
          "text": [
            "512it [00:02, 237.03it/s]\n",
            "512it [00:02, 236.22it/s]\n",
            "512it [00:02, 247.31it/s]\n",
            "512it [00:02, 239.25it/s]\n",
            "512it [00:02, 239.82it/s]\n",
            "512it [00:02, 232.66it/s]\n",
            "512it [00:02, 235.68it/s]\n",
            "512it [00:02, 234.18it/s]\n",
            "512it [00:02, 235.76it/s]\n",
            "512it [00:02, 234.29it/s]\n",
            "512it [00:02, 229.85it/s]\n",
            "512it [00:02, 233.81it/s]\n",
            "512it [00:02, 236.00it/s]\n",
            "512it [00:02, 231.60it/s]\n",
            "512it [00:02, 222.68it/s]\n",
            "512it [00:02, 228.85it/s]\n",
            "512it [00:02, 224.45it/s]\n",
            "512it [00:02, 230.61it/s]\n",
            "356it [00:01, 231.56it/s]\n"
          ]
        },
        {
          "output_type": "stream",
          "name": "stdout",
          "text": [
            "Finish process : 炎上 / 9545\n",
            "Start process : compare_sentences\n",
            "Finish process : 0.21% / 99.79%\n",
            "------------------------\n",
            "Start process : get_vectors\n"
          ]
        },
        {
          "output_type": "stream",
          "name": "stderr",
          "text": [
            "512it [00:02, 240.92it/s]\n",
            "512it [00:02, 243.77it/s]\n",
            "512it [00:02, 238.06it/s]\n",
            "512it [00:02, 242.29it/s]\n",
            "512it [00:02, 245.58it/s]\n",
            "512it [00:02, 254.57it/s]\n",
            "512it [00:02, 244.31it/s]\n",
            "512it [00:02, 238.24it/s]\n",
            "512it [00:02, 241.32it/s]\n",
            "512it [00:02, 240.81it/s]\n",
            "512it [00:02, 233.69it/s]\n",
            "512it [00:02, 231.99it/s]\n",
            "512it [00:02, 236.23it/s]\n",
            "512it [00:02, 236.34it/s]\n",
            "512it [00:02, 234.35it/s]\n",
            "512it [00:02, 241.67it/s]\n",
            "512it [00:02, 226.85it/s]\n",
            "512it [00:02, 223.19it/s]\n",
            "312it [00:01, 211.08it/s]\n"
          ]
        },
        {
          "output_type": "stream",
          "name": "stdout",
          "text": [
            "Finish process : 炎上 / 9482\n",
            "Start process : compare_sentences\n",
            "Finish process : 0.20% / 99.80%\n",
            "------------------------\n",
            "Start process : get_vectors\n"
          ]
        },
        {
          "output_type": "stream",
          "name": "stderr",
          "text": [
            "512it [00:02, 240.05it/s]\n",
            "512it [00:02, 238.45it/s]\n",
            "512it [00:02, 236.83it/s]\n",
            "512it [00:02, 242.67it/s]\n",
            "512it [00:02, 242.51it/s]\n",
            "512it [00:02, 247.36it/s]\n",
            "512it [00:02, 242.87it/s]\n",
            "512it [00:02, 246.42it/s]\n",
            "512it [00:02, 242.16it/s]\n",
            "512it [00:02, 241.83it/s]\n",
            "512it [00:02, 252.96it/s]\n",
            "512it [00:02, 250.07it/s]\n",
            "512it [00:02, 247.90it/s]\n",
            "512it [00:02, 248.85it/s]\n",
            "512it [00:02, 249.70it/s]\n",
            "512it [00:02, 253.13it/s]\n",
            "512it [00:02, 245.38it/s]\n",
            "512it [00:02, 247.24it/s]\n",
            "298it [00:01, 241.83it/s]\n"
          ]
        },
        {
          "output_type": "stream",
          "name": "stdout",
          "text": [
            "Finish process : 炎上 / 9454\n",
            "Start process : compare_sentences\n",
            "Finish process : 0.34% / 99.66%\n",
            "------------------------\n",
            "Start process : get_vectors\n"
          ]
        },
        {
          "output_type": "stream",
          "name": "stderr",
          "text": [
            "512it [00:02, 228.49it/s]\n",
            "512it [00:02, 232.63it/s]\n",
            "512it [00:02, 240.63it/s]\n",
            "512it [00:02, 241.55it/s]\n",
            "512it [00:02, 235.89it/s]\n",
            "512it [00:02, 245.81it/s]\n",
            "512it [00:02, 244.58it/s]\n",
            "512it [00:02, 236.54it/s]\n",
            "512it [00:02, 243.66it/s]\n",
            "512it [00:02, 243.22it/s]\n",
            "512it [00:02, 242.96it/s]\n",
            "512it [00:02, 238.43it/s]\n",
            "512it [00:02, 245.68it/s]\n",
            "512it [00:02, 237.26it/s]\n",
            "512it [00:02, 236.91it/s]\n",
            "512it [00:02, 242.58it/s]\n",
            "512it [00:02, 231.58it/s]\n",
            "401it [00:01, 235.80it/s]\n"
          ]
        },
        {
          "output_type": "stream",
          "name": "stdout",
          "text": [
            "Finish process : 炎上 / 9023\n",
            "Start process : compare_sentences\n",
            "Finish process : 0.20% / 99.80%\n",
            "------------------------\n",
            "Start process : get_vectors\n"
          ]
        },
        {
          "output_type": "stream",
          "name": "stderr",
          "text": [
            "512it [00:02, 243.90it/s]\n",
            "512it [00:01, 257.78it/s]\n",
            "512it [00:01, 258.31it/s]\n",
            "512it [00:01, 260.63it/s]\n",
            "512it [00:01, 257.51it/s]\n",
            "512it [00:01, 256.65it/s]\n",
            "512it [00:01, 260.13it/s]\n",
            "512it [00:01, 258.60it/s]\n",
            "512it [00:01, 256.09it/s]\n",
            "360it [00:01, 262.33it/s]\n"
          ]
        },
        {
          "output_type": "stream",
          "name": "stdout",
          "text": [
            "Finish process : 草 / 4947\n",
            "Start process : compare_sentences\n",
            "Finish process : 51.79% / 48.21%\n",
            "------------------------\n",
            "Start process : get_vectors\n"
          ]
        },
        {
          "output_type": "stream",
          "name": "stderr",
          "text": [
            "512it [00:02, 254.56it/s]\n",
            "512it [00:01, 258.30it/s]\n",
            "512it [00:01, 256.07it/s]\n",
            "512it [00:01, 256.24it/s]\n",
            "512it [00:01, 261.85it/s]\n",
            "512it [00:02, 255.70it/s]\n",
            "512it [00:01, 256.32it/s]\n",
            "512it [00:01, 257.48it/s]\n",
            "512it [00:02, 255.97it/s]\n",
            "512it [00:02, 250.62it/s]\n",
            "512it [00:01, 270.78it/s]\n",
            "512it [00:01, 261.72it/s]\n",
            "512it [00:01, 264.42it/s]\n",
            "512it [00:01, 270.36it/s]\n",
            "512it [00:01, 262.13it/s]\n",
            "512it [00:01, 263.55it/s]\n",
            "512it [00:01, 270.12it/s]\n",
            "111it [00:00, 260.36it/s]\n"
          ]
        },
        {
          "output_type": "stream",
          "name": "stdout",
          "text": [
            "Finish process : 草 / 8794\n",
            "Start process : compare_sentences\n",
            "Finish process : 56.57% / 43.43%\n",
            "------------------------\n",
            "Start process : get_vectors\n"
          ]
        },
        {
          "output_type": "stream",
          "name": "stderr",
          "text": [
            "512it [00:02, 248.88it/s]\n",
            "512it [00:02, 253.96it/s]\n",
            "512it [00:01, 256.53it/s]\n",
            "512it [00:02, 251.11it/s]\n",
            "512it [00:02, 255.12it/s]\n",
            "512it [00:02, 254.44it/s]\n",
            "512it [00:02, 254.15it/s]\n",
            "512it [00:02, 250.06it/s]\n",
            "512it [00:02, 249.43it/s]\n",
            "512it [00:02, 255.32it/s]\n",
            "512it [00:02, 254.45it/s]\n",
            "512it [00:02, 250.99it/s]\n",
            "512it [00:02, 250.40it/s]\n",
            "512it [00:02, 252.67it/s]\n",
            "512it [00:02, 253.53it/s]\n",
            "512it [00:02, 249.89it/s]\n",
            "512it [00:02, 246.91it/s]\n",
            "512it [00:02, 253.39it/s]\n",
            "512it [00:02, 251.37it/s]\n",
            "207it [00:00, 255.52it/s]\n"
          ]
        },
        {
          "output_type": "stream",
          "name": "stdout",
          "text": [
            "Finish process : 草 / 9884\n",
            "Start process : compare_sentences\n",
            "Finish process : 44.28% / 55.72%\n",
            "------------------------\n",
            "Start process : get_vectors\n"
          ]
        },
        {
          "output_type": "stream",
          "name": "stderr",
          "text": [
            "512it [00:02, 245.47it/s]\n",
            "512it [00:02, 252.12it/s]\n",
            "512it [00:02, 250.99it/s]\n",
            "512it [00:02, 246.21it/s]\n",
            "512it [00:02, 254.85it/s]\n",
            "512it [00:02, 253.95it/s]\n",
            "512it [00:02, 245.47it/s]\n",
            "512it [00:02, 247.86it/s]\n",
            "512it [00:02, 250.94it/s]\n",
            "512it [00:02, 253.22it/s]\n",
            "512it [00:02, 250.88it/s]\n",
            "512it [00:02, 245.96it/s]\n",
            "512it [00:02, 243.47it/s]\n",
            "512it [00:02, 247.50it/s]\n",
            "512it [00:02, 250.92it/s]\n",
            "512it [00:02, 250.15it/s]\n",
            "512it [00:02, 255.30it/s]\n",
            "512it [00:01, 270.80it/s]\n",
            "512it [00:02, 250.12it/s]\n",
            "148it [00:00, 254.06it/s]\n"
          ]
        },
        {
          "output_type": "stream",
          "name": "stdout",
          "text": [
            "Finish process : 草 / 9835\n",
            "Start process : compare_sentences\n",
            "Finish process : 38.31% / 61.69%\n",
            "------------------------\n",
            "Start process : get_vectors\n"
          ]
        },
        {
          "output_type": "stream",
          "name": "stderr",
          "text": [
            "512it [00:02, 245.66it/s]\n",
            "512it [00:01, 257.45it/s]\n",
            "512it [00:02, 253.17it/s]\n",
            "512it [00:02, 255.69it/s]\n",
            "512it [00:02, 246.76it/s]\n",
            "512it [00:02, 254.96it/s]\n",
            "512it [00:02, 248.64it/s]\n",
            "512it [00:02, 255.62it/s]\n",
            "512it [00:01, 257.24it/s]\n",
            "512it [00:02, 255.97it/s]\n",
            "512it [00:02, 255.63it/s]\n",
            "512it [00:02, 254.14it/s]\n",
            "512it [00:02, 253.29it/s]\n",
            "512it [00:02, 251.37it/s]\n",
            "512it [00:02, 251.82it/s]\n",
            "512it [00:01, 264.76it/s]\n",
            "512it [00:02, 252.18it/s]\n",
            "512it [00:02, 254.50it/s]\n",
            "512it [00:02, 250.91it/s]\n",
            "190it [00:00, 247.94it/s]\n"
          ]
        },
        {
          "output_type": "stream",
          "name": "stdout",
          "text": [
            "Finish process : 草 / 9895\n",
            "Start process : compare_sentences\n",
            "Finish process : 40.47% / 59.53%\n",
            "------------------------\n",
            "Start process : get_vectors\n"
          ]
        },
        {
          "output_type": "stream",
          "name": "stderr",
          "text": [
            "512it [00:02, 241.95it/s]\n",
            "512it [00:02, 252.14it/s]\n",
            "512it [00:02, 252.26it/s]\n",
            "512it [00:02, 252.84it/s]\n",
            "512it [00:02, 251.01it/s]\n",
            "512it [00:02, 254.26it/s]\n",
            "512it [00:02, 251.90it/s]\n",
            "512it [00:02, 249.26it/s]\n",
            "512it [00:02, 253.77it/s]\n",
            "512it [00:02, 253.01it/s]\n",
            "512it [00:02, 254.91it/s]\n",
            "512it [00:02, 254.89it/s]\n",
            "512it [00:02, 251.53it/s]\n",
            "512it [00:02, 245.42it/s]\n",
            "512it [00:02, 251.47it/s]\n",
            "512it [00:02, 250.12it/s]\n",
            "512it [00:01, 257.18it/s]\n",
            "512it [00:02, 249.58it/s]\n",
            "512it [00:02, 248.18it/s]\n",
            "91it [00:00, 241.72it/s]\n"
          ]
        },
        {
          "output_type": "stream",
          "name": "stdout",
          "text": [
            "Finish process : 草 / 9798\n",
            "Start process : compare_sentences\n",
            "Finish process : 43.90% / 56.10%\n",
            "------------------------\n",
            "Start process : get_vectors\n"
          ]
        },
        {
          "output_type": "stream",
          "name": "stderr",
          "text": [
            "512it [00:02, 241.35it/s]\n",
            "512it [00:02, 249.26it/s]\n",
            "512it [00:02, 250.15it/s]\n",
            "512it [00:02, 253.08it/s]\n",
            "512it [00:02, 253.34it/s]\n",
            "512it [00:02, 252.49it/s]\n",
            "512it [00:02, 250.13it/s]\n",
            "512it [00:02, 249.81it/s]\n",
            "512it [00:02, 248.04it/s]\n",
            "512it [00:02, 252.55it/s]\n",
            "512it [00:02, 251.41it/s]\n",
            "512it [00:02, 249.64it/s]\n",
            "512it [00:02, 239.29it/s]\n",
            "512it [00:02, 255.88it/s]\n",
            "512it [00:01, 261.89it/s]\n",
            "512it [00:01, 260.66it/s]\n",
            "512it [00:02, 250.84it/s]\n",
            "512it [00:02, 249.95it/s]\n",
            "512it [00:02, 251.02it/s]\n",
            "73it [00:00, 241.81it/s]\n"
          ]
        },
        {
          "output_type": "stream",
          "name": "stdout",
          "text": [
            "Finish process : 草 / 9789\n",
            "Start process : compare_sentences\n",
            "Finish process : 37.26% / 62.74%\n",
            "------------------------\n",
            "Start process : get_vectors\n"
          ]
        },
        {
          "output_type": "stream",
          "name": "stderr",
          "text": [
            "512it [00:02, 246.12it/s]\n",
            "512it [00:02, 248.49it/s]\n",
            "512it [00:02, 252.66it/s]\n",
            "512it [00:02, 248.44it/s]\n",
            "512it [00:02, 252.50it/s]\n",
            "512it [00:02, 255.13it/s]\n",
            "512it [00:02, 250.42it/s]\n",
            "512it [00:02, 254.54it/s]\n",
            "512it [00:02, 251.66it/s]\n",
            "512it [00:02, 251.19it/s]\n",
            "512it [00:02, 248.97it/s]\n",
            "512it [00:02, 250.30it/s]\n",
            "512it [00:02, 255.05it/s]\n",
            "512it [00:02, 246.66it/s]\n",
            "512it [00:02, 249.93it/s]\n",
            "512it [00:02, 250.77it/s]\n",
            "512it [00:02, 242.11it/s]\n",
            "512it [00:02, 249.13it/s]\n",
            "512it [00:02, 248.73it/s]\n",
            "75it [00:00, 255.62it/s]\n"
          ]
        },
        {
          "output_type": "stream",
          "name": "stdout",
          "text": [
            "Finish process : 草 / 9795\n",
            "Start process : compare_sentences\n",
            "Finish process : 38.09% / 61.91%\n",
            "------------------------\n",
            "Start process : get_vectors\n"
          ]
        },
        {
          "output_type": "stream",
          "name": "stderr",
          "text": [
            "512it [00:02, 247.80it/s]\n",
            "512it [00:02, 246.03it/s]\n",
            "512it [00:02, 249.14it/s]\n",
            "512it [00:02, 250.51it/s]\n",
            "512it [00:02, 245.31it/s]\n",
            "512it [00:02, 254.86it/s]\n",
            "512it [00:02, 255.06it/s]\n",
            "512it [00:01, 257.06it/s]\n",
            "512it [00:02, 254.94it/s]\n",
            "512it [00:02, 255.41it/s]\n",
            "512it [00:01, 256.20it/s]\n",
            "512it [00:02, 255.79it/s]\n",
            "512it [00:01, 257.18it/s]\n",
            "512it [00:01, 257.62it/s]\n",
            "512it [00:02, 252.98it/s]\n",
            "512it [00:01, 260.33it/s]\n",
            "512it [00:01, 259.04it/s]\n",
            "512it [00:02, 254.74it/s]\n",
            "512it [00:02, 254.60it/s]\n",
            "95it [00:00, 244.48it/s]\n"
          ]
        },
        {
          "output_type": "stream",
          "name": "stdout",
          "text": [
            "Finish process : 草 / 9812\n",
            "Start process : compare_sentences\n",
            "Finish process : 43.25% / 56.75%\n",
            "------------------------\n",
            "Start process : get_vectors\n"
          ]
        },
        {
          "output_type": "stream",
          "name": "stderr",
          "text": [
            "512it [00:02, 238.34it/s]\n",
            "512it [00:02, 238.04it/s]\n",
            "512it [00:02, 248.59it/s]\n",
            "512it [00:02, 243.94it/s]\n",
            "512it [00:02, 250.17it/s]\n",
            "512it [00:02, 250.58it/s]\n",
            "512it [00:02, 254.57it/s]\n",
            "512it [00:02, 254.11it/s]\n",
            "512it [00:02, 254.80it/s]\n",
            "512it [00:01, 258.90it/s]\n",
            "512it [00:02, 254.13it/s]\n",
            "512it [00:02, 252.19it/s]\n",
            "512it [00:02, 250.34it/s]\n",
            "512it [00:02, 248.91it/s]\n",
            "512it [00:02, 250.44it/s]\n",
            "512it [00:02, 253.15it/s]\n",
            "512it [00:02, 254.59it/s]\n",
            "512it [00:02, 251.15it/s]\n",
            "512it [00:02, 253.49it/s]\n",
            "61it [00:00, 260.53it/s]\n"
          ]
        },
        {
          "output_type": "stream",
          "name": "stdout",
          "text": [
            "Finish process : 草 / 9784\n",
            "Start process : compare_sentences\n",
            "Finish process : 36.50% / 63.50%\n",
            "------------------------\n",
            "Start process : get_vectors\n"
          ]
        },
        {
          "output_type": "stream",
          "name": "stderr",
          "text": [
            "512it [00:02, 244.14it/s]\n",
            "512it [00:02, 250.73it/s]\n",
            "512it [00:02, 248.06it/s]\n",
            "512it [00:02, 246.82it/s]\n",
            "512it [00:02, 251.27it/s]\n",
            "512it [00:02, 250.35it/s]\n",
            "512it [00:02, 250.43it/s]\n",
            "512it [00:02, 253.10it/s]\n",
            "512it [00:02, 253.39it/s]\n",
            "512it [00:01, 256.96it/s]\n",
            "512it [00:02, 254.92it/s]\n",
            "512it [00:02, 254.22it/s]\n",
            "512it [00:02, 255.41it/s]\n",
            "512it [00:02, 253.48it/s]\n",
            "512it [00:02, 254.12it/s]\n",
            "512it [00:02, 252.56it/s]\n",
            "512it [00:02, 253.11it/s]\n",
            "512it [00:02, 251.83it/s]\n",
            "512it [00:02, 253.11it/s]\n",
            "67it [00:00, 249.90it/s]\n"
          ]
        },
        {
          "output_type": "stream",
          "name": "stdout",
          "text": [
            "Finish process : 草 / 9792\n",
            "Start process : compare_sentences\n",
            "Finish process : 32.25% / 67.75%\n",
            "------------------------\n",
            "Start process : get_vectors\n"
          ]
        },
        {
          "output_type": "stream",
          "name": "stderr",
          "text": [
            "512it [00:02, 237.64it/s]\n",
            "512it [00:02, 242.66it/s]\n",
            "512it [00:02, 243.77it/s]\n",
            "512it [00:02, 243.61it/s]\n",
            "512it [00:02, 241.28it/s]\n",
            "512it [00:02, 240.42it/s]\n",
            "512it [00:02, 242.51it/s]\n",
            "512it [00:02, 239.63it/s]\n",
            "512it [00:02, 242.92it/s]\n",
            "512it [00:02, 243.70it/s]\n",
            "512it [00:02, 242.25it/s]\n",
            "512it [00:02, 242.42it/s]\n",
            "512it [00:02, 241.46it/s]\n",
            "512it [00:02, 244.24it/s]\n",
            "512it [00:02, 245.31it/s]\n",
            "512it [00:02, 242.32it/s]\n",
            "512it [00:02, 243.43it/s]\n",
            "512it [00:02, 245.62it/s]\n",
            "512it [00:02, 243.96it/s]\n",
            "116it [00:00, 254.72it/s]\n"
          ]
        },
        {
          "output_type": "stream",
          "name": "stdout",
          "text": [
            "Finish process : 草 / 9844\n",
            "Start process : compare_sentences\n",
            "Finish process : 64.53% / 35.47%\n",
            "------------------------\n",
            "Start process : get_vectors\n"
          ]
        },
        {
          "output_type": "stream",
          "name": "stderr",
          "text": [
            "512it [00:02, 240.63it/s]\n",
            "512it [00:02, 247.57it/s]\n",
            "512it [00:02, 244.59it/s]\n",
            "512it [00:02, 247.11it/s]\n",
            "512it [00:02, 242.55it/s]\n",
            "512it [00:02, 243.48it/s]\n",
            "512it [00:02, 245.83it/s]\n",
            "512it [00:02, 244.55it/s]\n",
            "512it [00:02, 243.55it/s]\n",
            "512it [00:02, 245.17it/s]\n",
            "512it [00:02, 250.79it/s]\n",
            "512it [00:02, 248.02it/s]\n",
            "512it [00:02, 246.30it/s]\n",
            "512it [00:02, 249.74it/s]\n",
            "512it [00:02, 242.85it/s]\n",
            "512it [00:02, 247.68it/s]\n",
            "512it [00:02, 250.59it/s]\n",
            "512it [00:02, 251.67it/s]\n",
            "326it [00:01, 249.19it/s]\n"
          ]
        },
        {
          "output_type": "stream",
          "name": "stdout",
          "text": [
            "Finish process : 草 / 9540\n",
            "Start process : compare_sentences\n",
            "Finish process : 22.94% / 77.06%\n",
            "------------------------\n",
            "Start process : get_vectors\n"
          ]
        },
        {
          "output_type": "stream",
          "name": "stderr",
          "text": [
            "512it [00:02, 247.69it/s]\n",
            "512it [00:02, 251.79it/s]\n",
            "512it [00:02, 250.10it/s]\n",
            "512it [00:02, 248.31it/s]\n",
            "512it [00:02, 246.86it/s]\n",
            "512it [00:02, 252.25it/s]\n",
            "512it [00:02, 248.33it/s]\n",
            "512it [00:02, 249.66it/s]\n",
            "512it [00:02, 250.26it/s]\n",
            "512it [00:02, 249.34it/s]\n",
            "512it [00:02, 251.73it/s]\n",
            "512it [00:02, 253.21it/s]\n",
            "512it [00:02, 250.34it/s]\n",
            "512it [00:02, 253.51it/s]\n",
            "512it [00:02, 246.14it/s]\n",
            "512it [00:02, 251.35it/s]\n",
            "512it [00:02, 251.53it/s]\n",
            "512it [00:02, 252.78it/s]\n",
            "191it [00:00, 252.53it/s]\n"
          ]
        },
        {
          "output_type": "stream",
          "name": "stdout",
          "text": [
            "Finish process : 草 / 9403\n",
            "Start process : compare_sentences\n",
            "Finish process : 22.41% / 77.59%\n"
          ]
        }
      ],
      "source": [
        "# 分散表現を取得する\n",
        "for o in oparation:\n",
        "    if not len(o[\"path_list\"]):\n",
        "        print(\"Pass this loop due to empty of path_list\")\n",
        "        continue\n",
        "    sequence_length = 256\n",
        "    layer_range = (0, 12)\n",
        "    target_word = unicodedata.normalize(\"NFC\", o[\"word\"])\n",
        "    output_path = (\n",
        "        base_dir\n",
        "        + \"word-vectors/\"\n",
        "        + str(sequence_length)\n",
        "        + \"-\"\n",
        "        + str(layer_range[0])\n",
        "        + \"-\"\n",
        "        + str(layer_range[1])\n",
        "        + \"/\"\n",
        "        + str(target_word)\n",
        "        + \"-\"\n",
        "        + str(o[\"year\"])\n",
        "        + \".pickle\"\n",
        "    )\n",
        "    get_vectors(\n",
        "        text_list=prepareCorpus(o[\"path_list\"])[\"preprocessedText\"].values.tolist(),\n",
        "        target_word=target_word,\n",
        "        output_path=output_path,\n",
        "        sequence_length=sequence_length,\n",
        "        buffer_size=512,\n",
        "        layer_range=layer_range,\n",
        "    )\n",
        "    compare_sentences(\n",
        "        vectors_path=output_path,\n",
        "        target_data=target_data,\n",
        "        target_word=unicodedata.normalize(\"NFC\", o[\"word\"]),\n",
        "        result_data_path=base_dir+\"result_data.json\",\n",
        "        year=str(o[\"year\"])\n",
        "    )"
      ]
    },
    {
      "cell_type": "code",
      "source": [
        "# 結果確認\n",
        "with open(base_dir+\"result_data.json\") as f:\n",
        "    result_data = json.load(f)\n",
        "for word in result_data[\"data\"]:\n",
        "    print(\"-------------- \"+word+\" --------------\")\n",
        "    item = result_data[\"data\"][word]\n",
        "    for year in item:\n",
        "        i = item[year]\n",
        "        print(\"old: {:.2%} / new: {:.2%}\".format(i[\"old\"] / i[\"total\"], i[\"new\"] / i[\"total\"]))"
      ],
      "metadata": {
        "colab": {
          "base_uri": "https://localhost:8080/"
        },
        "id": "s_HCDissuzOt",
        "outputId": "70b34f3f-d60b-4095-cf39-d0488a8b0aa4"
      },
      "execution_count": 8,
      "outputs": [
        {
          "output_type": "stream",
          "name": "stdout",
          "text": [
            "-------------- 失笑 --------------\n",
            "old: 61.27% / new: 38.73%\n",
            "old: 72.94% / new: 27.06%\n",
            "old: 78.09% / new: 21.91%\n",
            "old: 75.92% / new: 24.08%\n",
            "old: 73.05% / new: 26.95%\n",
            "old: 74.53% / new: 25.47%\n",
            "old: 63.14% / new: 36.86%\n",
            "old: 75.23% / new: 24.77%\n",
            "old: 71.60% / new: 28.40%\n",
            "old: 77.51% / new: 22.49%\n",
            "old: 72.18% / new: 27.82%\n",
            "old: 78.14% / new: 21.86%\n",
            "old: 75.99% / new: 24.01%\n",
            "old: 85.07% / new: 14.93%\n",
            "-------------- なし崩し --------------\n",
            "old: 85.71% / new: 14.29%\n",
            "old: 84.52% / new: 15.48%\n",
            "old: 78.07% / new: 21.93%\n",
            "old: 86.72% / new: 13.28%\n",
            "old: 84.63% / new: 15.37%\n",
            "old: 85.79% / new: 14.21%\n",
            "old: 95.98% / new: 4.02%\n",
            "old: 86.16% / new: 13.84%\n",
            "old: 84.28% / new: 15.72%\n",
            "old: 86.50% / new: 13.50%\n",
            "old: 83.18% / new: 16.82%\n",
            "old: 89.20% / new: 10.80%\n",
            "old: 96.51% / new: 3.49%\n",
            "old: 58.44% / new: 41.56%\n",
            "-------------- なしくずし --------------\n",
            "old: 100.00% / new: 0.00%\n",
            "old: 93.02% / new: 6.98%\n",
            "old: 96.38% / new: 3.62%\n",
            "old: 97.41% / new: 2.59%\n",
            "old: 97.05% / new: 2.95%\n",
            "old: 97.22% / new: 2.78%\n",
            "old: 97.09% / new: 2.91%\n",
            "old: 97.47% / new: 2.53%\n",
            "old: 93.39% / new: 6.61%\n",
            "old: 95.25% / new: 4.75%\n",
            "old: 96.77% / new: 3.23%\n",
            "old: 98.94% / new: 1.06%\n",
            "old: 98.88% / new: 1.12%\n",
            "old: 97.73% / new: 2.27%\n",
            "-------------- 御の字 --------------\n",
            "old: 100.00% / new: 0.00%\n",
            "old: 100.00% / new: 0.00%\n",
            "old: 99.69% / new: 0.31%\n",
            "old: 99.78% / new: 0.22%\n",
            "old: 99.77% / new: 0.23%\n",
            "old: 99.49% / new: 0.51%\n",
            "old: 99.78% / new: 0.22%\n",
            "old: 99.80% / new: 0.20%\n",
            "old: 99.74% / new: 0.26%\n",
            "old: 99.85% / new: 0.15%\n",
            "old: 99.81% / new: 0.19%\n",
            "old: 99.66% / new: 0.34%\n",
            "old: 99.68% / new: 0.32%\n",
            "old: 99.73% / new: 0.27%\n",
            "-------------- すべからく --------------\n",
            "old: 58.33% / new: 41.67%\n",
            "old: 54.86% / new: 45.14%\n",
            "old: 56.30% / new: 43.70%\n",
            "old: 65.83% / new: 34.17%\n",
            "old: 62.41% / new: 37.59%\n",
            "old: 75.69% / new: 24.31%\n",
            "old: 77.74% / new: 22.26%\n",
            "old: 82.21% / new: 17.79%\n",
            "old: 81.88% / new: 18.12%\n",
            "old: 78.81% / new: 21.19%\n",
            "old: 83.12% / new: 16.88%\n",
            "old: 76.38% / new: 23.62%\n",
            "old: 71.49% / new: 28.51%\n",
            "old: 72.37% / new: 27.63%\n",
            "-------------- 割愛 --------------\n",
            "old: 100.00% / new: 0.00%\n",
            "old: 100.00% / new: 0.00%\n",
            "old: 100.00% / new: 0.00%\n",
            "old: 100.00% / new: 0.00%\n",
            "old: 100.00% / new: 0.00%\n",
            "old: 100.00% / new: 0.00%\n",
            "old: 100.00% / new: 0.00%\n",
            "old: 100.00% / new: 0.00%\n",
            "old: 100.00% / new: 0.00%\n",
            "old: 100.00% / new: 0.00%\n",
            "old: 100.00% / new: 0.00%\n",
            "old: 100.00% / new: 0.00%\n",
            "old: 100.00% / new: 0.00%\n",
            "old: 100.00% / new: 0.00%\n",
            "-------------- 破天荒 --------------\n",
            "old: 17.14% / new: 82.86%\n",
            "old: 19.14% / new: 80.86%\n",
            "old: 6.91% / new: 93.09%\n",
            "old: 3.38% / new: 96.62%\n",
            "old: 4.93% / new: 95.07%\n",
            "old: 8.16% / new: 91.84%\n",
            "old: 4.58% / new: 95.42%\n",
            "old: 5.57% / new: 94.43%\n",
            "old: 1.56% / new: 98.44%\n",
            "old: 2.85% / new: 97.15%\n",
            "old: 4.61% / new: 95.39%\n",
            "old: 2.37% / new: 97.63%\n",
            "old: 5.50% / new: 94.50%\n",
            "old: 2.16% / new: 97.84%\n",
            "-------------- 役不足 --------------\n",
            "old: 100.00% / new: 0.00%\n",
            "old: 100.00% / new: 0.00%\n",
            "old: 100.00% / new: 0.00%\n",
            "old: 100.00% / new: 0.00%\n",
            "old: 100.00% / new: 0.00%\n",
            "old: 100.00% / new: 0.00%\n",
            "old: 99.98% / new: 0.02%\n",
            "old: 100.00% / new: 0.00%\n",
            "old: 100.00% / new: 0.00%\n",
            "old: 100.00% / new: 0.00%\n",
            "old: 100.00% / new: 0.00%\n",
            "old: 100.00% / new: 0.00%\n",
            "old: 100.00% / new: 0.00%\n",
            "old: 100.00% / new: 0.00%\n",
            "-------------- 確信犯 --------------\n",
            "old: 73.03% / new: 26.97%\n",
            "old: 81.14% / new: 18.86%\n",
            "old: 73.71% / new: 26.29%\n",
            "old: 69.80% / new: 30.20%\n",
            "old: 69.93% / new: 30.07%\n",
            "old: 72.38% / new: 27.62%\n",
            "old: 75.03% / new: 24.97%\n",
            "old: 72.63% / new: 27.37%\n",
            "old: 67.89% / new: 32.11%\n",
            "old: 75.66% / new: 24.34%\n",
            "old: 83.01% / new: 16.99%\n",
            "old: 18.16% / new: 81.84%\n",
            "old: 81.00% / new: 19.00%\n",
            "old: 77.63% / new: 22.37%\n",
            "-------------- 炎上 --------------\n",
            "old: 0.01% / new: 99.99%\n",
            "old: 0.42% / new: 99.58%\n",
            "old: 1.12% / new: 98.88%\n",
            "old: 0.52% / new: 99.48%\n",
            "old: 0.44% / new: 99.56%\n",
            "old: 0.43% / new: 99.57%\n",
            "old: 1.08% / new: 98.92%\n",
            "old: 3.89% / new: 96.11%\n",
            "old: 0.34% / new: 99.66%\n",
            "old: 0.23% / new: 99.77%\n",
            "old: 0.21% / new: 99.79%\n",
            "old: 0.20% / new: 99.80%\n",
            "old: 0.34% / new: 99.66%\n",
            "old: 0.20% / new: 99.80%\n",
            "-------------- 草 --------------\n",
            "old: 51.79% / new: 48.21%\n",
            "old: 56.57% / new: 43.43%\n",
            "old: 44.28% / new: 55.72%\n",
            "old: 38.31% / new: 61.69%\n",
            "old: 40.47% / new: 59.53%\n",
            "old: 43.90% / new: 56.10%\n",
            "old: 37.26% / new: 62.74%\n",
            "old: 38.09% / new: 61.91%\n",
            "old: 43.25% / new: 56.75%\n",
            "old: 36.50% / new: 63.50%\n",
            "old: 32.25% / new: 67.75%\n",
            "old: 64.53% / new: 35.47%\n",
            "old: 22.94% / new: 77.06%\n",
            "old: 22.41% / new: 77.59%\n"
          ]
        }
      ]
    },
    {
      "cell_type": "markdown",
      "source": [
        "### 保存後処理"
      ],
      "metadata": {
        "id": "kgnOijt3M5A6"
      }
    },
    {
      "cell_type": "code",
      "source": [
        "# formatter\n",
        "!pip install -q black[jupyter]\n",
        "!black \"/content/drive/MyDrive/Colab Notebooks/bertClustering.ipynb\""
      ],
      "metadata": {
        "id": "pkCcMEOnM_PF"
      },
      "execution_count": null,
      "outputs": []
    },
    {
      "cell_type": "markdown",
      "source": [
        "### その他"
      ],
      "metadata": {
        "id": "ezlvBruHUPFG"
      }
    },
    {
      "cell_type": "code",
      "source": [
        "from tensorflow.python.client import device_lib\n",
        "import tensorflow as tf\n",
        "from psutil import virtual_memory\n",
        "\n",
        "# RAMのサイズをcheck\n",
        "ram_gb = virtual_memory().total / 1e9\n",
        "print(\"Your runtime has {:.1f} gigabytes of available RAM\\n\".format(ram_gb))\n",
        "\n",
        "if ram_gb < 20:\n",
        "    print(\"Not using a high-RAM runtime\")\n",
        "else:\n",
        "    print(\"You are using a high-RAM runtime!\")\n",
        "# GPUの数をcheck\n",
        "print(\"Num GPUs Available: \", len(tf.config.list_physical_devices(\"GPU\")))\n",
        "# Check GPU recognized\n",
        "print(device_lib.list_local_devices())"
      ],
      "metadata": {
        "id": "KyONTzTQUY6H"
      },
      "execution_count": null,
      "outputs": []
    }
  ]
}