{
  "cells": [
    {
      "cell_type": "markdown",
      "metadata": {
        "id": "view-in-github",
        "colab_type": "text"
      },
      "source": [
        "<a href=\"https://colab.research.google.com/github/Gityosan/google-colab/blob/main/step2-ver2-1-bertVevtors.ipynb\" target=\"_parent\"><img src=\"https://colab.research.google.com/assets/colab-badge.svg\" alt=\"Open In Colab\"/></a>"
      ]
    },
    {
      "cell_type": "markdown",
      "metadata": {
        "id": "o0CCGDmCd0Ji"
      },
      "source": [
        "### インストール・初期設定等"
      ]
    },
    {
      "cell_type": "code",
      "execution_count": null,
      "metadata": {
        "colab": {
          "background_save": true,
          "base_uri": "https://localhost:8080/"
        },
        "id": "yYsqq0Qrd0Jj",
        "outputId": "14becccc-6403-4f01-90ea-471962c601e0"
      },
      "outputs": [
        {
          "name": "stdout",
          "output_type": "stream",
          "text": [
            "\u001b[2K     \u001b[90m━━━━━━━━━━━━━━━━━━━━━━━━━━━━━━━━━━━━━━━━\u001b[0m \u001b[32m5.8/5.8 MB\u001b[0m \u001b[31m64.5 MB/s\u001b[0m eta \u001b[36m0:00:00\u001b[0m\n",
            "\u001b[2K     \u001b[90m━━━━━━━━━━━━━━━━━━━━━━━━━━━━━━━━━━━━━━━━\u001b[0m \u001b[32m13.4/13.4 MB\u001b[0m \u001b[31m88.7 MB/s\u001b[0m eta \u001b[36m0:00:00\u001b[0m\n",
            "\u001b[?25h  Preparing metadata (setup.py) ... \u001b[?25l\u001b[?25hdone\n",
            "\u001b[2K     \u001b[90m━━━━━━━━━━━━━━━━━━━━━━━━━━━━━━━━━━━━━━\u001b[0m \u001b[32m615.9/615.9 KB\u001b[0m \u001b[31m51.3 MB/s\u001b[0m eta \u001b[36m0:00:00\u001b[0m\n",
            "\u001b[2K     \u001b[90m━━━━━━━━━━━━━━━━━━━━━━━━━━━━━━━━━━━━━━━━\u001b[0m \u001b[32m4.1/4.1 MB\u001b[0m \u001b[31m99.9 MB/s\u001b[0m eta \u001b[36m0:00:00\u001b[0m\n",
            "\u001b[?25h  Preparing metadata (setup.py) ... \u001b[?25l\u001b[?25hdone\n",
            "\u001b[2K     \u001b[90m━━━━━━━━━━━━━━━━━━━━━━━━━━━━━━━━━━━━━━\u001b[0m \u001b[32m182.4/182.4 KB\u001b[0m \u001b[31m21.7 MB/s\u001b[0m eta \u001b[36m0:00:00\u001b[0m\n",
            "\u001b[2K     \u001b[90m━━━━━━━━━━━━━━━━━━━━━━━━━━━━━━━━━━━━━━━━\u001b[0m \u001b[32m7.6/7.6 MB\u001b[0m \u001b[31m117.8 MB/s\u001b[0m eta \u001b[36m0:00:00\u001b[0m\n",
            "\u001b[?25h  Building wheel for ipadic (setup.py) ... \u001b[?25l\u001b[?25hdone\n",
            "  Building wheel for japanize_matplotlib (setup.py) ... \u001b[?25l\u001b[?25hdone\n",
            "\u001b[2K     \u001b[90m━━━━━━━━━━━━━━━━━━━━━━━━━━━━━━━━━━━━━━━━\u001b[0m \u001b[32m9.4/9.4 MB\u001b[0m \u001b[31m78.8 MB/s\u001b[0m eta \u001b[36m0:00:00\u001b[0m\n",
            "\u001b[2K     \u001b[90m━━━━━━━━━━━━━━━━━━━━━━━━━━━━━━━━━━━━━━━\u001b[0m \u001b[32m300.0/300.0 KB\u001b[0m \u001b[31m1.4 MB/s\u001b[0m eta \u001b[36m0:00:00\u001b[0m\n",
            "\u001b[2K     \u001b[90m━━━━━━━━━━━━━━━━━━━━━━━━━━━━━━━━━━━━━━\u001b[0m \u001b[32m965.4/965.4 KB\u001b[0m \u001b[31m25.0 MB/s\u001b[0m eta \u001b[36m0:00:00\u001b[0m\n",
            "\u001b[?25hPython 3.8.10\n",
            "3.2.2\n"
          ]
        }
      ],
      "source": [
        "!pip install -q transformers ipadic fugashi japanize_matplotlib\n",
        "!pip install -q --upgrade 'matplotlib>=3.4'\n",
        "!python -V\n",
        "!rm -rf sample_data/\n",
        "# matplotlib version 3.4以上確認\n",
        "import matplotlib\n",
        "print(matplotlib.__version__)\n",
        "from google.colab import drive\n",
        "\n",
        "drive.mount(\"/content/drive\")"
      ]
    },
    {
      "cell_type": "code",
      "execution_count": null,
      "metadata": {
        "id": "h7pDaCc2d0Jj"
      },
      "outputs": [],
      "source": [
        "# 標準ライブラリ\n",
        "import gc\n",
        "import glob\n",
        "import json\n",
        "import os\n",
        "import pickle\n",
        "import random\n",
        "import re\n",
        "import unicodedata\n",
        "\n",
        "import numpy as np\n",
        "import pandas as pd\n",
        "import torch\n",
        "from tqdm import tqdm\n",
        "from transformers import BertJapaneseTokenizer, BertModel"
      ]
    },
    {
      "cell_type": "code",
      "execution_count": null,
      "metadata": {
        "id": "Hh5jjwZkrgPJ"
      },
      "outputs": [],
      "source": [
        "# 前処理\n",
        "def preprocessing(text):\n",
        "    text = re.sub(r\"http\\S+\", \"\", text)\n",
        "    text = re.sub(r\"@[w/:%#$&?()~.=+-…]+[:]? \", \"\", text)\n",
        "    text = re.sub(r\"(^RT )\", \"\", text)\n",
        "    text = text.lower()  # 小文字化\n",
        "    text = re.sub(\"\\r\", \"\", text)  # \\r\\nをdelete\n",
        "    text = re.sub(\"\\n\", \"\", text)  # \\r\\nをdelete\n",
        "    text = re.sub(r\"\\d+\", \"\", text)  # 数字列をdelete\n",
        "    ZEN = \"\".join(chr(0xFF01 + i) for i in range(94))  # 全角記号一覧\n",
        "    HAN = \"\".join(chr(0x21 + i) for i in range(94))  # 半角記号一覧\n",
        "    ETC = \"\".join(chr(0x3000 + i) for i in range(30))  # その他主要そうな記号\n",
        "    text = text.translate(str.maketrans(ZEN, HAN))  # 全角記号を半角記号に置換\n",
        "    FIXED_HAN = re.sub(r\"[\\w]+\", \"\", HAN)\n",
        "    return re.sub(\"[\" + \"~\" + \"*\" + \"＊\" + ETC + FIXED_HAN + \"]\", \" \", text)  # 記号を消す\n",
        "\n",
        "\n",
        "# JSONからdf作成\n",
        "def JSONtoDF(path):\n",
        "    with open(path) as f:\n",
        "        j = json.load(f)\n",
        "        return pd.json_normalize(data=j[\"data\"]).drop(\n",
        "            [\"created_at\", \"edit_history_tweet_ids\"], axis=1\n",
        "        )\n",
        "\n",
        "\n",
        "# 上記2関数を組み合わせてcorpusを用意\n",
        "def prepareCorpus(path_list):\n",
        "    res = pd.DataFrame()\n",
        "    for path in path_list:\n",
        "        df = JSONtoDF(path)\n",
        "        df[\"preprocessedText\"] = [preprocessing(text) for text in df[\"text\"]]\n",
        "        res = pd.concat([res, df])\n",
        "    return res.reset_index(drop=True)\n",
        "\n",
        "\n",
        "def prepare_target_data(target_data_path=\"\"):\n",
        "    if not target_data_path or not os.path.exists(\"/content/\" + target_data_path):\n",
        "        print(\"Exit from function because the file doesn't exist\")\n",
        "        return\n",
        "    with open(target_data_path) as f:\n",
        "        target_data = json.load(f)\n",
        "    target_keys = [\"old\", \"new\"]\n",
        "    for key in target_data[\"data\"]:\n",
        "        item = target_data[\"data\"][key]\n",
        "        for target_key in target_keys:\n",
        "            if not len([i[\"sentence\"] for i in item[target_key]]):\n",
        "                continue\n",
        "            input = tokenizer(\n",
        "                [unicodedata.normalize(\"NFC\", i[\"sentence\"]) for i in item[target_key]],\n",
        "                return_tensors=\"pt\",\n",
        "                max_length=128,\n",
        "                truncation=True,\n",
        "                padding=\"max_length\",\n",
        "            )\n",
        "            input = {k: v.to(device) for k, v in input.items()}\n",
        "            outputs = model(**input)\n",
        "            for i, v in zip(item[target_key], outputs.last_hidden_state):\n",
        "                i[\"vector\"] = torch.mean(v, 0).detach().tolist()\n",
        "    with open(target_data_path, \"w\", encoding=\"utf-8\") as f:\n",
        "        json.dump(target_data, f, ensure_ascii=False)\n",
        "\n",
        "\n",
        "def get_vectors(\n",
        "    text_list=[],\n",
        "    target_word=None,\n",
        "    output_path=None,\n",
        "    sequence_length=256,\n",
        "    batch_size=512,\n",
        "    layer_range=(0, 12),\n",
        "):\n",
        "    print(\"------------------------\")\n",
        "\n",
        "    # check params\n",
        "    if not target_word or not output_path or not len(text_list):\n",
        "        print(\"Exit from function due to improper parameters\")\n",
        "        return\n",
        "\n",
        "    # check outputs\n",
        "    if not os.path.exists(os.path.dirname(output_path)):\n",
        "        os.makedirs(os.path.dirname(output_path), exist_ok=True)\n",
        "    if os.path.exists(\"/content/\" + output_path):\n",
        "        print(\"Exit from function because the file already exists\")\n",
        "        return\n",
        "\n",
        "    print(\"Start process : get_vectors\")\n",
        "\n",
        "    # initialize\n",
        "    vectors = []\n",
        "    start_index = 0\n",
        "    text_list = list(filter(lambda x: target_word in x, text_list))\n",
        "    while start_index < len(text_list):\n",
        "        input = tokenizer(\n",
        "            text_list[start_index : start_index + batch_size],\n",
        "            return_tensors=\"pt\",\n",
        "            max_length=sequence_length,\n",
        "            truncation=True,\n",
        "            padding=\"max_length\",\n",
        "        )\n",
        "        input = {k: v.to(device) for k, v in input.items()}\n",
        "        with torch.no_grad():\n",
        "            outputs = model(**input, output_hidden_states=True)\n",
        "            outputs_vectors = torch.mean(\n",
        "                torch.stack(outputs.hidden_states[layer_range[0] : layer_range[1]]), 0\n",
        "            )\n",
        "            ids = tokenizer.encode(target_word)\n",
        "            for i, v in tqdm(zip(input[\"input_ids\"], outputs_vectors)):\n",
        "                if ids[1] not in list(i):\n",
        "                    continue\n",
        "                pos = list(i).index(ids[1])\n",
        "                vectors.append(\n",
        "                    {\n",
        "                        \"position\": (pos, pos + len(ids) - 2),\n",
        "                        \"vector\": torch.mean(v, 0).detach().tolist(),\n",
        "                    }\n",
        "                )\n",
        "        start_index += batch_size\n",
        "\n",
        "    print(\"Finish process : {} / {}\".format(target_word, len(vectors)))\n",
        "    with open(output_path, \"wb\") as f:\n",
        "        pickle.dump(vectors, f)\n",
        "\n",
        "\n",
        "def compare_sentences(\n",
        "    vectors_path=\"\", target_data={}, target_word=\"\", result_data_path=\"\", year=\"\"\n",
        "):\n",
        "    print(\"Start process : compare_sentences\")\n",
        "    with open(vectors_path, \"rb\") as f:\n",
        "        vectors = pickle.load(f)\n",
        "    with open(result_data_path) as f:\n",
        "        result_data = json.load(f)\n",
        "        result_data.setdefault(\"data\",{})\n",
        "        result_data[\"data\"].setdefault(str(target_word),{})\n",
        "        result_data[\"data\"][target_word][str(year)] = {\"total\": 0, \"old\": 0, \"new\": 0}\n",
        "    # 文章単位での判別\n",
        "    item = result_data[\"data\"][target_word][year]\n",
        "    item[\"total\"] = len(vectors)\n",
        "    for v in vectors:\n",
        "        similarity_to_old = torch.mean(\n",
        "            torch.tensor(\n",
        "                [\n",
        "                    torch.cosine_similarity(\n",
        "                        torch.tensor(v[\"vector\"]), torch.tensor(old[\"vector\"]), 0\n",
        "                    )\n",
        "                    for old in target_data[\"data\"][target_word][\"old\"]\n",
        "                ]\n",
        "            ),\n",
        "            0,\n",
        "        )\n",
        "        similarity_to_new = torch.mean(\n",
        "            torch.tensor(\n",
        "                [\n",
        "                    torch.cosine_similarity(\n",
        "                        torch.tensor(v[\"vector\"]), torch.tensor(new[\"vector\"]), 0\n",
        "                    )\n",
        "                    for new in target_data[\"data\"][target_word][\"new\"]\n",
        "                ]\n",
        "            ),\n",
        "            0,\n",
        "        )\n",
        "        if similarity_to_new <= similarity_to_old:\n",
        "            item[\"old\"] += 1\n",
        "        else:\n",
        "            item[\"new\"] += 1\n",
        "    print(\n",
        "        \"Finish process : {:.2%} / {:.2%}\".format(\n",
        "            item[\"old\"] / item[\"total\"], item[\"new\"] / item[\"total\"]\n",
        "        )\n",
        "    )\n",
        "    with open(result_data_path, \"w\", encoding=\"utf-8\") as f:\n",
        "        json.dump(result_data, f, ensure_ascii=False)"
      ]
    },
    {
      "cell_type": "code",
      "execution_count": null,
      "metadata": {
        "colab": {
          "base_uri": "https://localhost:8080/"
        },
        "id": "8gjjd3gkiT-l",
        "outputId": "dbf38ea4-b186-438a-943c-05566902effa"
      },
      "outputs": [
        {
          "name": "stderr",
          "output_type": "stream",
          "text": [
            "Some weights of the model checkpoint at cl-tohoku/bert-base-japanese-whole-word-masking were not used when initializing BertModel: ['cls.predictions.transform.dense.bias', 'cls.predictions.transform.LayerNorm.weight', 'cls.predictions.decoder.weight', 'cls.seq_relationship.bias', 'cls.predictions.transform.dense.weight', 'cls.predictions.bias', 'cls.seq_relationship.weight', 'cls.predictions.transform.LayerNorm.bias']\n",
            "- This IS expected if you are initializing BertModel from the checkpoint of a model trained on another task or with another architecture (e.g. initializing a BertForSequenceClassification model from a BertForPreTraining model).\n",
            "- This IS NOT expected if you are initializing BertModel from the checkpoint of a model that you expect to be exactly identical (initializing a BertForSequenceClassification model from a BertForSequenceClassification model).\n"
          ]
        }
      ],
      "source": [
        "# @title  { vertical-output: true, form-width: \"35%\", display-mode: \"both\" }\n",
        "\n",
        "# 初期設定群\n",
        "base_dir = \"drive/MyDrive/script/bert/\"  # @param {type:\"string\"}\n",
        "target = \"cl-tohoku/bert-base-japanese-whole-word-masking\"  # @param {type:\"string\"}\n",
        "device = torch.device(\"cuda\" if torch.cuda.is_available() else \"cpu\")\n",
        "tokenizer = BertJapaneseTokenizer.from_pretrained(target, tokenize_chinese_chars=False)\n",
        "model = BertModel.from_pretrained(target).to(device)"
      ]
    },
    {
      "cell_type": "markdown",
      "metadata": {
        "id": "2qte-vsL-iYr"
      },
      "source": [
        "### 分散表現取得処理等"
      ]
    },
    {
      "cell_type": "code",
      "execution_count": null,
      "metadata": {
        "id": "8BcAgIdz0OaS"
      },
      "outputs": [],
      "source": [
        "with open(base_dir + \"target_data.json\", \"r\", encoding=\"utf-8\") as f:\n",
        "    target_data = json.load(f)\n",
        "\n",
        "target_words = [unicodedata.normalize(\"NFC\", w) for w in target_data[\"meta\"][\"target_words\"]]\n",
        "\n",
        "path_list = glob.glob(base_dir + \"twitter-corpus/*.json\")\n",
        "path_list.sort()\n",
        "oparation = [\n",
        "    {\n",
        "        \"word\": w,\n",
        "        \"year\": y,\n",
        "        \"path_list\": list(\n",
        "            filter(\n",
        "                lambda x: w in unicodedata.normalize(\"NFC\", x) and str(y) in x,\n",
        "                path_list,\n",
        "            )\n",
        "        ),\n",
        "    }\n",
        "    for w in target_words\n",
        "    for y in range(2007, 2021)\n",
        "]"
      ]
    },
    {
      "cell_type": "code",
      "execution_count": null,
      "metadata": {
        "id": "gvKtf9t85Tuy"
      },
      "outputs": [],
      "source": [
        "# target_dataの例文が変わる度にこのセルを実行する\n",
        "prepare_target_data(base_dir + \"target_data.json\")"
      ]
    },
    {
      "cell_type": "code",
      "execution_count": null,
      "metadata": {
        "colab": {
          "base_uri": "https://localhost:8080/"
        },
        "id": "w_xsCuP8UdCB",
        "outputId": "b355ae6e-3a32-4727-8c4b-ae9dfc11b410"
      },
      "outputs": [
        {
          "name": "stdout",
          "output_type": "stream",
          "text": [
            "------------------------\n",
            "Start process : get_vectors\n"
          ]
        },
        {
          "name": "stderr",
          "output_type": "stream",
          "text": [
            "1000it [00:03, 290.69it/s]\n",
            "1000it [00:03, 292.97it/s]\n",
            "840it [00:02, 291.70it/s]\n"
          ]
        },
        {
          "name": "stdout",
          "output_type": "stream",
          "text": [
            "Finish process : 失笑 / 2840\n",
            "Start process : compare_sentences\n",
            "Finish process : 61.97% / 38.03%\n",
            "------------------------\n",
            "Start process : get_vectors\n"
          ]
        },
        {
          "name": "stderr",
          "output_type": "stream",
          "text": [
            "1000it [00:03, 279.12it/s]\n",
            "1000it [00:03, 283.75it/s]\n",
            "1000it [00:03, 284.09it/s]\n",
            "1000it [00:03, 284.51it/s]\n",
            "907it [00:03, 282.72it/s]\n"
          ]
        },
        {
          "name": "stdout",
          "output_type": "stream",
          "text": [
            "Finish process : 失笑 / 4907\n",
            "Start process : compare_sentences\n",
            "Finish process : 71.98% / 28.02%\n",
            "------------------------\n",
            "Start process : get_vectors\n"
          ]
        },
        {
          "name": "stderr",
          "output_type": "stream",
          "text": [
            "1000it [00:03, 264.91it/s]\n",
            "1000it [00:03, 270.67it/s]\n",
            "1000it [00:03, 269.32it/s]\n",
            "1000it [00:03, 272.37it/s]\n",
            "1000it [00:03, 276.27it/s]\n",
            "1000it [00:03, 284.53it/s]\n",
            "1000it [00:03, 286.97it/s]\n",
            "1000it [00:03, 285.00it/s]\n",
            "1000it [00:03, 283.08it/s]\n",
            "314it [00:01, 290.95it/s]\n"
          ]
        },
        {
          "name": "stdout",
          "output_type": "stream",
          "text": [
            "Finish process : 失笑 / 9314\n",
            "Start process : compare_sentences\n",
            "Finish process : 73.48% / 26.52%\n",
            "------------------------\n",
            "Start process : get_vectors\n"
          ]
        },
        {
          "name": "stderr",
          "output_type": "stream",
          "text": [
            "1000it [00:03, 266.58it/s]\n",
            "1000it [00:03, 271.84it/s]\n",
            "1000it [00:03, 268.49it/s]\n",
            "1000it [00:03, 269.26it/s]\n",
            "1000it [00:03, 269.14it/s]\n",
            "1000it [00:03, 269.43it/s]\n",
            "1000it [00:03, 262.50it/s]\n",
            "1000it [00:03, 261.89it/s]\n",
            "1000it [00:03, 262.15it/s]\n",
            "903it [00:03, 259.47it/s]\n"
          ]
        },
        {
          "name": "stdout",
          "output_type": "stream",
          "text": [
            "Finish process : 失笑 / 9903\n",
            "Start process : compare_sentences\n",
            "Finish process : 71.94% / 28.06%\n",
            "------------------------\n",
            "Start process : get_vectors\n"
          ]
        },
        {
          "name": "stderr",
          "output_type": "stream",
          "text": [
            "1000it [00:03, 274.87it/s]\n",
            "1000it [00:03, 275.50it/s]\n",
            "1000it [00:03, 276.46it/s]\n",
            "1000it [00:03, 276.82it/s]\n",
            "1000it [00:03, 273.19it/s]\n",
            "1000it [00:03, 278.15it/s]\n",
            "1000it [00:03, 275.19it/s]\n",
            "1000it [00:03, 277.12it/s]\n",
            "1000it [00:03, 282.64it/s]\n",
            "768it [00:02, 275.37it/s]\n"
          ]
        },
        {
          "name": "stdout",
          "output_type": "stream",
          "text": [
            "Finish process : 失笑 / 9768\n",
            "Start process : compare_sentences\n",
            "Finish process : 74.21% / 25.79%\n",
            "------------------------\n",
            "Start process : get_vectors\n"
          ]
        },
        {
          "name": "stderr",
          "output_type": "stream",
          "text": [
            "1000it [00:03, 277.47it/s]\n",
            "1000it [00:03, 283.90it/s]\n",
            "1000it [00:03, 294.37it/s]\n",
            "1000it [00:03, 283.42it/s]\n",
            "1000it [00:03, 281.68it/s]\n",
            "1000it [00:03, 275.94it/s]\n",
            "1000it [00:03, 274.70it/s]\n",
            "1000it [00:03, 279.57it/s]\n",
            "1000it [00:03, 267.71it/s]\n",
            "615it [00:02, 283.27it/s]\n"
          ]
        },
        {
          "name": "stdout",
          "output_type": "stream",
          "text": [
            "Finish process : 失笑 / 9615\n",
            "Start process : compare_sentences\n",
            "Finish process : 72.73% / 27.27%\n",
            "------------------------\n",
            "Start process : get_vectors\n"
          ]
        },
        {
          "name": "stderr",
          "output_type": "stream",
          "text": [
            "1000it [00:03, 275.90it/s]\n",
            "1000it [00:03, 274.75it/s]\n",
            "1000it [00:03, 278.74it/s]\n",
            "1000it [00:03, 277.62it/s]\n",
            "1000it [00:03, 272.77it/s]\n",
            "1000it [00:03, 279.35it/s]\n",
            "1000it [00:03, 271.58it/s]\n",
            "1000it [00:03, 273.10it/s]\n",
            "1000it [00:03, 277.46it/s]\n",
            "643it [00:02, 267.03it/s]\n"
          ]
        },
        {
          "name": "stdout",
          "output_type": "stream",
          "text": [
            "Finish process : 失笑 / 9641\n",
            "Start process : compare_sentences\n",
            "Finish process : 67.64% / 32.36%\n",
            "------------------------\n",
            "Start process : get_vectors\n"
          ]
        },
        {
          "name": "stderr",
          "output_type": "stream",
          "text": [
            "1000it [00:03, 258.41it/s]\n",
            "1000it [00:04, 236.31it/s]\n",
            "1000it [00:03, 251.04it/s]\n",
            "1000it [00:04, 241.22it/s]\n",
            "1000it [00:04, 238.10it/s]\n",
            "1000it [00:04, 245.83it/s]\n",
            "1000it [00:04, 233.65it/s]\n",
            "1000it [00:03, 266.95it/s]\n",
            "1000it [00:04, 243.93it/s]\n",
            "800it [00:02, 269.52it/s]\n"
          ]
        },
        {
          "name": "stdout",
          "output_type": "stream",
          "text": [
            "Finish process : 失笑 / 9799\n",
            "Start process : compare_sentences\n",
            "Finish process : 72.11% / 27.89%\n",
            "------------------------\n",
            "Start process : get_vectors\n"
          ]
        },
        {
          "name": "stderr",
          "output_type": "stream",
          "text": [
            "1000it [00:03, 267.93it/s]\n",
            "1000it [00:03, 271.12it/s]\n",
            "1000it [00:03, 266.29it/s]\n",
            "1000it [00:03, 260.29it/s]\n",
            "1000it [00:03, 264.49it/s]\n",
            "1000it [00:03, 251.44it/s]\n",
            "1000it [00:03, 265.46it/s]\n",
            "1000it [00:03, 266.49it/s]\n",
            "1000it [00:03, 261.53it/s]\n",
            "640it [00:02, 257.13it/s]\n"
          ]
        },
        {
          "name": "stdout",
          "output_type": "stream",
          "text": [
            "Finish process : 失笑 / 9640\n",
            "Start process : compare_sentences\n",
            "Finish process : 72.04% / 27.96%\n",
            "------------------------\n",
            "Start process : get_vectors\n"
          ]
        },
        {
          "name": "stderr",
          "output_type": "stream",
          "text": [
            "1000it [00:04, 249.83it/s]\n",
            "1000it [00:03, 273.42it/s]\n",
            "1000it [00:04, 248.53it/s]\n",
            "1000it [00:03, 252.57it/s]\n",
            "1000it [00:04, 249.21it/s]\n",
            "1000it [00:04, 243.97it/s]\n",
            "1000it [00:03, 257.60it/s]\n",
            "1000it [00:03, 254.67it/s]\n",
            "1000it [00:03, 258.12it/s]\n",
            "633it [00:02, 253.69it/s]\n"
          ]
        },
        {
          "name": "stdout",
          "output_type": "stream",
          "text": [
            "Finish process : 失笑 / 9633\n",
            "Start process : compare_sentences\n",
            "Finish process : 75.08% / 24.92%\n",
            "------------------------\n",
            "Start process : get_vectors\n"
          ]
        },
        {
          "name": "stderr",
          "output_type": "stream",
          "text": [
            "1000it [00:03, 257.84it/s]\n",
            "1000it [00:03, 252.68it/s]\n",
            "1000it [00:04, 248.76it/s]\n",
            "1000it [00:03, 266.75it/s]\n",
            "1000it [00:03, 259.87it/s]\n",
            "1000it [00:03, 266.69it/s]\n",
            "1000it [00:03, 257.90it/s]\n",
            "1000it [00:03, 254.90it/s]\n",
            "1000it [00:04, 243.71it/s]\n",
            "436it [00:01, 247.72it/s]\n"
          ]
        },
        {
          "name": "stdout",
          "output_type": "stream",
          "text": [
            "Finish process : 失笑 / 9436\n",
            "Start process : compare_sentences\n",
            "Finish process : 73.75% / 26.25%\n",
            "------------------------\n",
            "Start process : get_vectors\n"
          ]
        },
        {
          "name": "stderr",
          "output_type": "stream",
          "text": [
            "1000it [00:03, 252.98it/s]\n",
            "1000it [00:03, 253.17it/s]\n",
            "1000it [00:04, 245.21it/s]\n",
            "1000it [00:04, 244.73it/s]\n",
            "1000it [00:03, 263.80it/s]\n",
            "1000it [00:03, 254.22it/s]\n",
            "1000it [00:04, 240.22it/s]\n",
            "127it [00:00, 240.71it/s]\n"
          ]
        },
        {
          "name": "stdout",
          "output_type": "stream",
          "text": [
            "Finish process : 失笑 / 7127\n",
            "Start process : compare_sentences\n",
            "Finish process : 76.89% / 23.11%\n",
            "------------------------\n",
            "Start process : get_vectors\n"
          ]
        },
        {
          "name": "stderr",
          "output_type": "stream",
          "text": [
            "1000it [00:03, 259.15it/s]\n",
            "1000it [00:04, 237.40it/s]\n",
            "1000it [00:04, 241.38it/s]\n",
            "1000it [00:03, 257.15it/s]\n",
            "1000it [00:03, 257.21it/s]\n",
            "1000it [00:03, 262.46it/s]\n",
            "1000it [00:03, 259.35it/s]\n",
            "1000it [00:04, 230.74it/s]\n",
            "1000it [00:04, 216.91it/s]\n",
            "483it [00:01, 241.86it/s]\n"
          ]
        },
        {
          "name": "stdout",
          "output_type": "stream",
          "text": [
            "Finish process : 失笑 / 9483\n",
            "Start process : compare_sentences\n",
            "Finish process : 77.88% / 22.12%\n",
            "------------------------\n",
            "Start process : get_vectors\n"
          ]
        },
        {
          "name": "stderr",
          "output_type": "stream",
          "text": [
            "1000it [00:04, 229.26it/s]\n",
            "1000it [00:04, 243.80it/s]\n",
            "1000it [00:03, 250.71it/s]\n",
            "1000it [00:03, 263.26it/s]\n",
            "1000it [00:03, 269.35it/s]\n",
            "1000it [00:03, 278.42it/s]\n",
            "1000it [00:03, 267.92it/s]\n",
            "1000it [00:04, 247.94it/s]\n",
            "1000it [00:03, 252.53it/s]\n",
            "241it [00:00, 249.33it/s]\n"
          ]
        },
        {
          "name": "stdout",
          "output_type": "stream",
          "text": [
            "Finish process : 失笑 / 9241\n",
            "Start process : compare_sentences\n",
            "Finish process : 66.92% / 33.08%\n",
            "------------------------\n",
            "Start process : get_vectors\n"
          ]
        },
        {
          "name": "stderr",
          "output_type": "stream",
          "text": [
            "840it [00:02, 300.28it/s]\n"
          ]
        },
        {
          "name": "stdout",
          "output_type": "stream",
          "text": [
            "Finish process : なし崩し / 840\n",
            "Start process : compare_sentences\n",
            "Finish process : 64.29% / 35.71%\n",
            "------------------------\n",
            "Start process : get_vectors\n"
          ]
        },
        {
          "name": "stderr",
          "output_type": "stream",
          "text": [
            "1000it [00:03, 286.41it/s]\n",
            "1000it [00:03, 287.64it/s]\n",
            "1000it [00:03, 290.90it/s]\n",
            "120it [00:00, 294.26it/s]\n"
          ]
        },
        {
          "name": "stdout",
          "output_type": "stream",
          "text": [
            "Finish process : なし崩し / 3120\n",
            "Start process : compare_sentences\n",
            "Finish process : 62.18% / 37.82%\n",
            "------------------------\n",
            "Start process : get_vectors\n"
          ]
        },
        {
          "name": "stderr",
          "output_type": "stream",
          "text": [
            "1000it [00:03, 277.54it/s]\n",
            "1000it [00:03, 289.50it/s]\n",
            "1000it [00:03, 290.35it/s]\n",
            "1000it [00:03, 291.36it/s]\n",
            "1000it [00:03, 290.04it/s]\n",
            "1000it [00:03, 289.07it/s]\n",
            "1000it [00:03, 289.92it/s]\n",
            "656it [00:02, 291.33it/s]\n"
          ]
        },
        {
          "name": "stdout",
          "output_type": "stream",
          "text": [
            "Finish process : なし崩し / 7656\n",
            "Start process : compare_sentences\n",
            "Finish process : 62.08% / 37.92%\n",
            "------------------------\n",
            "Start process : get_vectors\n"
          ]
        },
        {
          "name": "stderr",
          "output_type": "stream",
          "text": [
            "1000it [00:03, 264.42it/s]\n",
            "1000it [00:03, 256.25it/s]\n",
            "1000it [00:03, 251.31it/s]\n",
            "1000it [00:03, 265.12it/s]\n",
            "1000it [00:03, 263.64it/s]\n",
            "1000it [00:03, 263.00it/s]\n",
            "1000it [00:03, 258.18it/s]\n",
            "1000it [00:03, 253.71it/s]\n",
            "1000it [00:03, 261.29it/s]\n",
            "807it [00:03, 263.08it/s]\n"
          ]
        },
        {
          "name": "stdout",
          "output_type": "stream",
          "text": [
            "Finish process : なし崩し / 9806\n",
            "Start process : compare_sentences\n",
            "Finish process : 69.52% / 30.48%\n",
            "------------------------\n",
            "Start process : get_vectors\n"
          ]
        },
        {
          "name": "stderr",
          "output_type": "stream",
          "text": [
            "1000it [00:03, 260.75it/s]\n",
            "1000it [00:03, 262.25it/s]\n",
            "1000it [00:03, 255.16it/s]\n",
            "1000it [00:04, 245.64it/s]\n",
            "1000it [00:04, 249.34it/s]\n",
            "1000it [00:04, 241.06it/s]\n",
            "1000it [00:03, 262.24it/s]\n",
            "1000it [00:03, 254.91it/s]\n",
            "1000it [00:04, 249.00it/s]\n",
            "524it [00:02, 251.46it/s]\n"
          ]
        },
        {
          "name": "stdout",
          "output_type": "stream",
          "text": [
            "Finish process : なし崩し / 9524\n",
            "Start process : compare_sentences\n",
            "Finish process : 71.98% / 28.02%\n",
            "------------------------\n",
            "Start process : get_vectors\n"
          ]
        },
        {
          "name": "stderr",
          "output_type": "stream",
          "text": [
            "1000it [00:03, 262.69it/s]\n",
            "1000it [00:04, 243.98it/s]\n",
            "1000it [00:04, 246.45it/s]\n",
            "1000it [00:03, 257.82it/s]\n",
            "1000it [00:03, 260.44it/s]\n",
            "1000it [00:03, 264.34it/s]\n",
            "1000it [00:03, 266.89it/s]\n",
            "1000it [00:04, 238.51it/s]\n",
            "1000it [00:03, 256.09it/s]\n",
            "619it [00:02, 264.49it/s]\n"
          ]
        },
        {
          "name": "stdout",
          "output_type": "stream",
          "text": [
            "Finish process : なし崩し / 9619\n",
            "Start process : compare_sentences\n",
            "Finish process : 70.60% / 29.40%\n",
            "------------------------\n",
            "Start process : get_vectors\n"
          ]
        },
        {
          "name": "stderr",
          "output_type": "stream",
          "text": [
            "1000it [00:04, 231.31it/s]\n",
            "1000it [00:04, 228.05it/s]\n",
            "1000it [00:04, 242.72it/s]\n",
            "1000it [00:04, 229.67it/s]\n",
            "1000it [00:04, 216.89it/s]\n",
            "1000it [00:04, 240.33it/s]\n",
            "1000it [00:03, 254.42it/s]\n",
            "1000it [00:03, 283.66it/s]\n",
            "1000it [00:03, 296.86it/s]\n",
            "269it [00:00, 276.40it/s]\n"
          ]
        },
        {
          "name": "stdout",
          "output_type": "stream",
          "text": [
            "Finish process : なし崩し / 9269\n",
            "Start process : compare_sentences\n",
            "Finish process : 88.72% / 11.28%\n",
            "------------------------\n",
            "Start process : get_vectors\n"
          ]
        },
        {
          "name": "stderr",
          "output_type": "stream",
          "text": [
            "1000it [00:03, 268.63it/s]\n",
            "1000it [00:03, 265.14it/s]\n",
            "1000it [00:04, 239.80it/s]\n",
            "1000it [00:03, 268.23it/s]\n",
            "1000it [00:03, 261.78it/s]\n",
            "1000it [00:03, 256.74it/s]\n",
            "1000it [00:03, 259.61it/s]\n",
            "1000it [00:03, 262.71it/s]\n",
            "1000it [00:03, 251.23it/s]\n",
            "673it [00:02, 262.07it/s]\n"
          ]
        },
        {
          "name": "stdout",
          "output_type": "stream",
          "text": [
            "Finish process : なし崩し / 9672\n",
            "Start process : compare_sentences\n",
            "Finish process : 76.67% / 23.33%\n",
            "------------------------\n",
            "Start process : get_vectors\n"
          ]
        },
        {
          "name": "stderr",
          "output_type": "stream",
          "text": [
            "1000it [00:04, 241.85it/s]\n",
            "1000it [00:03, 253.70it/s]\n",
            "1000it [00:03, 256.52it/s]\n",
            "1000it [00:04, 247.29it/s]\n",
            "1000it [00:04, 247.28it/s]\n",
            "1000it [00:03, 257.84it/s]\n",
            "1000it [00:04, 242.68it/s]\n",
            "1000it [00:03, 262.90it/s]\n",
            "884it [00:03, 241.31it/s]\n"
          ]
        },
        {
          "name": "stdout",
          "output_type": "stream",
          "text": [
            "Finish process : なし崩し / 8882\n",
            "Start process : compare_sentences\n",
            "Finish process : 71.97% / 28.03%\n",
            "------------------------\n",
            "Start process : get_vectors\n"
          ]
        },
        {
          "name": "stderr",
          "output_type": "stream",
          "text": [
            "1000it [00:04, 242.52it/s]\n",
            "1000it [00:05, 195.88it/s]\n",
            "1000it [00:04, 246.33it/s]\n",
            "1000it [00:03, 254.76it/s]\n",
            "1000it [00:03, 254.71it/s]\n",
            "1000it [00:04, 236.00it/s]\n",
            "1000it [00:03, 250.31it/s]\n",
            "1000it [00:04, 245.70it/s]\n",
            "866it [00:03, 256.92it/s]\n"
          ]
        },
        {
          "name": "stdout",
          "output_type": "stream",
          "text": [
            "Finish process : なし崩し / 8865\n",
            "Start process : compare_sentences\n",
            "Finish process : 66.05% / 33.95%\n",
            "------------------------\n",
            "Start process : get_vectors\n"
          ]
        },
        {
          "name": "stderr",
          "output_type": "stream",
          "text": [
            "1000it [00:03, 250.39it/s]\n",
            "1000it [00:03, 267.83it/s]\n",
            "1000it [00:04, 207.97it/s]\n",
            "1000it [00:03, 254.77it/s]\n",
            "1000it [00:03, 271.49it/s]\n",
            "1000it [00:03, 314.73it/s]\n",
            "1000it [00:03, 263.85it/s]\n",
            "1000it [00:04, 234.70it/s]\n",
            "307it [00:01, 263.05it/s]\n"
          ]
        },
        {
          "name": "stdout",
          "output_type": "stream",
          "text": [
            "Finish process : なし崩し / 8306\n",
            "Start process : compare_sentences\n",
            "Finish process : 79.33% / 20.67%\n",
            "------------------------\n",
            "Start process : get_vectors\n"
          ]
        },
        {
          "name": "stderr",
          "output_type": "stream",
          "text": [
            "1000it [00:04, 246.73it/s]\n",
            "1000it [00:04, 236.04it/s]\n",
            "1000it [00:04, 244.25it/s]\n",
            "1000it [00:04, 241.60it/s]\n",
            "1000it [00:03, 252.88it/s]\n",
            "1000it [00:03, 250.74it/s]\n",
            "1000it [00:04, 237.09it/s]\n",
            "1000it [00:04, 209.09it/s]\n",
            "1000it [00:04, 207.47it/s]\n",
            "94it [00:00, 182.31it/s]\n"
          ]
        },
        {
          "name": "stdout",
          "output_type": "stream",
          "text": [
            "Finish process : なし崩し / 9094\n",
            "Start process : compare_sentences\n",
            "Finish process : 79.43% / 20.57%\n",
            "------------------------\n",
            "Start process : get_vectors\n"
          ]
        },
        {
          "name": "stderr",
          "output_type": "stream",
          "text": [
            "1000it [00:04, 242.28it/s]\n",
            "1000it [00:04, 235.43it/s]\n",
            "1000it [00:04, 225.68it/s]\n",
            "1000it [00:04, 224.22it/s]\n",
            "1000it [00:04, 231.25it/s]\n",
            "1000it [00:04, 229.84it/s]\n",
            "1000it [00:04, 239.11it/s]\n",
            "1000it [00:04, 222.09it/s]\n",
            "1000it [00:04, 238.53it/s]\n",
            "690it [00:02, 246.06it/s]\n"
          ]
        },
        {
          "name": "stdout",
          "output_type": "stream",
          "text": [
            "Finish process : なし崩し / 9688\n",
            "Start process : compare_sentences\n",
            "Finish process : 90.92% / 9.08%\n",
            "------------------------\n",
            "Start process : get_vectors\n"
          ]
        },
        {
          "name": "stderr",
          "output_type": "stream",
          "text": [
            "1000it [00:04, 238.62it/s]\n",
            "1000it [00:04, 229.55it/s]\n",
            "1000it [00:04, 221.34it/s]\n",
            "1000it [00:04, 246.32it/s]\n",
            "1000it [00:04, 241.65it/s]\n",
            "1000it [00:04, 239.71it/s]\n",
            "1000it [00:04, 244.90it/s]\n",
            "1000it [00:04, 231.02it/s]\n",
            "1000it [00:04, 245.83it/s]\n",
            "323it [00:01, 216.61it/s]\n"
          ]
        },
        {
          "name": "stdout",
          "output_type": "stream",
          "text": [
            "Finish process : なし崩し / 9322\n",
            "Start process : compare_sentences\n",
            "Finish process : 63.00% / 37.00%\n",
            "------------------------\n",
            "Start process : get_vectors\n"
          ]
        },
        {
          "name": "stderr",
          "output_type": "stream",
          "text": [
            "160it [00:00, 324.63it/s]\n"
          ]
        },
        {
          "name": "stdout",
          "output_type": "stream",
          "text": [
            "Finish process : なしくずし / 160\n",
            "Start process : compare_sentences\n",
            "Finish process : 100.00% / 0.00%\n",
            "------------------------\n",
            "Start process : get_vectors\n"
          ]
        },
        {
          "name": "stderr",
          "output_type": "stream",
          "text": [
            "860it [00:02, 320.70it/s]\n"
          ]
        },
        {
          "name": "stdout",
          "output_type": "stream",
          "text": [
            "Finish process : なしくずし / 860\n",
            "Start process : compare_sentences\n",
            "Finish process : 76.74% / 23.26%\n",
            "------------------------\n",
            "Start process : get_vectors\n"
          ]
        },
        {
          "name": "stderr",
          "output_type": "stream",
          "text": [
            "1000it [00:03, 284.28it/s]\n",
            "1000it [00:03, 289.35it/s]\n",
            "1000it [00:03, 287.53it/s]\n",
            "1000it [00:03, 289.15it/s]\n",
            "400it [00:01, 290.38it/s]\n"
          ]
        },
        {
          "name": "stdout",
          "output_type": "stream",
          "text": [
            "Finish process : なしくずし / 4400\n",
            "Start process : compare_sentences\n",
            "Finish process : 80.45% / 19.55%\n",
            "------------------------\n",
            "Start process : get_vectors\n"
          ]
        },
        {
          "name": "stderr",
          "output_type": "stream",
          "text": [
            "1000it [00:03, 285.52it/s]\n",
            "1000it [00:03, 286.99it/s]\n",
            "747it [00:02, 296.85it/s]\n"
          ]
        },
        {
          "name": "stdout",
          "output_type": "stream",
          "text": [
            "Finish process : なしくずし / 2745\n",
            "Start process : compare_sentences\n",
            "Finish process : 84.55% / 15.45%\n",
            "------------------------\n",
            "Start process : get_vectors\n"
          ]
        },
        {
          "name": "stderr",
          "output_type": "stream",
          "text": [
            "1000it [00:03, 273.96it/s]\n",
            "1000it [00:03, 273.75it/s]\n",
            "1000it [00:03, 276.49it/s]\n",
            "1000it [00:04, 246.06it/s]\n",
            "1000it [00:03, 262.86it/s]\n",
            "1000it [00:03, 268.70it/s]\n",
            "1000it [00:03, 262.15it/s]\n",
            "247it [00:00, 267.62it/s]\n"
          ]
        },
        {
          "name": "stdout",
          "output_type": "stream",
          "text": [
            "Finish process : なしくずし / 7246\n",
            "Start process : compare_sentences\n",
            "Finish process : 84.29% / 15.71%\n",
            "------------------------\n",
            "Start process : get_vectors\n"
          ]
        },
        {
          "name": "stderr",
          "output_type": "stream",
          "text": [
            "1000it [00:03, 257.42it/s]\n",
            "1000it [00:03, 281.53it/s]\n",
            "1000it [00:03, 274.51it/s]\n",
            "1000it [00:03, 265.72it/s]\n",
            "1000it [00:03, 269.07it/s]\n",
            "1000it [00:03, 286.75it/s]\n",
            "1000it [00:03, 275.61it/s]\n",
            "1000it [00:03, 270.13it/s]\n",
            "923it [00:03, 270.02it/s]\n"
          ]
        },
        {
          "name": "stdout",
          "output_type": "stream",
          "text": [
            "Finish process : なしくずし / 8917\n",
            "Start process : compare_sentences\n",
            "Finish process : 86.74% / 13.26%\n",
            "------------------------\n",
            "Start process : get_vectors\n"
          ]
        },
        {
          "name": "stderr",
          "output_type": "stream",
          "text": [
            "1000it [00:03, 275.46it/s]\n",
            "1000it [00:03, 280.58it/s]\n",
            "1000it [00:03, 287.00it/s]\n",
            "1000it [00:04, 249.69it/s]\n",
            "1000it [00:03, 279.66it/s]\n",
            "1000it [00:03, 291.97it/s]\n",
            "1000it [00:04, 211.76it/s]\n",
            "1000it [00:03, 304.40it/s]\n",
            "1000it [00:03, 273.70it/s]\n",
            "73it [00:00, 283.74it/s]\n"
          ]
        },
        {
          "name": "stdout",
          "output_type": "stream",
          "text": [
            "Finish process : なしくずし / 9065\n",
            "Start process : compare_sentences\n",
            "Finish process : 89.45% / 10.55%\n",
            "------------------------\n",
            "Start process : get_vectors\n"
          ]
        },
        {
          "name": "stderr",
          "output_type": "stream",
          "text": [
            "1000it [00:03, 289.24it/s]\n",
            "1000it [00:03, 282.51it/s]\n",
            "1000it [00:03, 276.10it/s]\n",
            "1000it [00:03, 264.00it/s]\n",
            "1000it [00:03, 268.95it/s]\n",
            "1000it [00:03, 289.92it/s]\n",
            "1000it [00:03, 286.00it/s]\n",
            "1000it [00:03, 287.68it/s]\n",
            "237it [00:00, 286.38it/s]\n"
          ]
        },
        {
          "name": "stdout",
          "output_type": "stream",
          "text": [
            "Finish process : なしくずし / 8237\n",
            "Start process : compare_sentences\n",
            "Finish process : 87.34% / 12.66%\n",
            "------------------------\n",
            "Start process : get_vectors\n"
          ]
        },
        {
          "name": "stderr",
          "output_type": "stream",
          "text": [
            "1000it [00:03, 267.96it/s]\n",
            "1000it [00:03, 264.94it/s]\n",
            "1000it [00:03, 280.50it/s]\n",
            "1000it [00:03, 277.66it/s]\n",
            "1000it [00:03, 270.87it/s]\n",
            "1000it [00:04, 216.31it/s]\n",
            "1000it [00:03, 274.33it/s]\n",
            "1000it [00:03, 287.62it/s]\n",
            "390it [00:01, 293.77it/s]\n"
          ]
        },
        {
          "name": "stdout",
          "output_type": "stream",
          "text": [
            "Finish process : なしくずし / 8387\n",
            "Start process : compare_sentences\n",
            "Finish process : 81.60% / 18.40%\n",
            "------------------------\n",
            "Start process : get_vectors\n"
          ]
        },
        {
          "name": "stderr",
          "output_type": "stream",
          "text": [
            "1000it [00:03, 262.76it/s]\n",
            "1000it [00:03, 263.47it/s]\n",
            "1000it [00:03, 266.57it/s]\n",
            "1000it [00:03, 267.30it/s]\n",
            "1000it [00:03, 286.53it/s]\n",
            "1000it [00:03, 278.84it/s]\n",
            "1000it [00:03, 283.45it/s]\n",
            "1000it [00:03, 323.90it/s]\n",
            "119it [00:00, 325.15it/s]\n"
          ]
        },
        {
          "name": "stdout",
          "output_type": "stream",
          "text": [
            "Finish process : なしくずし / 8116\n",
            "Start process : compare_sentences\n",
            "Finish process : 81.94% / 18.06%\n",
            "------------------------\n",
            "Start process : get_vectors\n"
          ]
        },
        {
          "name": "stderr",
          "output_type": "stream",
          "text": [
            "1000it [00:04, 248.88it/s]\n",
            "1000it [00:03, 262.60it/s]\n",
            "1000it [00:03, 253.66it/s]\n",
            "1000it [00:03, 264.93it/s]\n",
            "1000it [00:03, 288.52it/s]\n",
            "1000it [00:03, 282.09it/s]\n",
            "1000it [00:04, 237.02it/s]\n",
            "1000it [00:03, 270.76it/s]\n",
            "728it [00:02, 268.08it/s]\n"
          ]
        },
        {
          "name": "stdout",
          "output_type": "stream",
          "text": [
            "Finish process : なしくずし / 8727\n",
            "Start process : compare_sentences\n",
            "Finish process : 85.26% / 14.74%\n",
            "------------------------\n",
            "Start process : get_vectors\n"
          ]
        },
        {
          "name": "stderr",
          "output_type": "stream",
          "text": [
            "1000it [00:03, 262.51it/s]\n",
            "1000it [00:04, 216.07it/s]\n",
            "1000it [00:05, 173.44it/s]\n",
            "1000it [00:05, 179.61it/s]\n",
            "1000it [00:03, 274.17it/s]\n",
            "1000it [00:03, 278.25it/s]\n",
            "1000it [00:03, 254.35it/s]\n",
            "1000it [00:03, 275.32it/s]\n",
            "1000it [00:03, 267.37it/s]\n",
            "583it [00:02, 273.79it/s]\n"
          ]
        },
        {
          "name": "stdout",
          "output_type": "stream",
          "text": [
            "Finish process : なしくずし / 9581\n",
            "Start process : compare_sentences\n",
            "Finish process : 88.62% / 11.38%\n",
            "------------------------\n",
            "Start process : get_vectors\n"
          ]
        },
        {
          "name": "stderr",
          "output_type": "stream",
          "text": [
            "1000it [00:03, 275.23it/s]\n",
            "1000it [00:04, 233.04it/s]\n",
            "1000it [00:04, 243.02it/s]\n",
            "1000it [00:04, 244.77it/s]\n",
            "1000it [00:03, 266.53it/s]\n",
            "1000it [00:03, 258.38it/s]\n",
            "1000it [00:03, 262.26it/s]\n",
            "1000it [00:04, 248.10it/s]\n",
            "1000it [00:03, 257.66it/s]\n",
            "529it [00:01, 269.73it/s]\n"
          ]
        },
        {
          "name": "stdout",
          "output_type": "stream",
          "text": [
            "Finish process : なしくずし / 9527\n",
            "Start process : compare_sentences\n",
            "Finish process : 90.01% / 9.99%\n",
            "------------------------\n",
            "Start process : get_vectors\n"
          ]
        },
        {
          "name": "stderr",
          "output_type": "stream",
          "text": [
            "1000it [00:03, 269.95it/s]\n",
            "1000it [00:03, 275.70it/s]\n",
            "1000it [00:03, 268.47it/s]\n",
            "1000it [00:03, 265.34it/s]\n",
            "1000it [00:03, 266.41it/s]\n",
            "1000it [00:03, 252.17it/s]\n",
            "1000it [00:03, 265.40it/s]\n",
            "1000it [00:03, 264.57it/s]\n",
            "61it [00:00, 294.58it/s]\n"
          ]
        },
        {
          "name": "stdout",
          "output_type": "stream",
          "text": [
            "Finish process : なしくずし / 8054\n",
            "Start process : compare_sentences\n",
            "Finish process : 88.47% / 11.53%\n",
            "------------------------\n",
            "Start process : get_vectors\n"
          ]
        },
        {
          "name": "stderr",
          "output_type": "stream",
          "text": [
            "600it [00:02, 276.68it/s]\n"
          ]
        },
        {
          "name": "stdout",
          "output_type": "stream",
          "text": [
            "Finish process : 御の字 / 600\n",
            "Start process : compare_sentences\n",
            "Finish process : 83.33% / 16.67%\n",
            "------------------------\n",
            "Start process : get_vectors\n"
          ]
        },
        {
          "name": "stderr",
          "output_type": "stream",
          "text": [
            "1000it [00:03, 266.73it/s]\n",
            "1000it [00:03, 269.67it/s]\n",
            "1000it [00:03, 270.51it/s]\n",
            "1000it [00:03, 267.24it/s]\n",
            "780it [00:02, 267.11it/s]\n"
          ]
        },
        {
          "name": "stdout",
          "output_type": "stream",
          "text": [
            "Finish process : 御の字 / 4780\n",
            "Start process : compare_sentences\n",
            "Finish process : 81.59% / 18.41%\n",
            "------------------------\n",
            "Start process : get_vectors\n"
          ]
        },
        {
          "name": "stderr",
          "output_type": "stream",
          "text": [
            "1000it [00:03, 261.41it/s]\n",
            "1000it [00:03, 275.31it/s]\n",
            "1000it [00:03, 276.74it/s]\n",
            "1000it [00:03, 276.83it/s]\n",
            "1000it [00:03, 272.96it/s]\n",
            "771it [00:02, 277.51it/s]\n"
          ]
        },
        {
          "name": "stdout",
          "output_type": "stream",
          "text": [
            "Finish process : 御の字 / 5771\n",
            "Start process : compare_sentences\n",
            "Finish process : 80.71% / 19.29%\n",
            "------------------------\n",
            "Start process : get_vectors\n"
          ]
        },
        {
          "name": "stderr",
          "output_type": "stream",
          "text": [
            "1000it [00:03, 256.07it/s]\n",
            "1000it [00:03, 257.98it/s]\n",
            "1000it [00:03, 257.48it/s]\n",
            "1000it [00:03, 259.25it/s]\n",
            "1000it [00:03, 252.16it/s]\n",
            "1000it [00:03, 257.92it/s]\n",
            "1000it [00:03, 259.31it/s]\n",
            "1000it [00:03, 261.82it/s]\n",
            "1000it [00:03, 259.00it/s]\n",
            "855it [00:03, 257.74it/s]\n"
          ]
        },
        {
          "name": "stdout",
          "output_type": "stream",
          "text": [
            "Finish process : 御の字 / 9855\n",
            "Start process : compare_sentences\n",
            "Finish process : 79.28% / 20.72%\n",
            "------------------------\n",
            "Start process : get_vectors\n"
          ]
        },
        {
          "name": "stderr",
          "output_type": "stream",
          "text": [
            "1000it [00:03, 260.16it/s]\n",
            "1000it [00:03, 259.70it/s]\n",
            "1000it [00:03, 258.97it/s]\n",
            "1000it [00:03, 260.68it/s]\n",
            "1000it [00:03, 274.40it/s]\n",
            "1000it [00:03, 265.43it/s]\n",
            "1000it [00:03, 260.22it/s]\n",
            "1000it [00:03, 261.39it/s]\n",
            "1000it [00:03, 262.22it/s]\n",
            "809it [00:03, 259.94it/s]\n"
          ]
        },
        {
          "name": "stdout",
          "output_type": "stream",
          "text": [
            "Finish process : 御の字 / 9809\n",
            "Start process : compare_sentences\n",
            "Finish process : 80.67% / 19.33%\n",
            "------------------------\n",
            "Start process : get_vectors\n"
          ]
        },
        {
          "name": "stderr",
          "output_type": "stream",
          "text": [
            "1000it [00:03, 262.10it/s]\n",
            "1000it [00:03, 263.69it/s]\n",
            "1000it [00:03, 265.56it/s]\n",
            "1000it [00:03, 266.64it/s]\n",
            "1000it [00:03, 267.65it/s]\n",
            "1000it [00:03, 263.43it/s]\n",
            "1000it [00:03, 267.17it/s]\n",
            "1000it [00:03, 254.90it/s]\n",
            "1000it [00:04, 248.49it/s]\n",
            "887it [00:03, 266.07it/s]\n"
          ]
        },
        {
          "name": "stdout",
          "output_type": "stream",
          "text": [
            "Finish process : 御の字 / 9887\n",
            "Start process : compare_sentences\n",
            "Finish process : 78.34% / 21.66%\n",
            "------------------------\n",
            "Start process : get_vectors\n"
          ]
        },
        {
          "name": "stderr",
          "output_type": "stream",
          "text": [
            "1000it [00:03, 264.91it/s]\n",
            "1000it [00:03, 268.47it/s]\n",
            "1000it [00:03, 271.65it/s]\n",
            "1000it [00:03, 253.00it/s]\n",
            "1000it [00:03, 266.87it/s]\n",
            "1000it [00:03, 261.20it/s]\n",
            "1000it [00:03, 260.72it/s]\n",
            "1000it [00:03, 268.91it/s]\n",
            "1000it [00:03, 268.10it/s]\n",
            "908it [00:03, 260.37it/s]\n"
          ]
        },
        {
          "name": "stdout",
          "output_type": "stream",
          "text": [
            "Finish process : 御の字 / 9908\n",
            "Start process : compare_sentences\n",
            "Finish process : 80.34% / 19.66%\n",
            "------------------------\n",
            "Start process : get_vectors\n"
          ]
        },
        {
          "name": "stderr",
          "output_type": "stream",
          "text": [
            "1000it [00:03, 267.72it/s]\n",
            "1000it [00:03, 274.34it/s]\n",
            "1000it [00:03, 263.27it/s]\n",
            "1000it [00:03, 267.07it/s]\n",
            "1000it [00:03, 267.23it/s]\n",
            "1000it [00:03, 261.12it/s]\n",
            "1000it [00:03, 271.58it/s]\n",
            "1000it [00:03, 274.67it/s]\n",
            "1000it [00:03, 259.33it/s]\n",
            "853it [00:03, 265.63it/s]\n"
          ]
        },
        {
          "name": "stdout",
          "output_type": "stream",
          "text": [
            "Finish process : 御の字 / 9853\n",
            "Start process : compare_sentences\n",
            "Finish process : 80.94% / 19.06%\n",
            "------------------------\n",
            "Start process : get_vectors\n"
          ]
        },
        {
          "name": "stderr",
          "output_type": "stream",
          "text": [
            "1000it [00:03, 264.29it/s]\n",
            "1000it [00:03, 285.44it/s]\n",
            "1000it [00:03, 269.75it/s]\n",
            "1000it [00:03, 268.19it/s]\n",
            "1000it [00:03, 262.11it/s]\n",
            "1000it [00:03, 262.58it/s]\n",
            "1000it [00:03, 260.77it/s]\n",
            "1000it [00:03, 268.19it/s]\n",
            "1000it [00:03, 266.76it/s]\n",
            "764it [00:02, 274.31it/s]\n"
          ]
        },
        {
          "name": "stdout",
          "output_type": "stream",
          "text": [
            "Finish process : 御の字 / 9764\n",
            "Start process : compare_sentences\n",
            "Finish process : 81.07% / 18.93%\n",
            "------------------------\n",
            "Start process : get_vectors\n"
          ]
        },
        {
          "name": "stderr",
          "output_type": "stream",
          "text": [
            "1000it [00:03, 265.29it/s]\n",
            "1000it [00:03, 258.75it/s]\n",
            "1000it [00:03, 262.94it/s]\n",
            "1000it [00:03, 265.11it/s]\n",
            "1000it [00:03, 256.44it/s]\n",
            "1000it [00:04, 228.21it/s]\n",
            "1000it [00:03, 254.71it/s]\n",
            "1000it [00:04, 249.23it/s]\n",
            "1000it [00:03, 262.69it/s]\n",
            "641it [00:02, 257.53it/s]\n"
          ]
        },
        {
          "name": "stdout",
          "output_type": "stream",
          "text": [
            "Finish process : 御の字 / 9641\n",
            "Start process : compare_sentences\n",
            "Finish process : 81.54% / 18.46%\n",
            "------------------------\n",
            "Start process : get_vectors\n"
          ]
        },
        {
          "name": "stderr",
          "output_type": "stream",
          "text": [
            "1000it [00:03, 253.72it/s]\n",
            "1000it [00:03, 257.47it/s]\n",
            "1000it [00:03, 258.70it/s]\n",
            "1000it [00:03, 258.79it/s]\n",
            "1000it [00:03, 258.10it/s]\n",
            "1000it [00:03, 254.37it/s]\n",
            "1000it [00:03, 251.02it/s]\n",
            "1000it [00:03, 256.32it/s]\n",
            "1000it [00:03, 255.86it/s]\n",
            "728it [00:02, 261.89it/s]\n"
          ]
        },
        {
          "name": "stdout",
          "output_type": "stream",
          "text": [
            "Finish process : 御の字 / 9728\n",
            "Start process : compare_sentences\n",
            "Finish process : 79.85% / 20.15%\n",
            "------------------------\n",
            "Start process : get_vectors\n"
          ]
        },
        {
          "name": "stderr",
          "output_type": "stream",
          "text": [
            "1000it [00:03, 257.62it/s]\n",
            "1000it [00:03, 254.71it/s]\n",
            "1000it [00:03, 252.87it/s]\n",
            "1000it [00:03, 252.43it/s]\n",
            "1000it [00:04, 243.46it/s]\n",
            "1000it [00:03, 263.09it/s]\n",
            "1000it [00:03, 261.20it/s]\n",
            "1000it [00:03, 255.43it/s]\n",
            "1000it [00:03, 256.88it/s]\n",
            "642it [00:02, 247.47it/s]\n"
          ]
        },
        {
          "name": "stdout",
          "output_type": "stream",
          "text": [
            "Finish process : 御の字 / 9642\n",
            "Start process : compare_sentences\n",
            "Finish process : 79.74% / 20.26%\n",
            "------------------------\n",
            "Start process : get_vectors\n"
          ]
        },
        {
          "name": "stderr",
          "output_type": "stream",
          "text": [
            "1000it [00:03, 255.06it/s]\n",
            "1000it [00:03, 259.40it/s]\n",
            "1000it [00:03, 255.02it/s]\n",
            "1000it [00:03, 254.29it/s]\n",
            "1000it [00:04, 247.01it/s]\n",
            "1000it [00:03, 251.15it/s]\n",
            "1000it [00:04, 248.96it/s]\n",
            "1000it [00:03, 250.32it/s]\n",
            "1000it [00:03, 259.37it/s]\n",
            "310it [00:01, 249.46it/s]\n"
          ]
        },
        {
          "name": "stdout",
          "output_type": "stream",
          "text": [
            "Finish process : 御の字 / 9310\n",
            "Start process : compare_sentences\n",
            "Finish process : 79.46% / 20.54%\n",
            "------------------------\n",
            "Start process : get_vectors\n"
          ]
        },
        {
          "name": "stderr",
          "output_type": "stream",
          "text": [
            "1000it [00:04, 249.53it/s]\n",
            "1000it [00:03, 261.55it/s]\n",
            "1000it [00:03, 252.78it/s]\n",
            "1000it [00:03, 254.63it/s]\n",
            "1000it [00:03, 252.17it/s]\n",
            "1000it [00:03, 253.09it/s]\n",
            "1000it [00:03, 250.52it/s]\n",
            "1000it [00:04, 233.99it/s]\n",
            "1000it [00:03, 253.80it/s]\n",
            "659it [00:02, 241.69it/s]\n"
          ]
        },
        {
          "name": "stdout",
          "output_type": "stream",
          "text": [
            "Finish process : 御の字 / 9659\n",
            "Start process : compare_sentences\n",
            "Finish process : 78.28% / 21.72%\n",
            "------------------------\n",
            "Start process : get_vectors\n"
          ]
        },
        {
          "name": "stderr",
          "output_type": "stream",
          "text": [
            "60it [00:00, 323.71it/s]\n"
          ]
        },
        {
          "name": "stdout",
          "output_type": "stream",
          "text": [
            "Finish process : 須く / 60\n",
            "Start process : compare_sentences\n",
            "Finish process : 100.00% / 0.00%\n",
            "------------------------\n",
            "Start process : get_vectors\n"
          ]
        },
        {
          "name": "stderr",
          "output_type": "stream",
          "text": [
            "700it [00:02, 292.06it/s]\n"
          ]
        },
        {
          "name": "stdout",
          "output_type": "stream",
          "text": [
            "Finish process : 須く / 700\n",
            "Start process : compare_sentences\n",
            "Finish process : 88.57% / 11.43%\n",
            "------------------------\n",
            "Start process : get_vectors\n"
          ]
        },
        {
          "name": "stderr",
          "output_type": "stream",
          "text": [
            "1000it [00:03, 285.87it/s]\n",
            "1000it [00:03, 291.49it/s]\n",
            "1000it [00:03, 291.37it/s]\n",
            "180it [00:00, 292.72it/s]\n"
          ]
        },
        {
          "name": "stdout",
          "output_type": "stream",
          "text": [
            "Finish process : 須く / 3180\n",
            "Start process : compare_sentences\n",
            "Finish process : 81.13% / 18.87%\n",
            "------------------------\n",
            "Start process : get_vectors\n"
          ]
        },
        {
          "name": "stderr",
          "output_type": "stream",
          "text": [
            "1000it [00:03, 289.04it/s]\n",
            "1000it [00:03, 281.86it/s]\n",
            "1000it [00:03, 284.51it/s]\n",
            "1000it [00:03, 284.03it/s]\n",
            "1000it [00:03, 284.63it/s]\n",
            "724it [00:02, 284.19it/s]\n"
          ]
        },
        {
          "name": "stdout",
          "output_type": "stream",
          "text": [
            "Finish process : 須く / 5724\n",
            "Start process : compare_sentences\n",
            "Finish process : 85.46% / 14.54%\n",
            "------------------------\n",
            "Start process : get_vectors\n"
          ]
        },
        {
          "name": "stderr",
          "output_type": "stream",
          "text": [
            "1000it [00:03, 264.44it/s]\n",
            "1000it [00:03, 278.06it/s]\n",
            "1000it [00:03, 272.49it/s]\n",
            "1000it [00:03, 267.27it/s]\n",
            "850it [00:03, 260.71it/s]\n"
          ]
        },
        {
          "name": "stdout",
          "output_type": "stream",
          "text": [
            "Finish process : 須く / 4850\n",
            "Start process : compare_sentences\n",
            "Finish process : 83.09% / 16.91%\n",
            "------------------------\n",
            "Start process : get_vectors\n"
          ]
        },
        {
          "name": "stderr",
          "output_type": "stream",
          "text": [
            "1000it [00:03, 275.13it/s]\n",
            "1000it [00:03, 273.88it/s]\n",
            "1000it [00:03, 265.61it/s]\n",
            "1000it [00:03, 272.29it/s]\n",
            "1000it [00:03, 271.93it/s]\n",
            "1000it [00:03, 270.00it/s]\n",
            "437it [00:01, 268.00it/s]\n"
          ]
        },
        {
          "name": "stdout",
          "output_type": "stream",
          "text": [
            "Finish process : 須く / 6437\n",
            "Start process : compare_sentences\n",
            "Finish process : 89.27% / 10.73%\n",
            "------------------------\n",
            "Start process : get_vectors\n"
          ]
        },
        {
          "name": "stderr",
          "output_type": "stream",
          "text": [
            "1000it [00:03, 268.18it/s]\n",
            "1000it [00:03, 267.65it/s]\n",
            "1000it [00:03, 271.54it/s]\n",
            "1000it [00:03, 265.51it/s]\n",
            "1000it [00:03, 267.73it/s]\n",
            "1000it [00:03, 275.06it/s]\n",
            "1000it [00:03, 270.42it/s]\n",
            "1000it [00:03, 264.99it/s]\n",
            "1000it [00:03, 257.98it/s]\n",
            "453it [00:01, 251.18it/s]\n"
          ]
        },
        {
          "name": "stdout",
          "output_type": "stream",
          "text": [
            "Finish process : 須く / 9452\n",
            "Start process : compare_sentences\n",
            "Finish process : 89.64% / 10.36%\n",
            "------------------------\n",
            "Start process : get_vectors\n"
          ]
        },
        {
          "name": "stderr",
          "output_type": "stream",
          "text": [
            "1000it [00:03, 275.25it/s]\n",
            "1000it [00:03, 269.69it/s]\n",
            "1000it [00:03, 260.18it/s]\n",
            "1000it [00:03, 280.56it/s]\n",
            "1000it [00:03, 285.27it/s]\n",
            "1000it [00:03, 274.09it/s]\n",
            "1000it [00:03, 281.97it/s]\n",
            "1000it [00:03, 279.56it/s]\n",
            "1000it [00:03, 272.24it/s]\n",
            "791it [00:02, 271.96it/s]\n"
          ]
        },
        {
          "name": "stdout",
          "output_type": "stream",
          "text": [
            "Finish process : 須く / 9791\n",
            "Start process : compare_sentences\n",
            "Finish process : 82.58% / 17.42%\n",
            "------------------------\n",
            "Start process : get_vectors\n"
          ]
        },
        {
          "name": "stderr",
          "output_type": "stream",
          "text": [
            "1000it [00:03, 282.88it/s]\n",
            "1000it [00:03, 274.54it/s]\n",
            "1000it [00:03, 276.25it/s]\n",
            "1000it [00:03, 283.26it/s]\n",
            "1000it [00:03, 282.41it/s]\n",
            "1000it [00:03, 276.88it/s]\n",
            "1000it [00:03, 282.53it/s]\n",
            "1000it [00:03, 275.99it/s]\n",
            "1000it [00:03, 274.77it/s]\n",
            "528it [00:01, 265.70it/s]\n"
          ]
        },
        {
          "name": "stdout",
          "output_type": "stream",
          "text": [
            "Finish process : 須く / 9526\n",
            "Start process : compare_sentences\n",
            "Finish process : 90.45% / 9.55%\n",
            "------------------------\n",
            "Start process : get_vectors\n"
          ]
        },
        {
          "name": "stderr",
          "output_type": "stream",
          "text": [
            "1000it [00:04, 230.54it/s]\n",
            "1000it [00:03, 270.81it/s]\n",
            "1000it [00:03, 266.26it/s]\n",
            "1000it [00:03, 268.77it/s]\n",
            "1000it [00:03, 275.66it/s]\n",
            "1000it [00:03, 277.62it/s]\n",
            "1000it [00:03, 330.70it/s]\n",
            "1000it [00:03, 276.87it/s]\n",
            "1000it [00:03, 257.02it/s]\n",
            "772it [00:02, 262.04it/s]\n"
          ]
        },
        {
          "name": "stdout",
          "output_type": "stream",
          "text": [
            "Finish process : 須く / 9771\n",
            "Start process : compare_sentences\n",
            "Finish process : 74.24% / 25.76%\n",
            "------------------------\n",
            "Start process : get_vectors\n"
          ]
        },
        {
          "name": "stderr",
          "output_type": "stream",
          "text": [
            "1000it [00:03, 268.38it/s]\n",
            "1000it [00:03, 268.65it/s]\n",
            "1000it [00:03, 264.73it/s]\n",
            "1000it [00:04, 209.27it/s]\n",
            "1000it [00:04, 249.36it/s]\n",
            "1000it [00:03, 255.82it/s]\n",
            "1000it [00:04, 223.04it/s]\n",
            "1000it [00:03, 258.33it/s]\n",
            "753it [00:03, 242.51it/s]\n"
          ]
        },
        {
          "name": "stdout",
          "output_type": "stream",
          "text": [
            "Finish process : 須く / 8753\n",
            "Start process : compare_sentences\n",
            "Finish process : 79.57% / 20.43%\n",
            "------------------------\n",
            "Start process : get_vectors\n"
          ]
        },
        {
          "name": "stderr",
          "output_type": "stream",
          "text": [
            "1000it [00:03, 263.24it/s]\n",
            "1000it [00:03, 259.12it/s]\n",
            "1000it [00:03, 250.78it/s]\n",
            "1000it [00:03, 260.25it/s]\n",
            "1000it [00:03, 267.14it/s]\n",
            "1000it [00:03, 263.46it/s]\n",
            "1000it [00:03, 266.12it/s]\n",
            "1000it [00:03, 258.35it/s]\n",
            "1000it [00:03, 264.94it/s]\n",
            "730it [00:02, 269.06it/s]\n"
          ]
        },
        {
          "name": "stdout",
          "output_type": "stream",
          "text": [
            "Finish process : 須く / 9729\n",
            "Start process : compare_sentences\n",
            "Finish process : 93.20% / 6.80%\n",
            "------------------------\n",
            "Start process : get_vectors\n"
          ]
        },
        {
          "name": "stderr",
          "output_type": "stream",
          "text": [
            "1000it [00:03, 266.08it/s]\n",
            "1000it [00:03, 273.82it/s]\n",
            "1000it [00:03, 270.57it/s]\n",
            "1000it [00:03, 266.99it/s]\n",
            "1000it [00:03, 268.04it/s]\n",
            "1000it [00:03, 268.05it/s]\n",
            "1000it [00:03, 261.78it/s]\n",
            "1000it [00:03, 263.66it/s]\n",
            "1000it [00:04, 246.74it/s]\n",
            "369it [00:01, 209.22it/s]\n"
          ]
        },
        {
          "name": "stdout",
          "output_type": "stream",
          "text": [
            "Finish process : 須く / 9367\n",
            "Start process : compare_sentences\n",
            "Finish process : 90.80% / 9.20%\n",
            "------------------------\n",
            "Start process : get_vectors\n"
          ]
        },
        {
          "name": "stderr",
          "output_type": "stream",
          "text": [
            "1000it [00:03, 258.49it/s]\n",
            "1000it [00:03, 258.50it/s]\n",
            "1000it [00:03, 258.84it/s]\n",
            "1000it [00:03, 285.69it/s]\n",
            "1000it [00:03, 330.40it/s]\n",
            "1000it [00:03, 322.58it/s]\n",
            "1000it [00:03, 264.27it/s]\n",
            "1000it [00:04, 246.35it/s]\n",
            "1000it [00:03, 267.41it/s]\n",
            "721it [00:02, 264.91it/s]\n"
          ]
        },
        {
          "name": "stdout",
          "output_type": "stream",
          "text": [
            "Finish process : 須く / 9721\n",
            "Start process : compare_sentences\n",
            "Finish process : 90.25% / 9.75%\n",
            "------------------------\n",
            "Start process : get_vectors\n"
          ]
        },
        {
          "name": "stderr",
          "output_type": "stream",
          "text": [
            "1000it [00:03, 307.79it/s]\n",
            "200it [00:00, 316.14it/s]\n"
          ]
        },
        {
          "name": "stdout",
          "output_type": "stream",
          "text": [
            "Finish process : すべからく / 1200\n",
            "Start process : compare_sentences\n",
            "Finish process : 55.00% / 45.00%\n",
            "------------------------\n",
            "Start process : get_vectors\n"
          ]
        },
        {
          "name": "stderr",
          "output_type": "stream",
          "text": [
            "1000it [00:03, 300.18it/s]\n",
            "1000it [00:03, 304.18it/s]\n",
            "1000it [00:03, 305.82it/s]\n",
            "1000it [00:03, 304.41it/s]\n",
            "1000it [00:03, 304.65it/s]\n",
            "1000it [00:03, 305.13it/s]\n",
            "1000it [00:03, 303.75it/s]\n",
            "640it [00:02, 305.63it/s]\n"
          ]
        },
        {
          "name": "stdout",
          "output_type": "stream",
          "text": [
            "Finish process : すべからく / 7640\n",
            "Start process : compare_sentences\n",
            "Finish process : 50.52% / 49.48%\n",
            "------------------------\n",
            "Start process : get_vectors\n"
          ]
        },
        {
          "name": "stderr",
          "output_type": "stream",
          "text": [
            "1000it [00:03, 283.82it/s]\n",
            "1000it [00:03, 294.08it/s]\n",
            "1000it [00:03, 307.20it/s]\n",
            "1000it [00:03, 304.58it/s]\n",
            "1000it [00:03, 305.46it/s]\n",
            "1000it [00:03, 306.25it/s]\n",
            "938it [00:03, 307.97it/s]\n"
          ]
        },
        {
          "name": "stdout",
          "output_type": "stream",
          "text": [
            "Finish process : すべからく / 6938\n",
            "Start process : compare_sentences\n",
            "Finish process : 52.26% / 47.74%\n",
            "------------------------\n",
            "Start process : get_vectors\n"
          ]
        },
        {
          "name": "stderr",
          "output_type": "stream",
          "text": [
            "1000it [00:03, 279.83it/s]\n",
            "1000it [00:03, 275.87it/s]\n",
            "1000it [00:03, 283.55it/s]\n",
            "1000it [00:03, 282.93it/s]\n",
            "1000it [00:03, 279.28it/s]\n",
            "1000it [00:03, 286.63it/s]\n",
            "1000it [00:03, 283.84it/s]\n",
            "1000it [00:03, 284.17it/s]\n",
            "1000it [00:03, 286.62it/s]\n",
            "911it [00:03, 276.49it/s]\n"
          ]
        },
        {
          "name": "stdout",
          "output_type": "stream",
          "text": [
            "Finish process : すべからく / 9908\n",
            "Start process : compare_sentences\n",
            "Finish process : 63.35% / 36.65%\n",
            "------------------------\n",
            "Start process : get_vectors\n"
          ]
        },
        {
          "name": "stderr",
          "output_type": "stream",
          "text": [
            "1000it [00:03, 276.54it/s]\n",
            "1000it [00:03, 283.21it/s]\n",
            "1000it [00:03, 283.47it/s]\n",
            "1000it [00:03, 281.80it/s]\n",
            "1000it [00:03, 286.25it/s]\n",
            "1000it [00:03, 266.24it/s]\n",
            "1000it [00:03, 282.07it/s]\n",
            "1000it [00:03, 284.96it/s]\n",
            "1000it [00:03, 279.91it/s]\n",
            "652it [00:02, 285.01it/s]\n"
          ]
        },
        {
          "name": "stdout",
          "output_type": "stream",
          "text": [
            "Finish process : すべからく / 9651\n",
            "Start process : compare_sentences\n",
            "Finish process : 64.22% / 35.78%\n",
            "------------------------\n",
            "Start process : get_vectors\n"
          ]
        },
        {
          "name": "stderr",
          "output_type": "stream",
          "text": [
            "1000it [00:03, 285.27it/s]\n",
            "1000it [00:03, 284.90it/s]\n",
            "1000it [00:03, 284.22it/s]\n",
            "1000it [00:03, 285.94it/s]\n",
            "1000it [00:03, 275.94it/s]\n",
            "1000it [00:03, 280.10it/s]\n",
            "1000it [00:03, 280.14it/s]\n",
            "1000it [00:03, 283.07it/s]\n",
            "1000it [00:03, 282.95it/s]\n",
            "672it [00:02, 280.86it/s]\n"
          ]
        },
        {
          "name": "stdout",
          "output_type": "stream",
          "text": [
            "Finish process : すべからく / 9672\n",
            "Start process : compare_sentences\n",
            "Finish process : 73.54% / 26.46%\n",
            "------------------------\n",
            "Start process : get_vectors\n"
          ]
        },
        {
          "name": "stderr",
          "output_type": "stream",
          "text": [
            "1000it [00:03, 276.76it/s]\n",
            "1000it [00:03, 274.83it/s]\n",
            "1000it [00:03, 287.54it/s]\n",
            "1000it [00:03, 277.09it/s]\n",
            "1000it [00:03, 279.23it/s]\n",
            "1000it [00:03, 281.14it/s]\n",
            "1000it [00:03, 279.09it/s]\n",
            "1000it [00:03, 280.26it/s]\n",
            "1000it [00:03, 278.21it/s]\n",
            "718it [00:02, 280.15it/s]\n"
          ]
        },
        {
          "name": "stdout",
          "output_type": "stream",
          "text": [
            "Finish process : すべからく / 9717\n",
            "Start process : compare_sentences\n",
            "Finish process : 78.33% / 21.67%\n",
            "------------------------\n",
            "Start process : get_vectors\n"
          ]
        },
        {
          "name": "stderr",
          "output_type": "stream",
          "text": [
            "1000it [00:03, 275.42it/s]\n",
            "1000it [00:03, 283.13it/s]\n",
            "1000it [00:03, 268.43it/s]\n",
            "1000it [00:03, 272.34it/s]\n",
            "1000it [00:03, 274.83it/s]\n",
            "1000it [00:03, 279.80it/s]\n",
            "1000it [00:03, 278.84it/s]\n",
            "1000it [00:03, 278.61it/s]\n",
            "1000it [00:03, 281.29it/s]\n",
            "735it [00:02, 282.58it/s]\n"
          ]
        },
        {
          "name": "stdout",
          "output_type": "stream",
          "text": [
            "Finish process : すべからく / 9734\n",
            "Start process : compare_sentences\n",
            "Finish process : 81.68% / 18.32%\n",
            "------------------------\n",
            "Start process : get_vectors\n"
          ]
        },
        {
          "name": "stderr",
          "output_type": "stream",
          "text": [
            "1000it [00:03, 277.70it/s]\n",
            "1000it [00:03, 281.39it/s]\n",
            "1000it [00:03, 281.20it/s]\n",
            "1000it [00:03, 279.79it/s]\n",
            "1000it [00:03, 280.52it/s]\n",
            "1000it [00:03, 279.29it/s]\n",
            "1000it [00:03, 276.61it/s]\n",
            "1000it [00:03, 276.52it/s]\n",
            "1000it [00:03, 277.38it/s]\n",
            "796it [00:02, 278.91it/s]\n"
          ]
        },
        {
          "name": "stdout",
          "output_type": "stream",
          "text": [
            "Finish process : すべからく / 9795\n",
            "Start process : compare_sentences\n",
            "Finish process : 80.18% / 19.82%\n",
            "------------------------\n",
            "Start process : get_vectors\n"
          ]
        },
        {
          "name": "stderr",
          "output_type": "stream",
          "text": [
            "1000it [00:03, 274.68it/s]\n",
            "1000it [00:03, 279.01it/s]\n",
            "1000it [00:03, 277.04it/s]\n",
            "1000it [00:03, 277.82it/s]\n",
            "1000it [00:03, 279.53it/s]\n",
            "1000it [00:03, 282.94it/s]\n",
            "1000it [00:03, 292.97it/s]\n",
            "1000it [00:03, 297.46it/s]\n",
            "1000it [00:03, 300.57it/s]\n",
            "757it [00:02, 301.42it/s]\n"
          ]
        },
        {
          "name": "stdout",
          "output_type": "stream",
          "text": [
            "Finish process : すべからく / 9756\n",
            "Start process : compare_sentences\n",
            "Finish process : 53.22% / 46.78%\n",
            "------------------------\n",
            "Start process : get_vectors\n"
          ]
        },
        {
          "name": "stderr",
          "output_type": "stream",
          "text": [
            "1000it [00:03, 274.08it/s]\n",
            "1000it [00:03, 281.94it/s]\n",
            "1000it [00:03, 292.98it/s]\n",
            "1000it [00:03, 272.57it/s]\n",
            "1000it [00:03, 263.77it/s]\n",
            "1000it [00:03, 273.30it/s]\n",
            "1000it [00:03, 262.10it/s]\n",
            "1000it [00:03, 271.45it/s]\n",
            "1000it [00:03, 280.48it/s]\n",
            "772it [00:02, 280.99it/s]\n"
          ]
        },
        {
          "name": "stdout",
          "output_type": "stream",
          "text": [
            "Finish process : すべからく / 9772\n",
            "Start process : compare_sentences\n",
            "Finish process : 79.44% / 20.56%\n",
            "------------------------\n",
            "Start process : get_vectors\n"
          ]
        },
        {
          "name": "stderr",
          "output_type": "stream",
          "text": [
            "1000it [00:03, 265.61it/s]\n",
            "1000it [00:03, 268.62it/s]\n",
            "1000it [00:03, 273.15it/s]\n",
            "1000it [00:03, 271.61it/s]\n",
            "1000it [00:03, 274.37it/s]\n",
            "1000it [00:03, 265.15it/s]\n",
            "1000it [00:03, 273.68it/s]\n",
            "1000it [00:03, 274.88it/s]\n",
            "1000it [00:03, 271.85it/s]\n",
            "570it [00:01, 286.31it/s]\n"
          ]
        },
        {
          "name": "stdout",
          "output_type": "stream",
          "text": [
            "Finish process : すべからく / 9568\n",
            "Start process : compare_sentences\n",
            "Finish process : 75.89% / 24.11%\n",
            "------------------------\n",
            "Start process : get_vectors\n"
          ]
        },
        {
          "name": "stderr",
          "output_type": "stream",
          "text": [
            "1000it [00:03, 272.32it/s]\n",
            "1000it [00:03, 266.43it/s]\n",
            "1000it [00:03, 263.03it/s]\n",
            "1000it [00:03, 272.37it/s]\n",
            "1000it [00:03, 291.16it/s]\n",
            "1000it [00:03, 272.73it/s]\n",
            "1000it [00:03, 269.27it/s]\n",
            "1000it [00:04, 232.48it/s]\n",
            "1000it [00:03, 272.59it/s]\n",
            "644it [00:02, 265.50it/s]\n"
          ]
        },
        {
          "name": "stdout",
          "output_type": "stream",
          "text": [
            "Finish process : すべからく / 9642\n",
            "Start process : compare_sentences\n",
            "Finish process : 71.03% / 28.97%\n",
            "------------------------\n",
            "Start process : get_vectors\n"
          ]
        },
        {
          "name": "stderr",
          "output_type": "stream",
          "text": [
            "1000it [00:03, 268.34it/s]\n",
            "1000it [00:03, 272.78it/s]\n",
            "1000it [00:03, 269.72it/s]\n",
            "1000it [00:03, 273.47it/s]\n",
            "1000it [00:03, 270.21it/s]\n",
            "1000it [00:03, 270.43it/s]\n",
            "1000it [00:03, 273.96it/s]\n",
            "1000it [00:03, 271.21it/s]\n",
            "1000it [00:03, 275.77it/s]\n",
            "424it [00:01, 273.70it/s]\n"
          ]
        },
        {
          "name": "stdout",
          "output_type": "stream",
          "text": [
            "Finish process : すべからく / 9424\n",
            "Start process : compare_sentences\n",
            "Finish process : 71.67% / 28.33%\n",
            "------------------------\n",
            "Start process : get_vectors\n"
          ]
        },
        {
          "name": "stderr",
          "output_type": "stream",
          "text": [
            "600it [00:02, 264.31it/s]\n"
          ]
        },
        {
          "name": "stdout",
          "output_type": "stream",
          "text": [
            "Finish process : 割愛 / 600\n",
            "Start process : compare_sentences\n",
            "Finish process : 100.00% / 0.00%\n",
            "------------------------\n",
            "Start process : get_vectors\n"
          ]
        },
        {
          "name": "stderr",
          "output_type": "stream",
          "text": [
            "1000it [00:03, 263.69it/s]\n",
            "1000it [00:03, 265.75it/s]\n",
            "1000it [00:03, 270.44it/s]\n",
            "1000it [00:03, 270.07it/s]\n",
            "680it [00:02, 270.18it/s]\n"
          ]
        },
        {
          "name": "stdout",
          "output_type": "stream",
          "text": [
            "Finish process : 割愛 / 4680\n",
            "Start process : compare_sentences\n",
            "Finish process : 100.00% / 0.00%\n",
            "------------------------\n",
            "Start process : get_vectors\n"
          ]
        },
        {
          "name": "stderr",
          "output_type": "stream",
          "text": [
            "1000it [00:03, 255.49it/s]\n",
            "1000it [00:03, 258.90it/s]\n",
            "1000it [00:03, 261.38it/s]\n",
            "1000it [00:03, 262.09it/s]\n",
            "1000it [00:03, 261.64it/s]\n",
            "1000it [00:03, 262.03it/s]\n",
            "1000it [00:03, 262.54it/s]\n",
            "1000it [00:03, 262.15it/s]\n",
            "1000it [00:03, 264.55it/s]\n",
            "565it [00:02, 264.83it/s]\n"
          ]
        },
        {
          "name": "stdout",
          "output_type": "stream",
          "text": [
            "Finish process : 割愛 / 9565\n",
            "Start process : compare_sentences\n",
            "Finish process : 99.79% / 0.21%\n",
            "------------------------\n",
            "Start process : get_vectors\n"
          ]
        },
        {
          "name": "stderr",
          "output_type": "stream",
          "text": [
            "1000it [00:04, 247.80it/s]\n",
            "1000it [00:03, 264.83it/s]\n",
            "1000it [00:03, 257.56it/s]\n",
            "1000it [00:03, 252.86it/s]\n",
            "1000it [00:03, 250.06it/s]\n",
            "1000it [00:03, 255.83it/s]\n",
            "1000it [00:04, 249.24it/s]\n",
            "1000it [00:03, 252.50it/s]\n",
            "1000it [00:04, 246.27it/s]\n",
            "881it [00:03, 245.09it/s]\n"
          ]
        },
        {
          "name": "stdout",
          "output_type": "stream",
          "text": [
            "Finish process : 割愛 / 9879\n",
            "Start process : compare_sentences\n",
            "Finish process : 99.88% / 0.12%\n",
            "------------------------\n",
            "Start process : get_vectors\n"
          ]
        },
        {
          "name": "stderr",
          "output_type": "stream",
          "text": [
            "1000it [00:03, 278.05it/s]\n",
            "1000it [00:03, 258.78it/s]\n",
            "1000it [00:04, 248.45it/s]\n",
            "1000it [00:03, 262.89it/s]\n",
            "1000it [00:03, 255.06it/s]\n",
            "1000it [00:03, 253.37it/s]\n",
            "1000it [00:04, 245.23it/s]\n",
            "1000it [00:03, 256.84it/s]\n",
            "1000it [00:03, 259.48it/s]\n",
            "519it [00:02, 248.91it/s]\n"
          ]
        },
        {
          "name": "stdout",
          "output_type": "stream",
          "text": [
            "Finish process : 割愛 / 9519\n",
            "Start process : compare_sentences\n",
            "Finish process : 99.92% / 0.08%\n",
            "------------------------\n",
            "Start process : get_vectors\n"
          ]
        },
        {
          "name": "stderr",
          "output_type": "stream",
          "text": [
            "1000it [00:03, 266.90it/s]\n",
            "1000it [00:03, 254.80it/s]\n",
            "1000it [00:03, 259.00it/s]\n",
            "1000it [00:03, 256.76it/s]\n",
            "1000it [00:03, 255.13it/s]\n",
            "1000it [00:03, 264.34it/s]\n",
            "1000it [00:03, 261.35it/s]\n",
            "1000it [00:03, 253.75it/s]\n",
            "1000it [00:03, 263.74it/s]\n",
            "534it [00:02, 262.59it/s]\n"
          ]
        },
        {
          "name": "stdout",
          "output_type": "stream",
          "text": [
            "Finish process : 割愛 / 9533\n",
            "Start process : compare_sentences\n",
            "Finish process : 99.86% / 0.14%\n",
            "------------------------\n",
            "Start process : get_vectors\n"
          ]
        },
        {
          "name": "stderr",
          "output_type": "stream",
          "text": [
            "1000it [00:03, 255.11it/s]\n",
            "1000it [00:03, 251.54it/s]\n",
            "1000it [00:03, 255.67it/s]\n",
            "1000it [00:03, 262.83it/s]\n",
            "1000it [00:03, 264.59it/s]\n",
            "1000it [00:03, 254.79it/s]\n",
            "1000it [00:03, 260.74it/s]\n",
            "1000it [00:03, 253.69it/s]\n",
            "1000it [00:03, 251.20it/s]\n",
            "699it [00:02, 259.40it/s]\n"
          ]
        },
        {
          "name": "stdout",
          "output_type": "stream",
          "text": [
            "Finish process : 割愛 / 9698\n",
            "Start process : compare_sentences\n",
            "Finish process : 99.80% / 0.20%\n",
            "------------------------\n",
            "Start process : get_vectors\n"
          ]
        },
        {
          "name": "stderr",
          "output_type": "stream",
          "text": [
            "1000it [00:03, 251.10it/s]\n",
            "1000it [00:03, 253.95it/s]\n",
            "1000it [00:03, 250.46it/s]\n",
            "1000it [00:04, 248.92it/s]\n",
            "1000it [00:04, 230.58it/s]\n",
            "1000it [00:04, 241.18it/s]\n",
            "1000it [00:04, 241.12it/s]\n",
            "1000it [00:04, 233.16it/s]\n",
            "1000it [00:03, 258.47it/s]\n",
            "631it [00:02, 242.21it/s]\n"
          ]
        },
        {
          "name": "stdout",
          "output_type": "stream",
          "text": [
            "Finish process : 割愛 / 9630\n",
            "Start process : compare_sentences\n",
            "Finish process : 99.88% / 0.12%\n",
            "------------------------\n",
            "Start process : get_vectors\n"
          ]
        },
        {
          "name": "stderr",
          "output_type": "stream",
          "text": [
            "1000it [00:03, 254.54it/s]\n",
            "1000it [00:03, 253.70it/s]\n",
            "1000it [00:03, 252.07it/s]\n",
            "1000it [00:04, 246.38it/s]\n",
            "1000it [00:04, 239.59it/s]\n",
            "1000it [00:03, 250.13it/s]\n",
            "1000it [00:04, 247.43it/s]\n",
            "1000it [00:03, 258.07it/s]\n",
            "1000it [00:04, 248.98it/s]\n",
            "514it [00:01, 258.55it/s]\n"
          ]
        },
        {
          "name": "stdout",
          "output_type": "stream",
          "text": [
            "Finish process : 割愛 / 9513\n",
            "Start process : compare_sentences\n",
            "Finish process : 99.84% / 0.16%\n",
            "------------------------\n",
            "Start process : get_vectors\n"
          ]
        },
        {
          "name": "stderr",
          "output_type": "stream",
          "text": [
            "1000it [00:04, 238.91it/s]\n",
            "1000it [00:04, 229.58it/s]\n",
            "1000it [00:04, 230.24it/s]\n",
            "1000it [00:04, 229.01it/s]\n",
            "1000it [00:03, 255.77it/s]\n",
            "1000it [00:04, 242.24it/s]\n",
            "1000it [00:04, 242.23it/s]\n",
            "1000it [00:03, 270.21it/s]\n",
            "1000it [00:03, 312.93it/s]\n",
            "382it [00:01, 303.07it/s]\n"
          ]
        },
        {
          "name": "stdout",
          "output_type": "stream",
          "text": [
            "Finish process : 割愛 / 9380\n",
            "Start process : compare_sentences\n",
            "Finish process : 99.93% / 0.07%\n",
            "------------------------\n",
            "Start process : get_vectors\n"
          ]
        },
        {
          "name": "stderr",
          "output_type": "stream",
          "text": [
            "1000it [00:04, 245.54it/s]\n",
            "1000it [00:04, 237.97it/s]\n",
            "1000it [00:04, 245.24it/s]\n",
            "1000it [00:04, 249.93it/s]\n",
            "1000it [00:03, 252.82it/s]\n",
            "1000it [00:04, 248.45it/s]\n",
            "1000it [00:04, 246.81it/s]\n",
            "1000it [00:03, 254.49it/s]\n",
            "1000it [00:04, 237.13it/s]\n",
            "306it [00:01, 221.45it/s]\n"
          ]
        },
        {
          "name": "stdout",
          "output_type": "stream",
          "text": [
            "Finish process : 割愛 / 9306\n",
            "Start process : compare_sentences\n",
            "Finish process : 99.79% / 0.21%\n",
            "------------------------\n",
            "Start process : get_vectors\n"
          ]
        },
        {
          "name": "stderr",
          "output_type": "stream",
          "text": [
            "1000it [00:04, 239.76it/s]\n",
            "1000it [00:04, 243.19it/s]\n",
            "1000it [00:04, 247.93it/s]\n",
            "1000it [00:04, 248.65it/s]\n",
            "1000it [00:04, 245.53it/s]\n",
            "1000it [00:04, 240.82it/s]\n",
            "1000it [00:04, 238.89it/s]\n",
            "1000it [00:04, 240.13it/s]\n",
            "1000it [00:04, 241.92it/s]\n",
            "213it [00:00, 240.70it/s]\n"
          ]
        },
        {
          "name": "stdout",
          "output_type": "stream",
          "text": [
            "Finish process : 割愛 / 9212\n",
            "Start process : compare_sentences\n",
            "Finish process : 99.71% / 0.29%\n",
            "------------------------\n",
            "Start process : get_vectors\n"
          ]
        },
        {
          "name": "stderr",
          "output_type": "stream",
          "text": [
            "1000it [00:04, 243.61it/s]\n",
            "1000it [00:04, 241.50it/s]\n",
            "1000it [00:04, 240.47it/s]\n",
            "1000it [00:04, 243.35it/s]\n",
            "1000it [00:04, 235.13it/s]\n",
            "1000it [00:04, 230.88it/s]\n",
            "1000it [00:04, 239.43it/s]\n",
            "1000it [00:03, 250.06it/s]\n",
            "932it [00:03, 237.96it/s]\n"
          ]
        },
        {
          "name": "stdout",
          "output_type": "stream",
          "text": [
            "Finish process : 割愛 / 8932\n",
            "Start process : compare_sentences\n",
            "Finish process : 99.85% / 0.15%\n",
            "------------------------\n",
            "Start process : get_vectors\n"
          ]
        },
        {
          "name": "stderr",
          "output_type": "stream",
          "text": [
            "1000it [00:04, 242.92it/s]\n",
            "1000it [00:04, 244.87it/s]\n",
            "1000it [00:04, 229.87it/s]\n",
            "1000it [00:04, 237.57it/s]\n",
            "1000it [00:04, 240.27it/s]\n",
            "1000it [00:04, 234.31it/s]\n",
            "1000it [00:04, 238.61it/s]\n",
            "1000it [00:04, 240.66it/s]\n",
            "1000it [00:04, 240.46it/s]\n",
            "162it [00:00, 224.41it/s]\n"
          ]
        },
        {
          "name": "stdout",
          "output_type": "stream",
          "text": [
            "Finish process : 割愛 / 9159\n",
            "Start process : compare_sentences\n",
            "Finish process : 99.85% / 0.15%\n",
            "------------------------\n",
            "Start process : get_vectors\n"
          ]
        },
        {
          "name": "stderr",
          "output_type": "stream",
          "text": [
            "700it [00:02, 295.94it/s]\n"
          ]
        },
        {
          "name": "stdout",
          "output_type": "stream",
          "text": [
            "Finish process : 破天荒 / 700\n",
            "Start process : compare_sentences\n",
            "Finish process : 11.43% / 88.57%\n",
            "------------------------\n",
            "Start process : get_vectors\n"
          ]
        },
        {
          "name": "stderr",
          "output_type": "stream",
          "text": [
            "613it [00:01, 322.39it/s]\n"
          ]
        },
        {
          "name": "stdout",
          "output_type": "stream",
          "text": [
            "Finish process : 破天荒 / 613\n",
            "Start process : compare_sentences\n",
            "Finish process : 9.46% / 90.54%\n",
            "------------------------\n",
            "Start process : get_vectors\n"
          ]
        },
        {
          "name": "stderr",
          "output_type": "stream",
          "text": [
            "1000it [00:03, 295.16it/s]\n",
            "1000it [00:03, 292.69it/s]\n",
            "1000it [00:03, 295.87it/s]\n",
            "273it [00:00, 297.27it/s]\n"
          ]
        },
        {
          "name": "stdout",
          "output_type": "stream",
          "text": [
            "Finish process : 破天荒 / 3273\n",
            "Start process : compare_sentences\n",
            "Finish process : 3.18% / 96.82%\n",
            "------------------------\n",
            "Start process : get_vectors\n"
          ]
        },
        {
          "name": "stderr",
          "output_type": "stream",
          "text": [
            "1000it [00:03, 291.59it/s]\n",
            "1000it [00:03, 287.49it/s]\n",
            "1000it [00:03, 287.28it/s]\n",
            "1000it [00:03, 288.62it/s]\n",
            "1000it [00:03, 290.49it/s]\n",
            "1000it [00:03, 296.73it/s]\n",
            "1000it [00:03, 294.25it/s]\n",
            "1000it [00:03, 292.91it/s]\n",
            "1000it [00:03, 294.49it/s]\n",
            "925it [00:03, 294.15it/s]\n"
          ]
        },
        {
          "name": "stdout",
          "output_type": "stream",
          "text": [
            "Finish process : 破天荒 / 9925\n",
            "Start process : compare_sentences\n",
            "Finish process : 2.20% / 97.80%\n",
            "------------------------\n",
            "Start process : get_vectors\n"
          ]
        },
        {
          "name": "stderr",
          "output_type": "stream",
          "text": [
            "1000it [00:03, 290.24it/s]\n",
            "1000it [00:03, 295.00it/s]\n",
            "1000it [00:03, 295.88it/s]\n",
            "1000it [00:03, 295.61it/s]\n",
            "1000it [00:03, 288.26it/s]\n",
            "1000it [00:03, 293.16it/s]\n",
            "1000it [00:03, 291.55it/s]\n",
            "1000it [00:03, 278.51it/s]\n",
            "1000it [00:03, 307.27it/s]\n",
            "875it [00:02, 305.74it/s]\n"
          ]
        },
        {
          "name": "stdout",
          "output_type": "stream",
          "text": [
            "Finish process : 破天荒 / 9875\n",
            "Start process : compare_sentences\n",
            "Finish process : 5.02% / 94.98%\n",
            "------------------------\n",
            "Start process : get_vectors\n"
          ]
        },
        {
          "name": "stderr",
          "output_type": "stream",
          "text": [
            "1000it [00:03, 289.04it/s]\n",
            "1000it [00:03, 323.72it/s]\n",
            "1000it [00:03, 292.87it/s]\n",
            "1000it [00:03, 293.82it/s]\n",
            "1000it [00:03, 303.34it/s]\n",
            "1000it [00:03, 299.36it/s]\n",
            "1000it [00:03, 293.34it/s]\n",
            "1000it [00:03, 300.47it/s]\n",
            "1000it [00:03, 272.21it/s]\n",
            "675it [00:02, 277.56it/s]\n"
          ]
        },
        {
          "name": "stdout",
          "output_type": "stream",
          "text": [
            "Finish process : 破天荒 / 9675\n",
            "Start process : compare_sentences\n",
            "Finish process : 3.53% / 96.47%\n",
            "------------------------\n",
            "Start process : get_vectors\n"
          ]
        },
        {
          "name": "stderr",
          "output_type": "stream",
          "text": [
            "1000it [00:03, 259.94it/s]\n",
            "1000it [00:04, 248.72it/s]\n",
            "1000it [00:03, 292.99it/s]\n",
            "1000it [00:03, 291.92it/s]\n",
            "1000it [00:03, 301.06it/s]\n",
            "1000it [00:03, 296.70it/s]\n",
            "1000it [00:03, 302.36it/s]\n",
            "1000it [00:03, 299.12it/s]\n",
            "1000it [00:03, 284.41it/s]\n",
            "742it [00:02, 267.26it/s]\n"
          ]
        },
        {
          "name": "stdout",
          "output_type": "stream",
          "text": [
            "Finish process : 破天荒 / 9738\n",
            "Start process : compare_sentences\n",
            "Finish process : 1.62% / 98.38%\n",
            "------------------------\n",
            "Start process : get_vectors\n"
          ]
        },
        {
          "name": "stderr",
          "output_type": "stream",
          "text": [
            "1000it [00:03, 300.77it/s]\n",
            "1000it [00:03, 291.64it/s]\n",
            "1000it [00:03, 298.88it/s]\n",
            "1000it [00:03, 294.65it/s]\n",
            "1000it [00:03, 290.66it/s]\n",
            "1000it [00:03, 297.53it/s]\n",
            "1000it [00:03, 300.13it/s]\n",
            "1000it [00:03, 296.95it/s]\n",
            "1000it [00:03, 292.03it/s]\n",
            "583it [00:01, 296.22it/s]\n"
          ]
        },
        {
          "name": "stdout",
          "output_type": "stream",
          "text": [
            "Finish process : 破天荒 / 9583\n",
            "Start process : compare_sentences\n",
            "Finish process : 1.44% / 98.56%\n",
            "------------------------\n",
            "Start process : get_vectors\n"
          ]
        },
        {
          "name": "stderr",
          "output_type": "stream",
          "text": [
            "1000it [00:03, 281.71it/s]\n",
            "1000it [00:03, 279.12it/s]\n",
            "1000it [00:03, 295.66it/s]\n",
            "1000it [00:03, 308.14it/s]\n",
            "1000it [00:03, 307.83it/s]\n",
            "1000it [00:03, 294.16it/s]\n",
            "1000it [00:03, 292.52it/s]\n",
            "1000it [00:03, 278.81it/s]\n",
            "1000it [00:03, 280.79it/s]\n",
            "484it [00:01, 279.37it/s]\n"
          ]
        },
        {
          "name": "stdout",
          "output_type": "stream",
          "text": [
            "Finish process : 破天荒 / 9484\n",
            "Start process : compare_sentences\n",
            "Finish process : 1.12% / 98.88%\n",
            "------------------------\n",
            "Start process : get_vectors\n"
          ]
        },
        {
          "name": "stderr",
          "output_type": "stream",
          "text": [
            "1000it [00:03, 279.30it/s]\n",
            "1000it [00:03, 296.91it/s]\n",
            "1000it [00:03, 289.32it/s]\n",
            "1000it [00:03, 287.01it/s]\n",
            "1000it [00:03, 269.35it/s]\n",
            "1000it [00:03, 275.30it/s]\n",
            "1000it [00:03, 289.11it/s]\n",
            "1000it [00:03, 285.68it/s]\n",
            "1000it [00:03, 268.85it/s]\n",
            "676it [00:02, 306.72it/s]\n"
          ]
        },
        {
          "name": "stdout",
          "output_type": "stream",
          "text": [
            "Finish process : 破天荒 / 9676\n",
            "Start process : compare_sentences\n",
            "Finish process : 1.35% / 98.65%\n",
            "------------------------\n",
            "Start process : get_vectors\n"
          ]
        },
        {
          "name": "stderr",
          "output_type": "stream",
          "text": [
            "1000it [00:03, 283.01it/s]\n",
            "1000it [00:03, 314.93it/s]\n",
            "1000it [00:02, 340.05it/s]\n",
            "1000it [00:03, 321.94it/s]\n",
            "1000it [00:03, 279.45it/s]\n",
            "1000it [00:03, 265.97it/s]\n",
            "1000it [00:03, 267.66it/s]\n",
            "1000it [00:03, 283.14it/s]\n",
            "1000it [00:03, 259.40it/s]\n",
            "756it [00:02, 265.31it/s]\n"
          ]
        },
        {
          "name": "stdout",
          "output_type": "stream",
          "text": [
            "Finish process : 破天荒 / 9756\n",
            "Start process : compare_sentences\n",
            "Finish process : 1.10% / 98.90%\n",
            "------------------------\n",
            "Start process : get_vectors\n"
          ]
        },
        {
          "name": "stderr",
          "output_type": "stream",
          "text": [
            "1000it [00:03, 277.92it/s]\n",
            "1000it [00:03, 293.59it/s]\n",
            "1000it [00:03, 288.08it/s]\n",
            "1000it [00:03, 253.93it/s]\n",
            "1000it [00:03, 304.41it/s]\n",
            "1000it [00:03, 280.34it/s]\n",
            "1000it [00:03, 286.65it/s]\n",
            "1000it [00:03, 265.93it/s]\n",
            "652it [00:02, 232.51it/s]\n"
          ]
        },
        {
          "name": "stdout",
          "output_type": "stream",
          "text": [
            "Finish process : 破天荒 / 8646\n",
            "Start process : compare_sentences\n",
            "Finish process : 0.69% / 99.31%\n",
            "------------------------\n",
            "Start process : get_vectors\n"
          ]
        },
        {
          "name": "stderr",
          "output_type": "stream",
          "text": [
            "1000it [00:03, 272.77it/s]\n",
            "1000it [00:03, 264.48it/s]\n",
            "1000it [00:03, 268.87it/s]\n",
            "1000it [00:03, 273.58it/s]\n",
            "1000it [00:04, 225.43it/s]\n",
            "1000it [00:04, 214.08it/s]\n",
            "1000it [00:05, 191.50it/s]\n",
            "1000it [00:05, 196.79it/s]\n",
            "1000it [00:05, 190.20it/s]\n",
            "839it [00:04, 187.41it/s]\n"
          ]
        },
        {
          "name": "stdout",
          "output_type": "stream",
          "text": [
            "Finish process : 破天荒 / 9839\n",
            "Start process : compare_sentences\n",
            "Finish process : 0.55% / 99.45%\n",
            "------------------------\n",
            "Start process : get_vectors\n"
          ]
        },
        {
          "name": "stderr",
          "output_type": "stream",
          "text": [
            "1000it [00:03, 261.50it/s]\n",
            "1000it [00:03, 276.46it/s]\n",
            "1000it [00:03, 275.92it/s]\n",
            "1000it [00:03, 280.83it/s]\n",
            "1000it [00:03, 251.12it/s]\n",
            "1000it [00:03, 266.26it/s]\n",
            "1000it [00:03, 257.19it/s]\n",
            "1000it [00:03, 254.25it/s]\n",
            "1000it [00:03, 274.58it/s]\n",
            "546it [00:01, 289.98it/s]\n"
          ]
        },
        {
          "name": "stdout",
          "output_type": "stream",
          "text": [
            "Finish process : 破天荒 / 9546\n",
            "Start process : compare_sentences\n",
            "Finish process : 0.59% / 99.41%\n",
            "------------------------\n",
            "Start process : get_vectors\n"
          ]
        },
        {
          "name": "stderr",
          "output_type": "stream",
          "text": [
            "400it [00:01, 285.79it/s]\n"
          ]
        },
        {
          "name": "stdout",
          "output_type": "stream",
          "text": [
            "Finish process : 役不足 / 400\n",
            "Start process : compare_sentences\n",
            "Finish process : 100.00% / 0.00%\n",
            "------------------------\n",
            "Start process : get_vectors\n"
          ]
        },
        {
          "name": "stderr",
          "output_type": "stream",
          "text": [
            "1000it [00:03, 319.16it/s]\n",
            "1000it [00:03, 322.25it/s]\n",
            "1000it [00:02, 345.33it/s]\n",
            "1000it [00:03, 322.34it/s]\n",
            "560it [00:01, 323.68it/s]\n"
          ]
        },
        {
          "name": "stdout",
          "output_type": "stream",
          "text": [
            "Finish process : 役不足 / 4560\n",
            "Start process : compare_sentences\n",
            "Finish process : 100.00% / 0.00%\n",
            "------------------------\n",
            "Start process : get_vectors\n"
          ]
        },
        {
          "name": "stderr",
          "output_type": "stream",
          "text": [
            "1000it [00:03, 287.42it/s]\n",
            "1000it [00:03, 306.09it/s]\n",
            "236it [00:00, 312.67it/s]\n"
          ]
        },
        {
          "name": "stdout",
          "output_type": "stream",
          "text": [
            "Finish process : 役不足 / 2236\n",
            "Start process : compare_sentences\n",
            "Finish process : 99.91% / 0.09%\n",
            "------------------------\n",
            "Start process : get_vectors\n"
          ]
        },
        {
          "name": "stderr",
          "output_type": "stream",
          "text": [
            "1000it [00:03, 280.91it/s]\n",
            "1000it [00:03, 284.02it/s]\n",
            "1000it [00:03, 282.95it/s]\n",
            "1000it [00:03, 293.89it/s]\n",
            "1000it [00:03, 280.46it/s]\n",
            "1000it [00:03, 283.12it/s]\n",
            "1000it [00:03, 288.06it/s]\n",
            "1000it [00:03, 279.91it/s]\n",
            "1000it [00:03, 278.85it/s]\n",
            "909it [00:03, 280.38it/s]\n"
          ]
        },
        {
          "name": "stdout",
          "output_type": "stream",
          "text": [
            "Finish process : 役不足 / 9909\n",
            "Start process : compare_sentences\n",
            "Finish process : 99.95% / 0.05%\n",
            "------------------------\n",
            "Start process : get_vectors\n"
          ]
        },
        {
          "name": "stderr",
          "output_type": "stream",
          "text": [
            "1000it [00:03, 291.20it/s]\n",
            "1000it [00:03, 292.13it/s]\n",
            "1000it [00:03, 291.38it/s]\n",
            "1000it [00:03, 289.19it/s]\n",
            "1000it [00:03, 288.62it/s]\n",
            "1000it [00:03, 287.76it/s]\n",
            "1000it [00:03, 285.21it/s]\n",
            "1000it [00:03, 291.52it/s]\n",
            "1000it [00:03, 292.02it/s]\n",
            "869it [00:03, 285.36it/s]\n"
          ]
        },
        {
          "name": "stdout",
          "output_type": "stream",
          "text": [
            "Finish process : 役不足 / 9869\n",
            "Start process : compare_sentences\n",
            "Finish process : 99.92% / 0.08%\n",
            "------------------------\n",
            "Start process : get_vectors\n"
          ]
        },
        {
          "name": "stderr",
          "output_type": "stream",
          "text": [
            "1000it [00:03, 290.32it/s]\n",
            "1000it [00:03, 295.22it/s]\n",
            "1000it [00:03, 292.28it/s]\n",
            "1000it [00:03, 295.10it/s]\n",
            "1000it [00:03, 287.63it/s]\n",
            "1000it [00:03, 281.79it/s]\n",
            "1000it [00:03, 293.50it/s]\n",
            "1000it [00:03, 285.54it/s]\n",
            "1000it [00:03, 276.50it/s]\n",
            "875it [00:03, 289.65it/s]\n"
          ]
        },
        {
          "name": "stdout",
          "output_type": "stream",
          "text": [
            "Finish process : 役不足 / 9874\n",
            "Start process : compare_sentences\n",
            "Finish process : 99.97% / 0.03%\n",
            "------------------------\n",
            "Start process : get_vectors\n"
          ]
        },
        {
          "name": "stderr",
          "output_type": "stream",
          "text": [
            "1000it [00:03, 279.93it/s]\n",
            "1000it [00:03, 288.83it/s]\n",
            "1000it [00:03, 281.09it/s]\n",
            "1000it [00:03, 289.88it/s]\n",
            "1000it [00:03, 284.40it/s]\n",
            "1000it [00:03, 294.11it/s]\n",
            "1000it [00:03, 291.34it/s]\n",
            "1000it [00:03, 293.05it/s]\n",
            "1000it [00:03, 279.67it/s]\n",
            "857it [00:02, 306.11it/s]\n"
          ]
        },
        {
          "name": "stdout",
          "output_type": "stream",
          "text": [
            "Finish process : 役不足 / 9857\n",
            "Start process : compare_sentences\n",
            "Finish process : 99.92% / 0.08%\n",
            "------------------------\n",
            "Start process : get_vectors\n"
          ]
        },
        {
          "name": "stderr",
          "output_type": "stream",
          "text": [
            "1000it [00:03, 291.18it/s]\n",
            "1000it [00:03, 292.34it/s]\n",
            "1000it [00:03, 282.86it/s]\n",
            "1000it [00:03, 290.73it/s]\n",
            "1000it [00:04, 240.07it/s]\n",
            "1000it [00:03, 281.01it/s]\n",
            "1000it [00:03, 290.49it/s]\n",
            "1000it [00:03, 293.35it/s]\n",
            "1000it [00:03, 296.44it/s]\n",
            "885it [00:03, 290.88it/s]\n"
          ]
        },
        {
          "name": "stdout",
          "output_type": "stream",
          "text": [
            "Finish process : 役不足 / 9885\n",
            "Start process : compare_sentences\n",
            "Finish process : 99.89% / 0.11%\n",
            "------------------------\n",
            "Start process : get_vectors\n"
          ]
        },
        {
          "name": "stderr",
          "output_type": "stream",
          "text": [
            "1000it [00:03, 283.02it/s]\n",
            "1000it [00:03, 294.92it/s]\n",
            "1000it [00:03, 290.97it/s]\n",
            "1000it [00:03, 293.20it/s]\n",
            "1000it [00:03, 287.81it/s]\n",
            "1000it [00:03, 287.02it/s]\n",
            "1000it [00:03, 284.38it/s]\n",
            "1000it [00:03, 282.31it/s]\n",
            "1000it [00:03, 288.32it/s]\n",
            "837it [00:02, 287.43it/s]\n"
          ]
        },
        {
          "name": "stdout",
          "output_type": "stream",
          "text": [
            "Finish process : 役不足 / 9837\n",
            "Start process : compare_sentences\n",
            "Finish process : 99.96% / 0.04%\n",
            "------------------------\n",
            "Start process : get_vectors\n"
          ]
        },
        {
          "name": "stderr",
          "output_type": "stream",
          "text": [
            "1000it [00:03, 280.13it/s]\n",
            "1000it [00:03, 287.80it/s]\n",
            "1000it [00:04, 200.97it/s]\n",
            "1000it [00:03, 263.09it/s]\n",
            "1000it [00:04, 238.68it/s]\n",
            "1000it [00:03, 283.59it/s]\n",
            "1000it [00:03, 290.95it/s]\n",
            "1000it [00:03, 283.70it/s]\n",
            "1000it [00:03, 287.79it/s]\n",
            "922it [00:03, 289.53it/s]\n"
          ]
        },
        {
          "name": "stdout",
          "output_type": "stream",
          "text": [
            "Finish process : 役不足 / 9922\n",
            "Start process : compare_sentences\n",
            "Finish process : 99.99% / 0.01%\n",
            "------------------------\n",
            "Start process : get_vectors\n"
          ]
        },
        {
          "name": "stderr",
          "output_type": "stream",
          "text": [
            "1000it [00:03, 282.00it/s]\n",
            "1000it [00:03, 286.10it/s]\n",
            "1000it [00:03, 284.83it/s]\n",
            "1000it [00:03, 286.96it/s]\n",
            "1000it [00:03, 277.74it/s]\n",
            "1000it [00:03, 277.31it/s]\n",
            "1000it [00:03, 279.78it/s]\n",
            "1000it [00:03, 281.93it/s]\n",
            "1000it [00:03, 287.55it/s]\n",
            "830it [00:02, 289.69it/s]\n"
          ]
        },
        {
          "name": "stdout",
          "output_type": "stream",
          "text": [
            "Finish process : 役不足 / 9830\n",
            "Start process : compare_sentences\n",
            "Finish process : 99.99% / 0.01%\n",
            "------------------------\n",
            "Start process : get_vectors\n"
          ]
        },
        {
          "name": "stderr",
          "output_type": "stream",
          "text": [
            "1000it [00:03, 277.41it/s]\n",
            "1000it [00:03, 256.77it/s]\n",
            "1000it [00:03, 277.89it/s]\n",
            "1000it [00:03, 271.83it/s]\n",
            "1000it [00:04, 249.00it/s]\n",
            "1000it [00:03, 273.07it/s]\n",
            "1000it [00:03, 276.56it/s]\n",
            "1000it [00:03, 274.05it/s]\n",
            "1000it [00:03, 285.94it/s]\n",
            "742it [00:02, 273.19it/s]\n"
          ]
        },
        {
          "name": "stdout",
          "output_type": "stream",
          "text": [
            "Finish process : 役不足 / 9741\n",
            "Start process : compare_sentences\n",
            "Finish process : 99.94% / 0.06%\n",
            "------------------------\n",
            "Start process : get_vectors\n"
          ]
        },
        {
          "name": "stderr",
          "output_type": "stream",
          "text": [
            "1000it [00:04, 249.47it/s]\n",
            "1000it [00:03, 264.39it/s]\n",
            "1000it [00:03, 269.63it/s]\n",
            "1000it [00:03, 267.72it/s]\n",
            "1000it [00:03, 273.68it/s]\n",
            "1000it [00:03, 271.36it/s]\n",
            "1000it [00:03, 272.60it/s]\n",
            "1000it [00:03, 276.59it/s]\n",
            "1000it [00:03, 278.82it/s]\n",
            "481it [00:01, 280.69it/s]\n"
          ]
        },
        {
          "name": "stdout",
          "output_type": "stream",
          "text": [
            "Finish process : 役不足 / 9481\n",
            "Start process : compare_sentences\n",
            "Finish process : 99.95% / 0.05%\n",
            "------------------------\n",
            "Start process : get_vectors\n"
          ]
        },
        {
          "name": "stderr",
          "output_type": "stream",
          "text": [
            "1000it [00:03, 273.50it/s]\n",
            "1000it [00:03, 275.77it/s]\n",
            "1000it [00:03, 262.18it/s]\n",
            "1000it [00:03, 273.63it/s]\n",
            "1000it [00:03, 276.49it/s]\n",
            "1000it [00:03, 275.78it/s]\n",
            "1000it [00:03, 271.78it/s]\n",
            "1000it [00:03, 273.24it/s]\n",
            "1000it [00:03, 278.78it/s]\n",
            "68it [00:00, 317.97it/s]\n"
          ]
        },
        {
          "name": "stdout",
          "output_type": "stream",
          "text": [
            "Finish process : 役不足 / 9067\n",
            "Start process : compare_sentences\n",
            "Finish process : 99.97% / 0.03%\n",
            "------------------------\n",
            "Start process : get_vectors\n"
          ]
        },
        {
          "name": "stderr",
          "output_type": "stream",
          "text": [
            "1000it [00:03, 306.46it/s]\n",
            "1000it [00:03, 312.82it/s]\n",
            "1000it [00:03, 314.57it/s]\n",
            "40it [00:00, 338.42it/s]\n"
          ]
        },
        {
          "name": "stdout",
          "output_type": "stream",
          "text": [
            "Finish process : 確信犯 / 3040\n",
            "Start process : compare_sentences\n",
            "Finish process : 29.61% / 70.39%\n",
            "------------------------\n",
            "Start process : get_vectors\n"
          ]
        },
        {
          "name": "stderr",
          "output_type": "stream",
          "text": [
            "1000it [00:03, 299.53it/s]\n",
            "1000it [00:03, 301.39it/s]\n",
            "1000it [00:03, 296.84it/s]\n",
            "859it [00:02, 299.24it/s]\n"
          ]
        },
        {
          "name": "stdout",
          "output_type": "stream",
          "text": [
            "Finish process : 確信犯 / 3859\n",
            "Start process : compare_sentences\n",
            "Finish process : 39.31% / 60.69%\n",
            "------------------------\n",
            "Start process : get_vectors\n"
          ]
        },
        {
          "name": "stderr",
          "output_type": "stream",
          "text": [
            "1000it [00:03, 278.82it/s]\n",
            "1000it [00:03, 287.30it/s]\n",
            "1000it [00:03, 291.62it/s]\n",
            "1000it [00:03, 287.98it/s]\n",
            "1000it [00:03, 292.19it/s]\n",
            "1000it [00:03, 297.79it/s]\n",
            "1000it [00:03, 295.36it/s]\n",
            "207it [00:00, 298.50it/s]\n"
          ]
        },
        {
          "name": "stdout",
          "output_type": "stream",
          "text": [
            "Finish process : 確信犯 / 7207\n",
            "Start process : compare_sentences\n",
            "Finish process : 33.09% / 66.91%\n",
            "------------------------\n",
            "Start process : get_vectors\n"
          ]
        },
        {
          "name": "stderr",
          "output_type": "stream",
          "text": [
            "1000it [00:03, 284.63it/s]\n",
            "1000it [00:03, 291.00it/s]\n",
            "1000it [00:03, 288.78it/s]\n",
            "1000it [00:03, 293.25it/s]\n",
            "1000it [00:03, 290.13it/s]\n",
            "1000it [00:03, 283.38it/s]\n",
            "1000it [00:03, 288.10it/s]\n",
            "1000it [00:03, 281.35it/s]\n",
            "1000it [00:03, 279.07it/s]\n",
            "901it [00:03, 276.33it/s]\n"
          ]
        },
        {
          "name": "stdout",
          "output_type": "stream",
          "text": [
            "Finish process : 確信犯 / 9901\n",
            "Start process : compare_sentences\n",
            "Finish process : 28.94% / 71.06%\n",
            "------------------------\n",
            "Start process : get_vectors\n"
          ]
        },
        {
          "name": "stderr",
          "output_type": "stream",
          "text": [
            "1000it [00:03, 280.02it/s]\n",
            "1000it [00:03, 289.28it/s]\n",
            "1000it [00:03, 284.17it/s]\n",
            "1000it [00:03, 294.25it/s]\n",
            "1000it [00:03, 291.77it/s]\n",
            "1000it [00:03, 285.85it/s]\n",
            "1000it [00:03, 264.16it/s]\n",
            "1000it [00:03, 274.82it/s]\n",
            "1000it [00:03, 287.20it/s]\n",
            "725it [00:02, 286.38it/s]\n"
          ]
        },
        {
          "name": "stdout",
          "output_type": "stream",
          "text": [
            "Finish process : 確信犯 / 9725\n",
            "Start process : compare_sentences\n",
            "Finish process : 32.65% / 67.35%\n",
            "------------------------\n",
            "Start process : get_vectors\n"
          ]
        },
        {
          "name": "stderr",
          "output_type": "stream",
          "text": [
            "1000it [00:03, 289.00it/s]\n",
            "1000it [00:03, 273.96it/s]\n",
            "1000it [00:03, 289.53it/s]\n",
            "1000it [00:03, 282.78it/s]\n",
            "1000it [00:03, 289.61it/s]\n",
            "1000it [00:03, 284.88it/s]\n",
            "1000it [00:03, 284.83it/s]\n",
            "1000it [00:03, 286.53it/s]\n",
            "1000it [00:03, 282.00it/s]\n",
            "363it [00:01, 289.28it/s]\n"
          ]
        },
        {
          "name": "stdout",
          "output_type": "stream",
          "text": [
            "Finish process : 確信犯 / 9363\n",
            "Start process : compare_sentences\n",
            "Finish process : 35.00% / 65.00%\n",
            "------------------------\n",
            "Start process : get_vectors\n"
          ]
        },
        {
          "name": "stderr",
          "output_type": "stream",
          "text": [
            "1000it [00:03, 294.13it/s]\n",
            "1000it [00:03, 297.24it/s]\n",
            "1000it [00:03, 293.45it/s]\n",
            "1000it [00:03, 289.72it/s]\n",
            "1000it [00:03, 278.26it/s]\n",
            "1000it [00:03, 291.31it/s]\n",
            "1000it [00:03, 289.70it/s]\n",
            "1000it [00:03, 292.44it/s]\n",
            "1000it [00:03, 283.42it/s]\n",
            "488it [00:01, 289.92it/s]\n"
          ]
        },
        {
          "name": "stdout",
          "output_type": "stream",
          "text": [
            "Finish process : 確信犯 / 9488\n",
            "Start process : compare_sentences\n",
            "Finish process : 39.63% / 60.37%\n",
            "------------------------\n",
            "Start process : get_vectors\n"
          ]
        },
        {
          "name": "stderr",
          "output_type": "stream",
          "text": [
            "1000it [00:03, 294.38it/s]\n",
            "1000it [00:03, 284.33it/s]\n",
            "1000it [00:03, 294.09it/s]\n",
            "1000it [00:03, 291.99it/s]\n",
            "1000it [00:03, 283.68it/s]\n",
            "1000it [00:03, 281.59it/s]\n",
            "1000it [00:03, 286.93it/s]\n",
            "1000it [00:03, 273.45it/s]\n",
            "1000it [00:03, 285.97it/s]\n",
            "405it [00:01, 297.24it/s]\n"
          ]
        },
        {
          "name": "stdout",
          "output_type": "stream",
          "text": [
            "Finish process : 確信犯 / 9405\n",
            "Start process : compare_sentences\n",
            "Finish process : 39.36% / 60.64%\n",
            "------------------------\n",
            "Start process : get_vectors\n"
          ]
        },
        {
          "name": "stderr",
          "output_type": "stream",
          "text": [
            "1000it [00:03, 281.60it/s]\n",
            "1000it [00:03, 283.45it/s]\n",
            "1000it [00:03, 284.80it/s]\n",
            "1000it [00:03, 268.17it/s]\n",
            "1000it [00:03, 282.91it/s]\n",
            "1000it [00:03, 299.90it/s]\n",
            "1000it [00:03, 283.45it/s]\n",
            "1000it [00:03, 281.80it/s]\n",
            "1000it [00:03, 290.99it/s]\n",
            "399it [00:01, 269.72it/s]\n"
          ]
        },
        {
          "name": "stdout",
          "output_type": "stream",
          "text": [
            "Finish process : 確信犯 / 9399\n",
            "Start process : compare_sentences\n",
            "Finish process : 33.89% / 66.11%\n",
            "------------------------\n",
            "Start process : get_vectors\n"
          ]
        },
        {
          "name": "stderr",
          "output_type": "stream",
          "text": [
            "1000it [00:03, 276.17it/s]\n",
            "1000it [00:03, 283.49it/s]\n",
            "1000it [00:03, 267.38it/s]\n",
            "1000it [00:03, 287.82it/s]\n",
            "1000it [00:03, 284.77it/s]\n",
            "1000it [00:03, 297.54it/s]\n",
            "1000it [00:03, 289.96it/s]\n",
            "1000it [00:03, 271.39it/s]\n",
            "1000it [00:03, 280.84it/s]\n",
            "600it [00:02, 289.84it/s]\n"
          ]
        },
        {
          "name": "stdout",
          "output_type": "stream",
          "text": [
            "Finish process : 確信犯 / 9600\n",
            "Start process : compare_sentences\n",
            "Finish process : 42.55% / 57.45%\n",
            "------------------------\n",
            "Start process : get_vectors\n"
          ]
        },
        {
          "name": "stderr",
          "output_type": "stream",
          "text": [
            "1000it [00:03, 271.77it/s]\n",
            "1000it [00:03, 270.73it/s]\n",
            "1000it [00:03, 250.32it/s]\n",
            "1000it [00:03, 255.47it/s]\n",
            "1000it [00:04, 247.67it/s]\n",
            "1000it [00:04, 241.35it/s]\n",
            "1000it [00:04, 239.36it/s]\n",
            "1000it [00:04, 233.35it/s]\n",
            "1000it [00:04, 245.37it/s]\n",
            "835it [00:03, 273.37it/s]\n"
          ]
        },
        {
          "name": "stdout",
          "output_type": "stream",
          "text": [
            "Finish process : 確信犯 / 9835\n",
            "Start process : compare_sentences\n",
            "Finish process : 65.56% / 34.44%\n",
            "------------------------\n",
            "Start process : get_vectors\n"
          ]
        },
        {
          "name": "stderr",
          "output_type": "stream",
          "text": [
            "1000it [00:03, 272.31it/s]\n",
            "1000it [00:03, 274.14it/s]\n",
            "1000it [00:03, 279.85it/s]\n",
            "1000it [00:03, 280.89it/s]\n",
            "1000it [00:03, 282.85it/s]\n",
            "1000it [00:03, 271.26it/s]\n",
            "1000it [00:03, 253.79it/s]\n",
            "1000it [00:04, 244.84it/s]\n",
            "1000it [00:04, 239.14it/s]\n",
            "657it [00:02, 233.77it/s]\n"
          ]
        },
        {
          "name": "stdout",
          "output_type": "stream",
          "text": [
            "Finish process : 確信犯 / 9657\n",
            "Start process : compare_sentences\n",
            "Finish process : 13.84% / 86.16%\n",
            "------------------------\n",
            "Start process : get_vectors\n"
          ]
        },
        {
          "name": "stderr",
          "output_type": "stream",
          "text": [
            "1000it [00:03, 267.02it/s]\n",
            "1000it [00:03, 266.65it/s]\n",
            "1000it [00:03, 263.09it/s]\n",
            "1000it [00:03, 271.07it/s]\n",
            "1000it [00:03, 269.42it/s]\n",
            "1000it [00:03, 281.71it/s]\n",
            "1000it [00:03, 260.82it/s]\n",
            "1000it [00:03, 263.29it/s]\n",
            "1000it [00:03, 270.39it/s]\n",
            "97it [00:00, 286.79it/s]\n"
          ]
        },
        {
          "name": "stdout",
          "output_type": "stream",
          "text": [
            "Finish process : 確信犯 / 9097\n",
            "Start process : compare_sentences\n",
            "Finish process : 44.87% / 55.13%\n",
            "------------------------\n",
            "Start process : get_vectors\n"
          ]
        },
        {
          "name": "stderr",
          "output_type": "stream",
          "text": [
            "1000it [00:03, 260.02it/s]\n",
            "1000it [00:03, 261.66it/s]\n",
            "1000it [00:03, 275.99it/s]\n",
            "1000it [00:03, 285.87it/s]\n",
            "1000it [00:03, 281.89it/s]\n",
            "1000it [00:03, 289.76it/s]\n",
            "1000it [00:03, 276.35it/s]\n",
            "1000it [00:03, 259.04it/s]\n",
            "631it [00:02, 228.06it/s]\n"
          ]
        },
        {
          "name": "stdout",
          "output_type": "stream",
          "text": [
            "Finish process : 確信犯 / 8631\n",
            "Start process : compare_sentences\n",
            "Finish process : 43.23% / 56.77%\n",
            "------------------------\n",
            "Start process : get_vectors\n"
          ]
        },
        {
          "name": "stderr",
          "output_type": "stream",
          "text": [
            "1000it [00:03, 303.38it/s]\n",
            "1000it [00:03, 309.69it/s]\n",
            "1000it [00:03, 309.29it/s]\n",
            "1000it [00:03, 309.92it/s]\n",
            "1000it [00:03, 309.55it/s]\n",
            "1000it [00:03, 309.54it/s]\n",
            "1000it [00:03, 308.09it/s]\n",
            "138it [00:00, 312.50it/s]\n"
          ]
        },
        {
          "name": "stdout",
          "output_type": "stream",
          "text": [
            "Finish process : 炎上 / 6996\n",
            "Start process : compare_sentences\n",
            "Finish process : 4.12% / 95.88%\n",
            "------------------------\n",
            "Start process : get_vectors\n"
          ]
        },
        {
          "name": "stderr",
          "output_type": "stream",
          "text": [
            "1000it [00:03, 297.41it/s]\n",
            "1000it [00:03, 303.52it/s]\n",
            "1000it [00:03, 304.25it/s]\n",
            "1000it [00:03, 306.07it/s]\n",
            "1000it [00:04, 215.06it/s]\n",
            "1000it [00:04, 210.83it/s]\n",
            "1000it [00:04, 223.34it/s]\n",
            "1000it [00:04, 201.96it/s]\n",
            "1000it [00:04, 220.57it/s]\n",
            "29it [00:00, 255.92it/s]\n"
          ]
        },
        {
          "name": "stdout",
          "output_type": "stream",
          "text": [
            "Finish process : 炎上 / 7360\n",
            "Start process : compare_sentences\n",
            "Finish process : 4.02% / 95.98%\n",
            "------------------------\n",
            "Start process : get_vectors\n"
          ]
        },
        {
          "name": "stderr",
          "output_type": "stream",
          "text": [
            "1000it [00:03, 287.84it/s]\n",
            "1000it [00:03, 284.13it/s]\n",
            "1000it [00:03, 287.99it/s]\n",
            "1000it [00:03, 290.35it/s]\n",
            "1000it [00:03, 295.19it/s]\n",
            "1000it [00:03, 293.54it/s]\n",
            "1000it [00:03, 289.34it/s]\n",
            "1000it [00:03, 295.27it/s]\n",
            "1000it [00:03, 293.69it/s]\n",
            "936it [00:03, 297.03it/s]\n"
          ]
        },
        {
          "name": "stdout",
          "output_type": "stream",
          "text": [
            "Finish process : 炎上 / 9814\n",
            "Start process : compare_sentences\n",
            "Finish process : 7.52% / 92.48%\n",
            "------------------------\n",
            "Start process : get_vectors\n"
          ]
        },
        {
          "name": "stderr",
          "output_type": "stream",
          "text": [
            "1000it [00:03, 284.46it/s]\n",
            "1000it [00:03, 286.92it/s]\n",
            "1000it [00:03, 289.90it/s]\n",
            "1000it [00:03, 293.63it/s]\n",
            "1000it [00:03, 272.49it/s]\n",
            "1000it [00:03, 261.61it/s]\n",
            "1000it [00:03, 281.53it/s]\n",
            "1000it [00:03, 289.96it/s]\n",
            "1000it [00:03, 285.83it/s]\n",
            "856it [00:02, 288.55it/s]\n"
          ]
        },
        {
          "name": "stdout",
          "output_type": "stream",
          "text": [
            "Finish process : 炎上 / 9746\n",
            "Start process : compare_sentences\n",
            "Finish process : 3.81% / 96.19%\n",
            "------------------------\n",
            "Start process : get_vectors\n"
          ]
        },
        {
          "name": "stderr",
          "output_type": "stream",
          "text": [
            "1000it [00:03, 287.68it/s]\n",
            "1000it [00:03, 300.18it/s]\n",
            "1000it [00:03, 297.57it/s]\n",
            "1000it [00:03, 294.71it/s]\n",
            "1000it [00:03, 302.40it/s]\n",
            "1000it [00:03, 284.98it/s]\n",
            "1000it [00:03, 269.92it/s]\n",
            "1000it [00:03, 292.37it/s]\n",
            "1000it [00:03, 301.51it/s]\n",
            "651it [00:02, 296.49it/s]\n"
          ]
        },
        {
          "name": "stdout",
          "output_type": "stream",
          "text": [
            "Finish process : 炎上 / 9440\n",
            "Start process : compare_sentences\n",
            "Finish process : 3.21% / 96.79%\n",
            "------------------------\n",
            "Start process : get_vectors\n"
          ]
        },
        {
          "name": "stderr",
          "output_type": "stream",
          "text": [
            "1000it [00:03, 277.36it/s]\n",
            "1000it [00:03, 291.87it/s]\n",
            "1000it [00:03, 286.09it/s]\n",
            "1000it [00:03, 284.85it/s]\n",
            "1000it [00:03, 275.44it/s]\n",
            "1000it [00:03, 290.69it/s]\n",
            "1000it [00:03, 283.62it/s]\n",
            "1000it [00:03, 280.73it/s]\n",
            "1000it [00:03, 272.06it/s]\n",
            "609it [00:02, 271.91it/s]\n"
          ]
        },
        {
          "name": "stdout",
          "output_type": "stream",
          "text": [
            "Finish process : 炎上 / 9405\n",
            "Start process : compare_sentences\n",
            "Finish process : 2.93% / 97.07%\n",
            "------------------------\n",
            "Start process : get_vectors\n"
          ]
        },
        {
          "name": "stderr",
          "output_type": "stream",
          "text": [
            "1000it [00:03, 279.81it/s]\n",
            "1000it [00:03, 287.45it/s]\n",
            "1000it [00:03, 279.06it/s]\n",
            "1000it [00:03, 275.20it/s]\n",
            "1000it [00:03, 268.52it/s]\n",
            "1000it [00:03, 280.03it/s]\n",
            "1000it [00:03, 292.97it/s]\n",
            "1000it [00:03, 294.73it/s]\n",
            "1000it [00:03, 272.38it/s]\n",
            "470it [00:01, 280.08it/s]\n"
          ]
        },
        {
          "name": "stdout",
          "output_type": "stream",
          "text": [
            "Finish process : 炎上 / 9234\n",
            "Start process : compare_sentences\n",
            "Finish process : 10.29% / 89.71%\n",
            "------------------------\n",
            "Start process : get_vectors\n"
          ]
        },
        {
          "name": "stderr",
          "output_type": "stream",
          "text": [
            "1000it [00:03, 272.15it/s]\n",
            "1000it [00:03, 292.55it/s]\n",
            "1000it [00:03, 301.71it/s]\n",
            "1000it [00:03, 292.38it/s]\n",
            "1000it [00:03, 294.28it/s]\n",
            "1000it [00:03, 287.37it/s]\n",
            "1000it [00:03, 284.24it/s]\n",
            "1000it [00:03, 301.44it/s]\n",
            "1000it [00:03, 286.98it/s]\n",
            "732it [00:02, 291.97it/s]\n"
          ]
        },
        {
          "name": "stdout",
          "output_type": "stream",
          "text": [
            "Finish process : 炎上 / 9655\n",
            "Start process : compare_sentences\n",
            "Finish process : 6.30% / 93.70%\n",
            "------------------------\n",
            "Start process : get_vectors\n"
          ]
        },
        {
          "name": "stderr",
          "output_type": "stream",
          "text": [
            "1000it [00:03, 270.82it/s]\n",
            "1000it [00:03, 267.10it/s]\n",
            "1000it [00:03, 266.32it/s]\n",
            "1000it [00:03, 261.40it/s]\n",
            "1000it [00:04, 241.79it/s]\n",
            "1000it [00:04, 234.93it/s]\n",
            "1000it [00:04, 241.18it/s]\n",
            "1000it [00:03, 256.41it/s]\n",
            "1000it [00:03, 271.77it/s]\n",
            "605it [00:02, 287.01it/s]\n"
          ]
        },
        {
          "name": "stdout",
          "output_type": "stream",
          "text": [
            "Finish process : 炎上 / 9453\n",
            "Start process : compare_sentences\n",
            "Finish process : 4.49% / 95.51%\n",
            "------------------------\n",
            "Start process : get_vectors\n"
          ]
        },
        {
          "name": "stderr",
          "output_type": "stream",
          "text": [
            "1000it [00:03, 284.59it/s]\n",
            "1000it [00:03, 294.35it/s]\n",
            "1000it [00:03, 296.10it/s]\n",
            "1000it [00:03, 290.32it/s]\n",
            "1000it [00:03, 276.96it/s]\n",
            "1000it [00:03, 265.24it/s]\n",
            "1000it [00:04, 221.62it/s]\n",
            "1000it [00:04, 244.55it/s]\n",
            "1000it [00:03, 267.62it/s]\n",
            "617it [00:02, 298.59it/s]\n"
          ]
        },
        {
          "name": "stdout",
          "output_type": "stream",
          "text": [
            "Finish process : 炎上 / 9571\n",
            "Start process : compare_sentences\n",
            "Finish process : 1.42% / 98.58%\n",
            "------------------------\n",
            "Start process : get_vectors\n"
          ]
        },
        {
          "name": "stderr",
          "output_type": "stream",
          "text": [
            "1000it [00:03, 272.47it/s]\n",
            "1000it [00:03, 295.45it/s]\n",
            "1000it [00:03, 282.14it/s]\n",
            "1000it [00:03, 280.51it/s]\n",
            "1000it [00:03, 282.70it/s]\n",
            "1000it [00:03, 275.47it/s]\n",
            "1000it [00:03, 278.28it/s]\n",
            "1000it [00:03, 267.48it/s]\n",
            "1000it [00:03, 272.32it/s]\n",
            "572it [00:02, 274.22it/s]\n"
          ]
        },
        {
          "name": "stdout",
          "output_type": "stream",
          "text": [
            "Finish process : 炎上 / 9545\n",
            "Start process : compare_sentences\n",
            "Finish process : 2.28% / 97.72%\n",
            "------------------------\n",
            "Start process : get_vectors\n"
          ]
        },
        {
          "name": "stderr",
          "output_type": "stream",
          "text": [
            "1000it [00:03, 292.38it/s]\n",
            "1000it [00:03, 290.15it/s]\n",
            "1000it [00:03, 303.38it/s]\n",
            "1000it [00:03, 292.20it/s]\n",
            "1000it [00:03, 289.05it/s]\n",
            "1000it [00:03, 279.60it/s]\n",
            "1000it [00:03, 262.80it/s]\n",
            "1000it [00:03, 281.57it/s]\n",
            "1000it [00:03, 275.64it/s]\n",
            "528it [00:02, 253.84it/s]\n"
          ]
        },
        {
          "name": "stdout",
          "output_type": "stream",
          "text": [
            "Finish process : 炎上 / 9482\n",
            "Start process : compare_sentences\n",
            "Finish process : 1.65% / 98.35%\n",
            "------------------------\n",
            "Start process : get_vectors\n"
          ]
        },
        {
          "name": "stderr",
          "output_type": "stream",
          "text": [
            "1000it [00:03, 285.77it/s]\n",
            "1000it [00:03, 287.30it/s]\n",
            "1000it [00:03, 295.36it/s]\n",
            "1000it [00:03, 297.50it/s]\n",
            "1000it [00:03, 291.16it/s]\n",
            "1000it [00:03, 300.22it/s]\n",
            "1000it [00:03, 301.48it/s]\n",
            "1000it [00:03, 303.92it/s]\n",
            "1000it [00:03, 303.76it/s]\n",
            "514it [00:01, 297.39it/s]\n"
          ]
        },
        {
          "name": "stdout",
          "output_type": "stream",
          "text": [
            "Finish process : 炎上 / 9454\n",
            "Start process : compare_sentences\n",
            "Finish process : 1.46% / 98.54%\n",
            "------------------------\n",
            "Start process : get_vectors\n"
          ]
        },
        {
          "name": "stderr",
          "output_type": "stream",
          "text": [
            "1000it [00:03, 273.30it/s]\n",
            "1000it [00:03, 289.52it/s]\n",
            "1000it [00:03, 291.59it/s]\n",
            "1000it [00:03, 288.96it/s]\n",
            "1000it [00:03, 291.91it/s]\n",
            "1000it [00:03, 291.06it/s]\n",
            "1000it [00:03, 290.74it/s]\n",
            "1000it [00:03, 284.74it/s]\n",
            "1000it [00:03, 287.14it/s]\n",
            "105it [00:00, 283.83it/s]\n"
          ]
        },
        {
          "name": "stdout",
          "output_type": "stream",
          "text": [
            "Finish process : 炎上 / 9023\n",
            "Start process : compare_sentences\n",
            "Finish process : 1.12% / 98.88%\n",
            "------------------------\n",
            "Start process : get_vectors\n"
          ]
        },
        {
          "name": "stderr",
          "output_type": "stream",
          "text": [
            "1000it [00:03, 304.33it/s]\n",
            "1000it [00:03, 316.70it/s]\n",
            "1000it [00:03, 318.90it/s]\n",
            "1000it [00:03, 316.45it/s]\n",
            "968it [00:03, 318.49it/s]\n"
          ]
        },
        {
          "name": "stdout",
          "output_type": "stream",
          "text": [
            "Finish process : 草 / 4947\n",
            "Start process : compare_sentences\n",
            "Finish process : 15.22% / 84.78%\n",
            "------------------------\n",
            "Start process : get_vectors\n"
          ]
        },
        {
          "name": "stderr",
          "output_type": "stream",
          "text": [
            "1000it [00:03, 314.69it/s]\n",
            "1000it [00:03, 312.86it/s]\n",
            "1000it [00:03, 317.24it/s]\n",
            "1000it [00:03, 313.44it/s]\n",
            "1000it [00:03, 310.41it/s]\n",
            "1000it [00:03, 329.11it/s]\n",
            "1000it [00:03, 323.15it/s]\n",
            "1000it [00:03, 329.65it/s]\n",
            "815it [00:02, 325.94it/s]\n"
          ]
        },
        {
          "name": "stdout",
          "output_type": "stream",
          "text": [
            "Finish process : 草 / 8794\n",
            "Start process : compare_sentences\n",
            "Finish process : 15.07% / 84.93%\n",
            "------------------------\n",
            "Start process : get_vectors\n"
          ]
        },
        {
          "name": "stderr",
          "output_type": "stream",
          "text": [
            "1000it [00:03, 301.44it/s]\n",
            "1000it [00:03, 308.26it/s]\n",
            "1000it [00:03, 309.60it/s]\n",
            "1000it [00:03, 308.28it/s]\n",
            "1000it [00:03, 327.86it/s]\n",
            "1000it [00:03, 307.25it/s]\n",
            "1000it [00:03, 307.56it/s]\n",
            "1000it [00:03, 305.70it/s]\n",
            "1000it [00:03, 305.48it/s]\n",
            "935it [00:03, 307.48it/s]\n"
          ]
        },
        {
          "name": "stdout",
          "output_type": "stream",
          "text": [
            "Finish process : 草 / 9884\n",
            "Start process : compare_sentences\n",
            "Finish process : 13.70% / 86.30%\n",
            "------------------------\n",
            "Start process : get_vectors\n"
          ]
        },
        {
          "name": "stderr",
          "output_type": "stream",
          "text": [
            "1000it [00:03, 300.99it/s]\n",
            "1000it [00:03, 301.23it/s]\n",
            "1000it [00:03, 309.91it/s]\n",
            "1000it [00:03, 299.57it/s]\n",
            "1000it [00:03, 310.03it/s]\n",
            "1000it [00:03, 299.73it/s]\n",
            "1000it [00:03, 295.03it/s]\n",
            "1000it [00:03, 302.78it/s]\n",
            "1000it [00:03, 317.54it/s]\n",
            "876it [00:02, 311.73it/s]\n"
          ]
        },
        {
          "name": "stdout",
          "output_type": "stream",
          "text": [
            "Finish process : 草 / 9835\n",
            "Start process : compare_sentences\n",
            "Finish process : 12.02% / 87.98%\n",
            "------------------------\n",
            "Start process : get_vectors\n"
          ]
        },
        {
          "name": "stderr",
          "output_type": "stream",
          "text": [
            "1000it [00:03, 309.02it/s]\n",
            "1000it [00:03, 309.29it/s]\n",
            "1000it [00:03, 303.67it/s]\n",
            "1000it [00:03, 307.07it/s]\n",
            "1000it [00:03, 314.09it/s]\n",
            "1000it [00:03, 307.80it/s]\n",
            "1000it [00:03, 308.42it/s]\n",
            "1000it [00:03, 312.64it/s]\n",
            "1000it [00:03, 311.80it/s]\n",
            "918it [00:02, 307.48it/s]\n"
          ]
        },
        {
          "name": "stdout",
          "output_type": "stream",
          "text": [
            "Finish process : 草 / 9895\n",
            "Start process : compare_sentences\n",
            "Finish process : 14.16% / 85.84%\n",
            "------------------------\n",
            "Start process : get_vectors\n"
          ]
        },
        {
          "name": "stderr",
          "output_type": "stream",
          "text": [
            "1000it [00:03, 300.79it/s]\n",
            "1000it [00:03, 307.87it/s]\n",
            "1000it [00:03, 307.31it/s]\n",
            "1000it [00:03, 305.45it/s]\n",
            "1000it [00:03, 308.45it/s]\n",
            "1000it [00:03, 308.85it/s]\n",
            "1000it [00:03, 302.84it/s]\n",
            "1000it [00:03, 306.23it/s]\n",
            "1000it [00:03, 306.62it/s]\n",
            "819it [00:02, 301.64it/s]\n"
          ]
        },
        {
          "name": "stdout",
          "output_type": "stream",
          "text": [
            "Finish process : 草 / 9798\n",
            "Start process : compare_sentences\n",
            "Finish process : 13.09% / 86.91%\n",
            "------------------------\n",
            "Start process : get_vectors\n"
          ]
        },
        {
          "name": "stderr",
          "output_type": "stream",
          "text": [
            "1000it [00:03, 297.05it/s]\n",
            "1000it [00:03, 304.86it/s]\n",
            "1000it [00:03, 309.28it/s]\n",
            "1000it [00:03, 304.45it/s]\n",
            "1000it [00:03, 303.70it/s]\n",
            "1000it [00:03, 303.57it/s]\n",
            "1000it [00:03, 299.96it/s]\n",
            "1000it [00:03, 318.69it/s]\n",
            "1000it [00:03, 308.09it/s]\n",
            "801it [00:02, 304.87it/s]\n"
          ]
        },
        {
          "name": "stdout",
          "output_type": "stream",
          "text": [
            "Finish process : 草 / 9789\n",
            "Start process : compare_sentences\n",
            "Finish process : 9.42% / 90.58%\n",
            "------------------------\n",
            "Start process : get_vectors\n"
          ]
        },
        {
          "name": "stderr",
          "output_type": "stream",
          "text": [
            "1000it [00:03, 298.61it/s]\n",
            "1000it [00:03, 305.08it/s]\n",
            "1000it [00:03, 307.41it/s]\n",
            "1000it [00:03, 307.42it/s]\n",
            "1000it [00:03, 305.16it/s]\n",
            "1000it [00:03, 303.56it/s]\n",
            "1000it [00:03, 305.46it/s]\n",
            "1000it [00:03, 302.56it/s]\n",
            "1000it [00:03, 294.77it/s]\n",
            "803it [00:02, 304.72it/s]\n"
          ]
        },
        {
          "name": "stdout",
          "output_type": "stream",
          "text": [
            "Finish process : 草 / 9795\n",
            "Start process : compare_sentences\n",
            "Finish process : 10.20% / 89.80%\n",
            "------------------------\n",
            "Start process : get_vectors\n"
          ]
        },
        {
          "name": "stderr",
          "output_type": "stream",
          "text": [
            "1000it [00:03, 297.52it/s]\n",
            "1000it [00:03, 301.67it/s]\n",
            "1000it [00:03, 304.39it/s]\n",
            "1000it [00:03, 311.79it/s]\n",
            "1000it [00:03, 312.70it/s]\n",
            "1000it [00:03, 313.80it/s]\n",
            "1000it [00:03, 314.69it/s]\n",
            "1000it [00:03, 312.38it/s]\n",
            "1000it [00:03, 316.36it/s]\n",
            "823it [00:02, 311.52it/s]\n"
          ]
        },
        {
          "name": "stdout",
          "output_type": "stream",
          "text": [
            "Finish process : 草 / 9812\n",
            "Start process : compare_sentences\n",
            "Finish process : 13.57% / 86.43%\n",
            "------------------------\n",
            "Start process : get_vectors\n"
          ]
        },
        {
          "name": "stderr",
          "output_type": "stream",
          "text": [
            "1000it [00:03, 284.26it/s]\n",
            "1000it [00:03, 300.73it/s]\n",
            "1000it [00:03, 305.47it/s]\n",
            "1000it [00:03, 309.47it/s]\n",
            "1000it [00:03, 312.28it/s]\n",
            "1000it [00:03, 309.87it/s]\n",
            "1000it [00:03, 302.84it/s]\n",
            "1000it [00:03, 302.64it/s]\n",
            "1000it [00:03, 307.08it/s]\n",
            "789it [00:02, 308.73it/s]\n"
          ]
        },
        {
          "name": "stdout",
          "output_type": "stream",
          "text": [
            "Finish process : 草 / 9784\n",
            "Start process : compare_sentences\n",
            "Finish process : 9.28% / 90.72%\n",
            "------------------------\n",
            "Start process : get_vectors\n"
          ]
        },
        {
          "name": "stderr",
          "output_type": "stream",
          "text": [
            "1000it [00:03, 300.81it/s]\n",
            "1000it [00:03, 299.18it/s]\n",
            "1000it [00:03, 303.86it/s]\n",
            "1000it [00:03, 302.85it/s]\n",
            "1000it [00:03, 309.36it/s]\n",
            "1000it [00:03, 309.87it/s]\n",
            "1000it [00:03, 309.05it/s]\n",
            "1000it [00:03, 307.55it/s]\n",
            "1000it [00:03, 307.41it/s]\n",
            "795it [00:02, 308.62it/s]\n"
          ]
        },
        {
          "name": "stdout",
          "output_type": "stream",
          "text": [
            "Finish process : 草 / 9792\n",
            "Start process : compare_sentences\n",
            "Finish process : 7.30% / 92.70%\n",
            "------------------------\n",
            "Start process : get_vectors\n"
          ]
        },
        {
          "name": "stderr",
          "output_type": "stream",
          "text": [
            "1000it [00:03, 287.29it/s]\n",
            "1000it [00:03, 292.55it/s]\n",
            "1000it [00:03, 291.30it/s]\n",
            "1000it [00:03, 289.29it/s]\n",
            "1000it [00:03, 291.90it/s]\n",
            "1000it [00:03, 293.31it/s]\n",
            "1000it [00:03, 291.51it/s]\n",
            "1000it [00:03, 294.51it/s]\n",
            "1000it [00:03, 291.38it/s]\n",
            "844it [00:02, 298.58it/s]\n"
          ]
        },
        {
          "name": "stdout",
          "output_type": "stream",
          "text": [
            "Finish process : 草 / 9844\n",
            "Start process : compare_sentences\n",
            "Finish process : 3.20% / 96.80%\n",
            "------------------------\n",
            "Start process : get_vectors\n"
          ]
        },
        {
          "name": "stderr",
          "output_type": "stream",
          "text": [
            "1000it [00:03, 293.87it/s]\n",
            "1000it [00:03, 296.62it/s]\n",
            "1000it [00:03, 293.41it/s]\n",
            "1000it [00:03, 295.55it/s]\n",
            "1000it [00:03, 294.23it/s]\n",
            "1000it [00:03, 300.89it/s]\n",
            "1000it [00:03, 299.01it/s]\n",
            "1000it [00:03, 294.10it/s]\n",
            "1000it [00:03, 303.54it/s]\n",
            "542it [00:01, 301.35it/s]\n"
          ]
        },
        {
          "name": "stdout",
          "output_type": "stream",
          "text": [
            "Finish process : 草 / 9540\n",
            "Start process : compare_sentences\n",
            "Finish process : 3.88% / 96.12%\n",
            "------------------------\n",
            "Start process : get_vectors\n"
          ]
        },
        {
          "name": "stderr",
          "output_type": "stream",
          "text": [
            "1000it [00:03, 301.07it/s]\n",
            "1000it [00:03, 302.01it/s]\n",
            "1000it [00:03, 303.07it/s]\n",
            "1000it [00:03, 302.72it/s]\n",
            "1000it [00:03, 300.65it/s]\n",
            "1000it [00:03, 307.27it/s]\n",
            "1000it [00:03, 305.63it/s]\n",
            "1000it [00:03, 304.49it/s]\n",
            "1000it [00:03, 304.58it/s]\n",
            "407it [00:01, 307.85it/s]\n"
          ]
        },
        {
          "name": "stdout",
          "output_type": "stream",
          "text": [
            "Finish process : 草 / 9403\n",
            "Start process : compare_sentences\n",
            "Finish process : 4.52% / 95.48%\n"
          ]
        }
      ],
      "source": [
        "# 分散表現を取得する\n",
        "for o in oparation:\n",
        "    if not len(o[\"path_list\"]):\n",
        "        print(\"Pass this loop due to empty of path_list\")\n",
        "        continue\n",
        "    sequence_length = 200\n",
        "    layer_range = (8, 12)\n",
        "    target_word = unicodedata.normalize(\"NFC\", o[\"word\"])\n",
        "    output_path = (\n",
        "        base_dir\n",
        "        + \"word-vectors/\"\n",
        "        + str(sequence_length)\n",
        "        + \"-\"\n",
        "        + str(layer_range[0])\n",
        "        + \"-\"\n",
        "        + str(layer_range[1])\n",
        "        + \"/\"\n",
        "        + str(target_word)\n",
        "        + \"-\"\n",
        "        + str(o[\"year\"])\n",
        "        + \".pickle\"\n",
        "    )\n",
        "    get_vectors(\n",
        "        text_list=prepareCorpus(o[\"path_list\"])[\"preprocessedText\"].values.tolist(),\n",
        "        target_word=target_word,\n",
        "        output_path=output_path,\n",
        "        sequence_length=sequence_length,\n",
        "        batch_size=1000,\n",
        "        layer_range=layer_range,\n",
        "    )\n",
        "    compare_sentences(\n",
        "        vectors_path=output_path,\n",
        "        target_data=target_data,\n",
        "        target_word=unicodedata.normalize(\"NFC\", o[\"word\"]),\n",
        "        result_data_path=base_dir+\"result_data.json\",\n",
        "        year=str(o[\"year\"])\n",
        "    )"
      ]
    },
    {
      "cell_type": "markdown",
      "metadata": {
        "id": "29ZZUdz2hml8"
      },
      "source": [
        "### 結果確認"
      ]
    },
    {
      "cell_type": "code",
      "execution_count": null,
      "metadata": {
        "colab": {
          "base_uri": "https://localhost:8080/",
          "height": 1000
        },
        "id": "s_HCDissuzOt",
        "outputId": "4867155a-9679-427f-9ece-56221e1f5e8a"
      },
      "outputs": [
        {
          "name": "stdout",
          "output_type": "stream",
          "text": [
            "-------------- 失笑 --------------\n",
            "2007　old: 61.97% / new: 38.03%\n",
            "2008　old: 71.98% / new: 28.02%\n",
            "2009　old: 73.48% / new: 26.52%\n",
            "2010　old: 71.94% / new: 28.06%\n",
            "2011　old: 74.21% / new: 25.79%\n",
            "2012　old: 72.73% / new: 27.27%\n",
            "2013　old: 67.64% / new: 32.36%\n",
            "2014　old: 72.11% / new: 27.89%\n",
            "2015　old: 72.04% / new: 27.96%\n",
            "2016　old: 75.08% / new: 24.92%\n",
            "2017　old: 73.75% / new: 26.25%\n",
            "2018　old: 76.89% / new: 23.11%\n",
            "2019　old: 77.88% / new: 22.12%\n",
            "2020　old: 66.92% / new: 33.08%\n",
            "-------------- なし崩し --------------\n",
            "2007　old: 64.29% / new: 35.71%\n",
            "2008　old: 62.18% / new: 37.82%\n",
            "2009　old: 62.08% / new: 37.92%\n",
            "2010　old: 69.52% / new: 30.48%\n",
            "2011　old: 71.98% / new: 28.02%\n",
            "2012　old: 70.60% / new: 29.40%\n",
            "2013　old: 88.72% / new: 11.28%\n",
            "2014　old: 76.67% / new: 23.33%\n",
            "2015　old: 71.97% / new: 28.03%\n",
            "2016　old: 66.05% / new: 33.95%\n",
            "2017　old: 79.33% / new: 20.67%\n",
            "2018　old: 79.43% / new: 20.57%\n",
            "2019　old: 90.92% / new: 9.08%\n",
            "2020　old: 63.00% / new: 37.00%\n",
            "-------------- なしくずし --------------\n",
            "2007　old: 100.00% / new: 0.00%\n",
            "2008　old: 76.74% / new: 23.26%\n",
            "2009　old: 80.45% / new: 19.55%\n",
            "2010　old: 84.55% / new: 15.45%\n",
            "2011　old: 84.29% / new: 15.71%\n",
            "2012　old: 86.74% / new: 13.26%\n",
            "2013　old: 89.45% / new: 10.55%\n",
            "2014　old: 87.34% / new: 12.66%\n",
            "2015　old: 81.60% / new: 18.40%\n",
            "2016　old: 81.94% / new: 18.06%\n",
            "2017　old: 85.26% / new: 14.74%\n",
            "2018　old: 88.62% / new: 11.38%\n",
            "2019　old: 90.01% / new: 9.99%\n",
            "2020　old: 88.47% / new: 11.53%\n",
            "-------------- 御の字 --------------\n",
            "2007　old: 83.33% / new: 16.67%\n",
            "2008　old: 81.59% / new: 18.41%\n",
            "2009　old: 80.71% / new: 19.29%\n",
            "2010　old: 79.28% / new: 20.72%\n",
            "2011　old: 80.67% / new: 19.33%\n",
            "2012　old: 78.34% / new: 21.66%\n",
            "2013　old: 80.34% / new: 19.66%\n",
            "2014　old: 80.94% / new: 19.06%\n",
            "2015　old: 81.07% / new: 18.93%\n",
            "2016　old: 81.54% / new: 18.46%\n",
            "2017　old: 79.85% / new: 20.15%\n",
            "2018　old: 79.74% / new: 20.26%\n",
            "2019　old: 79.46% / new: 20.54%\n",
            "2020　old: 78.28% / new: 21.72%\n",
            "-------------- すべからく --------------\n",
            "2007　old: 55.00% / new: 45.00%\n",
            "2008　old: 50.52% / new: 49.48%\n",
            "2009　old: 52.26% / new: 47.74%\n",
            "2010　old: 63.35% / new: 36.65%\n",
            "2011　old: 64.22% / new: 35.78%\n",
            "2012　old: 73.54% / new: 26.46%\n",
            "2013　old: 78.33% / new: 21.67%\n",
            "2014　old: 81.68% / new: 18.32%\n",
            "2015　old: 80.18% / new: 19.82%\n",
            "2016　old: 53.22% / new: 46.78%\n",
            "2017　old: 79.44% / new: 20.56%\n",
            "2018　old: 75.89% / new: 24.11%\n",
            "2019　old: 71.03% / new: 28.97%\n",
            "2020　old: 71.67% / new: 28.33%\n",
            "-------------- 割愛 --------------\n",
            "2007　old: 100.00% / new: 0.00%\n",
            "2008　old: 100.00% / new: 0.00%\n",
            "2009　old: 99.79% / new: 0.21%\n",
            "2010　old: 99.88% / new: 0.12%\n",
            "2011　old: 99.92% / new: 0.08%\n",
            "2012　old: 99.86% / new: 0.14%\n",
            "2013　old: 99.80% / new: 0.20%\n",
            "2014　old: 99.88% / new: 0.12%\n",
            "2015　old: 99.84% / new: 0.16%\n",
            "2016　old: 99.93% / new: 0.07%\n",
            "2017　old: 99.79% / new: 0.21%\n",
            "2018　old: 99.71% / new: 0.29%\n",
            "2019　old: 99.85% / new: 0.15%\n",
            "2020　old: 99.85% / new: 0.15%\n",
            "-------------- 破天荒 --------------\n",
            "2007　old: 11.43% / new: 88.57%\n",
            "2008　old: 9.46% / new: 90.54%\n",
            "2009　old: 3.18% / new: 96.82%\n",
            "2010　old: 2.20% / new: 97.80%\n",
            "2011　old: 5.02% / new: 94.98%\n",
            "2012　old: 3.53% / new: 96.47%\n",
            "2013　old: 1.62% / new: 98.38%\n",
            "2014　old: 1.44% / new: 98.56%\n",
            "2015　old: 1.12% / new: 98.88%\n",
            "2016　old: 1.35% / new: 98.65%\n",
            "2017　old: 1.10% / new: 98.90%\n",
            "2018　old: 0.69% / new: 99.31%\n",
            "2019　old: 0.55% / new: 99.45%\n",
            "2020　old: 0.59% / new: 99.41%\n",
            "-------------- 役不足 --------------\n",
            "2007　old: 100.00% / new: 0.00%\n",
            "2008　old: 100.00% / new: 0.00%\n",
            "2009　old: 99.91% / new: 0.09%\n",
            "2010　old: 99.95% / new: 0.05%\n",
            "2011　old: 99.92% / new: 0.08%\n",
            "2012　old: 99.97% / new: 0.03%\n",
            "2013　old: 99.92% / new: 0.08%\n",
            "2014　old: 99.89% / new: 0.11%\n",
            "2015　old: 99.96% / new: 0.04%\n",
            "2016　old: 99.99% / new: 0.01%\n",
            "2017　old: 99.99% / new: 0.01%\n",
            "2018　old: 99.94% / new: 0.06%\n",
            "2019　old: 99.95% / new: 0.05%\n",
            "2020　old: 99.97% / new: 0.03%\n",
            "-------------- 確信犯 --------------\n",
            "2007　old: 29.61% / new: 70.39%\n",
            "2008　old: 39.31% / new: 60.69%\n",
            "2009　old: 33.09% / new: 66.91%\n",
            "2010　old: 28.94% / new: 71.06%\n",
            "2011　old: 32.65% / new: 67.35%\n",
            "2012　old: 35.00% / new: 65.00%\n",
            "2013　old: 39.63% / new: 60.37%\n",
            "2014　old: 39.36% / new: 60.64%\n",
            "2015　old: 33.89% / new: 66.11%\n",
            "2016　old: 42.55% / new: 57.45%\n",
            "2017　old: 65.56% / new: 34.44%\n",
            "2018　old: 13.84% / new: 86.16%\n",
            "2019　old: 44.87% / new: 55.13%\n",
            "2020　old: 43.23% / new: 56.77%\n",
            "-------------- 炎上 --------------\n",
            "2007　old: 4.12% / new: 95.88%\n",
            "2008　old: 4.02% / new: 95.98%\n",
            "2009　old: 7.52% / new: 92.48%\n",
            "2010　old: 3.81% / new: 96.19%\n",
            "2011　old: 3.21% / new: 96.79%\n",
            "2012　old: 2.93% / new: 97.07%\n",
            "2013　old: 10.29% / new: 89.71%\n",
            "2014　old: 6.30% / new: 93.70%\n",
            "2015　old: 4.49% / new: 95.51%\n",
            "2016　old: 1.42% / new: 98.58%\n",
            "2017　old: 2.28% / new: 97.72%\n",
            "2018　old: 1.65% / new: 98.35%\n",
            "2019　old: 1.46% / new: 98.54%\n",
            "2020　old: 1.12% / new: 98.88%\n",
            "-------------- 草 --------------\n",
            "2007　old: 15.22% / new: 84.78%\n",
            "2008　old: 15.07% / new: 84.93%\n",
            "2009　old: 13.70% / new: 86.30%\n",
            "2010　old: 12.02% / new: 87.98%\n",
            "2011　old: 14.16% / new: 85.84%\n",
            "2012　old: 13.09% / new: 86.91%\n",
            "2013　old: 9.42% / new: 90.58%\n",
            "2014　old: 10.20% / new: 89.80%\n",
            "2015　old: 13.57% / new: 86.43%\n",
            "2016　old: 9.28% / new: 90.72%\n",
            "2017　old: 7.30% / new: 92.70%\n",
            "2018　old: 3.20% / new: 96.80%\n",
            "2019　old: 3.88% / new: 96.12%\n",
            "2020　old: 4.52% / new: 95.48%\n",
            "-------------- 須く --------------\n",
            "2007　old: 100.00% / new: 0.00%\n",
            "2008　old: 88.57% / new: 11.43%\n",
            "2009　old: 81.13% / new: 18.87%\n",
            "2010　old: 85.46% / new: 14.54%\n",
            "2011　old: 83.09% / new: 16.91%\n",
            "2012　old: 89.27% / new: 10.73%\n",
            "2013　old: 89.64% / new: 10.36%\n",
            "2014　old: 82.58% / new: 17.42%\n",
            "2015　old: 90.45% / new: 9.55%\n",
            "2016　old: 74.24% / new: 25.76%\n",
            "2017　old: 79.57% / new: 20.43%\n",
            "2018　old: 93.20% / new: 6.80%\n",
            "2019　old: 90.80% / new: 9.20%\n",
            "2020　old: 90.25% / new: 9.75%\n"
          ]
        },
        {
          "name": "stderr",
          "output_type": "stream",
          "text": [
            "WARNING:matplotlib.backends.backend_ps:The PostScript backend does not support transparency; partially transparent artists will be rendered opaque.\n"
          ]
        },
        {
          "data": {
            "image/png": "[encoded data removed]",
            "text/plain": [
              "<Figure size 720x2160 with 12 Axes>"
            ]
          },
          "metadata": {},
          "output_type": "display_data"
        }
      ],
      "source": [
        "import japanize_matplotlib\n",
        "import matplotlib.pyplot as plt\n",
        "\n",
        "with open(base_dir + \"result_data.json\") as f:\n",
        "    result_data = json.load(f)\n",
        "fig, ax = plt.subplots(\n",
        "    len(result_data[\"data\"]),\n",
        "    1,\n",
        "    figsize=(10, 30),\n",
        "    sharex=True,\n",
        "    sharey=True,\n",
        "    tight_layout=True,\n",
        ")\n",
        "for index, word in enumerate(result_data[\"data\"]):\n",
        "    print(\"-------------- \" + word + \" --------------\")\n",
        "    item = result_data[\"data\"][word]\n",
        "    ax[index].set_title(word)\n",
        "    ax[index].set_xticks(range(2007, 2021))\n",
        "    ax[index].set_xlabel(\"年\")\n",
        "    ax[index].set_ylabel(\"取得Tweetに占める割合\")\n",
        "    bar1 = ax[index].bar(\n",
        "        range(2007, 2021),\n",
        "        [item[y][\"old\"] / item[y][\"total\"]*100 for y in item],\n",
        "        label=\"元々の用法\",\n",
        "    )\n",
        "    ax[index].bar_label(bar1, label_type=\"center\", fmt=\"%.2f%%\")\n",
        "    bar2 = ax[index].bar(\n",
        "        range(2007, 2021),\n",
        "        [item[y][\"new\"] / item[y][\"total\"]*100 for y in item],\n",
        "        bottom=[item[y][\"old\"] / item[y][\"total\"]*100 for y in item],\n",
        "        label=\"近年の用法\",\n",
        "    )\n",
        "    ax[index].bar_label(bar2, label_type=\"center\", fmt=\"%.2f%%\")\n",
        "    ax[index].legend(loc=1)\n",
        "    for year in item:\n",
        "        i = item[year]\n",
        "        print(\n",
        "            str(year)\n",
        "            + \"　old: {:.2%} / new: {:.2%}\".format(\n",
        "                i[\"old\"] / i[\"total\"], i[\"new\"] / i[\"total\"]\n",
        "            )\n",
        "        )\n",
        "plt.savefig(base_dir + \"result-12-13.eps\")\n",
        "plt.show()"
      ]
    },
    {
      "cell_type": "markdown",
      "metadata": {
        "id": "kgnOijt3M5A6"
      },
      "source": [
        "### 保存後処理"
      ]
    },
    {
      "cell_type": "code",
      "execution_count": null,
      "metadata": {
        "id": "pkCcMEOnM_PF"
      },
      "outputs": [],
      "source": [
        "# formatter\n",
        "!pip install -q black[jupyter]\n",
        "!black \"/content/drive/MyDrive/Colab Notebooks/bertClustering.ipynb\""
      ]
    },
    {
      "cell_type": "markdown",
      "metadata": {
        "id": "ezlvBruHUPFG"
      },
      "source": [
        "### その他"
      ]
    },
    {
      "cell_type": "code",
      "execution_count": null,
      "metadata": {
        "id": "KyONTzTQUY6H"
      },
      "outputs": [],
      "source": [
        "from tensorflow.python.client import device_lib\n",
        "import tensorflow as tf\n",
        "from psutil import virtual_memory\n",
        "\n",
        "# RAMのサイズをcheck\n",
        "ram_gb = virtual_memory().total / 1e9\n",
        "print(\"Your runtime has {:.1f} gigabytes of available RAM\\n\".format(ram_gb))\n",
        "\n",
        "if ram_gb < 20:\n",
        "    print(\"Not using a high-RAM runtime\")\n",
        "else:\n",
        "    print(\"You are using a high-RAM runtime!\")\n",
        "# GPUの数をcheck\n",
        "print(\"Num GPUs Available: \", len(tf.config.list_physical_devices(\"GPU\")))\n",
        "# Check GPU recognized\n",
        "print(device_lib.list_local_devices())"
      ]
    }
  ],
  "metadata": {
    "accelerator": "GPU",
    "colab": {
      "collapsed_sections": [
        "kgnOijt3M5A6",
        "ezlvBruHUPFG"
      ],
      "provenance": [],
      "authorship_tag": "ABX9TyPxqoPg1XDdV6oP4jGZjLAw",
      "include_colab_link": true
    },
    "gpuClass": "premium",
    "kernelspec": {
      "display_name": "Python 3",
      "name": "python3"
    },
    "language_info": {
      "name": "python"
    }
  },
  "nbformat": 4,
  "nbformat_minor": 0
}